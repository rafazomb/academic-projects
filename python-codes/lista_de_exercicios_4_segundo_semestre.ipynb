{
  "nbformat": 4,
  "nbformat_minor": 0,
  "metadata": {
    "colab": {
      "provenance": [],
      "authorship_tag": "ABX9TyORBps3aydHu5QViav5g+HC",
      "include_colab_link": true
    },
    "kernelspec": {
      "name": "python3",
      "display_name": "Python 3"
    },
    "language_info": {
      "name": "python"
    }
  },
  "cells": [
    {
      "cell_type": "markdown",
      "metadata": {
        "id": "view-in-github",
        "colab_type": "text"
      },
      "source": [
        "<a href=\"https://colab.research.google.com/github/rafazomb/academic-projects/blob/main/lista_de_exercicios_4_segundo_semestre.ipynb\" target=\"_parent\"><img src=\"https://colab.research.google.com/assets/colab-badge.svg\" alt=\"Open In Colab\"/></a>"
      ]
    },
    {
      "cell_type": "code",
      "execution_count": null,
      "metadata": {
        "colab": {
          "base_uri": "https://localhost:8080/"
        },
        "id": "DrDseOCQpgLx",
        "outputId": "b6f13ede-54f2-4b1e-a9c1-41c404502b39"
      },
      "outputs": [
        {
          "output_type": "stream",
          "name": "stdout",
          "text": [
            "Digite um número para saber se é primo(1) ou não(0): 97\n",
            "1\n"
          ]
        }
      ],
      "source": [
        "#Exercicio 11\n",
        "#Nome: Rafael Henrique\n",
        "#Prof: Jose Fernando\n",
        "def verificaPrimo(test):\n",
        "  resul = 0\n",
        "  div = 2\n",
        "  while div<test:\n",
        "    if test % div == 0:\n",
        "      break\n",
        "    div += 1\n",
        "    if test == div:\n",
        "      resul = 1\n",
        "  if test == 2:\n",
        "    resul = 1\n",
        "  return resul\n",
        "\n",
        "nume = 0\n",
        "nume = int(input(\"Digite um número para saber se é primo(1) ou não(0): \"))\n",
        "print(verificaPrimo(nume))"
      ]
    },
    {
      "cell_type": "code",
      "source": [
        "#Exercicio 12\n",
        "#Nome: Rafael Henrique\n",
        "#Prof: Jose Fernando\n",
        "def calculaPotencia(base,expo):\n",
        "  resul = base**expo\n",
        "  return resul\n",
        "\n",
        "nume1 = 0\n",
        "nume2 = 0\n",
        "nume1 = int(input(\"Digite a base da potencia: \"))\n",
        "nume2 = int(input(\"Digite o expoente da potencia: \"))\n",
        "print(\"resultado é\",calculaPotencia(nume1,nume2))"
      ],
      "metadata": {
        "colab": {
          "base_uri": "https://localhost:8080/"
        },
        "id": "wZ1L0iSnui2F",
        "outputId": "c9de60b6-fe60-41e7-bae8-0ec1edb976de"
      },
      "execution_count": null,
      "outputs": [
        {
          "output_type": "stream",
          "name": "stdout",
          "text": [
            "Digite a base da potencia: 3\n",
            "Digite o expoente da potencia: 2\n",
            "resultado é 9\n"
          ]
        }
      ]
    },
    {
      "cell_type": "code",
      "source": [
        "#Exercicio 13\n",
        "#Nome: Rafael Henrique\n",
        "#Prof: Jose Fernando\n",
        "def inverteLista(atsil):\n",
        "  atsil.reverse()\n",
        "  return (atsil)\n",
        "\n",
        "lista = []\n",
        "nume = 1\n",
        "while nume != 0:\n",
        "  nume = int(input(\"Digite um número para lista ou 0 para finalizar: \"))\n",
        "  if nume == 0:\n",
        "    break\n",
        "  lista.append(nume)\n",
        "print(inverteLista(lista))"
      ],
      "metadata": {
        "colab": {
          "base_uri": "https://localhost:8080/"
        },
        "id": "Kj4zEoKhvMu9",
        "outputId": "d22a2b8c-18d1-4aa2-d507-5065fc65badc"
      },
      "execution_count": null,
      "outputs": [
        {
          "output_type": "stream",
          "name": "stdout",
          "text": [
            "Digite um número para lista ou 0 para finalizar: 2\n",
            "Digite um número para lista ou 0 para finalizar: 3\n",
            "Digite um número para lista ou 0 para finalizar: 8\n",
            "Digite um número para lista ou 0 para finalizar: 4\n",
            "Digite um número para lista ou 0 para finalizar: 6\n",
            "Digite um número para lista ou 0 para finalizar: 2\n",
            "Digite um número para lista ou 0 para finalizar: 4\n",
            "Digite um número para lista ou 0 para finalizar: 1\n",
            "Digite um número para lista ou 0 para finalizar: 0\n",
            "[1, 4, 2, 6, 4, 8, 3, 2]\n"
          ]
        }
      ]
    },
    {
      "cell_type": "code",
      "source": [
        "#Exercicio 14\n",
        "#Nome: Rafael Henrique\n",
        "#Prof: Jose Fernando\n",
        "def calculaMDC(divi1,divi2):\n",
        "  cont = 1\n",
        "  while cont <=divi1 and cont <=divi2:\n",
        "    if divi1 % cont == 0 and divi2 % cont == 0:\n",
        "      MDC = cont\n",
        "    cont += 1\n",
        "  return MDC\n",
        "\n",
        "nume1 = 0\n",
        "nume2 = 0\n",
        "nume1 = int(input(\"Digite o primeiro numero: \"))\n",
        "nume2 = int(input(\"Digite o segundo numero: \"))\n",
        "print(\"O mdc desses numeros é\",calculaMDC(nume1,nume2))"
      ],
      "metadata": {
        "colab": {
          "base_uri": "https://localhost:8080/"
        },
        "id": "M1ZTBILww32F",
        "outputId": "0af69b05-5b9a-4507-fcde-67580ead8ef9"
      },
      "execution_count": null,
      "outputs": [
        {
          "output_type": "stream",
          "name": "stdout",
          "text": [
            "Digite o primeiro numero: 9\n",
            "Digite o segundo numero: 21\n",
            "O mdc desses numeros é 3\n"
          ]
        }
      ]
    },
    {
      "cell_type": "code",
      "source": [
        "#Exercicio 15\n",
        "#Nome: Rafael Henrique\n",
        "#Prof: Jose Fernando\n",
        "def calculaFibonacci(posi):\n",
        "  cont = 1\n",
        "  F0 = 0\n",
        "  F1 = 1\n",
        "  if posi == 0:\n",
        "    resul = F0\n",
        "  elif posi == 1:\n",
        "    resul = F1\n",
        "  else:\n",
        "    while cont<posi:\n",
        "      Fibo = F0 + F1\n",
        "      F0 = F1\n",
        "      F1 = Fibo\n",
        "      cont += 1\n",
        "    resul = Fibo\n",
        "  return resul\n",
        "\n",
        "nume = 0\n",
        "nume = int(input(\"Digite a posição de fibonacci desejada(somente numeros positivos): \"))\n",
        "if nume<0:\n",
        "  nume *= -1\n",
        "print(calculaFibonacci(nume))"
      ],
      "metadata": {
        "colab": {
          "base_uri": "https://localhost:8080/"
        },
        "id": "n7TGKxVgy4Ct",
        "outputId": "f9e9cc7c-b835-48e3-ac83-1c5213cbf54f"
      },
      "execution_count": null,
      "outputs": [
        {
          "output_type": "stream",
          "name": "stdout",
          "text": [
            "Digite a posição de fibonacci desejada(somente numeros positivos): 7\n",
            "13\n"
          ]
        }
      ]
    },
    {
      "cell_type": "code",
      "source": [
        "#Exercicio 16\n",
        "#Nome: Rafael Henrique\n",
        "#Prof: Jose Fernando\n",
        "def contaCaracteres(frase,letra):\n",
        "  cont = 0\n",
        "  for x in frase:\n",
        "    if x == letra:\n",
        "      cont += 1\n",
        "  return cont\n",
        "\n",
        "palavras = \"\"\n",
        "veri = \"\"\n",
        "palavras = str(input(\"Digite uma frases: \"))\n",
        "veri = str(input(\"Digite a letra que quer verificar(sensivel a acentos e caps): \"))\n",
        "print(\"o numero de vezes que essa letra aparece é\",contaCaracteres(palavras,veri))"
      ],
      "metadata": {
        "colab": {
          "base_uri": "https://localhost:8080/"
        },
        "id": "LFWPZJAB1rP7",
        "outputId": "81767ef7-f549-4ca6-c72e-bb133f2d5849"
      },
      "execution_count": null,
      "outputs": [
        {
          "output_type": "stream",
          "name": "stdout",
          "text": [
            "Digite uma frases: ola mundo\n",
            "Digite a letra que quer verificar(sensivel a acentos e caps): o\n",
            "o numero de vezes que essa letra aparece é 2\n"
          ]
        }
      ]
    },
    {
      "cell_type": "code",
      "source": [
        "#Exercicio 17\n",
        "#Nome: Rafael Henrique\n",
        "#Prof: Jose Fernando\n",
        "def calculaMediaMatriz(matr,nLinhas,nColunas):\n",
        "  resul = 0\n",
        "  total = nLinhas * nColunas\n",
        "  for x in matr:\n",
        "    resul += sum(x)\n",
        "  resul /= total\n",
        "  return resul\n",
        "\n",
        "coluna = []\n",
        "matriz = []\n",
        "nume = 0\n",
        "linhas = 0\n",
        "colunas = 0\n",
        "linhas = int(input(\"Digite o numero de linhas dessa matriz: \"))\n",
        "colunas = int(input(\"Digite o numero de colunas dessa matriz: \"))\n",
        "for x in range(colunas):\n",
        "  for x in range(linhas):\n",
        "    nume = int(input(\"Digite um número para matriz: \"))\n",
        "    coluna.append(nume)\n",
        "  matriz.append(coluna)\n",
        "  coluna = []\n",
        "print(calculaMediaMatriz(matriz,linhas,colunas),\"é a media dessa matriz.\")"
      ],
      "metadata": {
        "colab": {
          "base_uri": "https://localhost:8080/"
        },
        "id": "ejDRFC-13Ewr",
        "outputId": "c8ba410e-f42a-4aba-f585-91d94d1f2fcf"
      },
      "execution_count": null,
      "outputs": [
        {
          "output_type": "stream",
          "name": "stdout",
          "text": [
            "Digite o numero de linhas dessa matriz: 3\n",
            "Digite o numero de colunas dessa matriz: 3\n",
            "Digite um número para matriz: 1\n",
            "Digite um número para matriz: 3\n",
            "Digite um número para matriz: 5\n",
            "Digite um número para matriz: 3\n",
            "Digite um número para matriz: 5\n",
            "Digite um número para matriz: 1\n",
            "Digite um número para matriz: 5\n",
            "Digite um número para matriz: 1\n",
            "Digite um número para matriz: 3\n",
            "3.0 é a media dessa matriz.\n"
          ]
        }
      ]
    },
    {
      "cell_type": "code",
      "source": [
        "#Exercicio 18\n",
        "#Nome: Rafael Henrique\n",
        "#Prof: Jose Fernando\n",
        "def invertePalavra(palavra):\n",
        "  inver = \"\"\n",
        "  for x in palavra:\n",
        "    inver = x + inver\n",
        "  return inver\n",
        "\n",
        "frase = \"\"\n",
        "frase = str(input(\"Digite uma palavra para inverter: \"))\n",
        "print(invertePalavra(frase))"
      ],
      "metadata": {
        "colab": {
          "base_uri": "https://localhost:8080/"
        },
        "id": "7ITgpo_b6Iox",
        "outputId": "9cddd735-7d0f-4b6b-e2b0-14580a966d3a"
      },
      "execution_count": null,
      "outputs": [
        {
          "output_type": "stream",
          "name": "stdout",
          "text": [
            "Digite uma palavra para inverter: Mundo\n",
            "odnuM\n"
          ]
        }
      ]
    },
    {
      "cell_type": "code",
      "source": [
        "#Exercicio 19\n",
        "#Nome: Rafael Henrique\n",
        "#Prof: Jose Fernando\n",
        "def calculaMediaPonderada(nota,peso,tamanho):\n",
        "  cont = 0\n",
        "  media = 0\n",
        "  while cont < tamanho:\n",
        "    media += nota[cont] * peso[cont]\n",
        "    cont += 1\n",
        "  media /= sum(peso)\n",
        "  return media\n",
        "\n",
        "notas = []\n",
        "pesos = []\n",
        "nume = 0\n",
        "while nume>-1:\n",
        "  nume = int(input(\"Digite a nota ou um valor menor que 0 para finalizar: \"))\n",
        "  if nume>-1:\n",
        "    notas.append(nume)\n",
        "    nume = int(input(\"Digite o peso dessa nota ou um numero menor que 0 para finalizar: \"))\n",
        "    if nume>-1:\n",
        "      pesos.append(nume)\n",
        "print(\"A media dessas notas é\",calculaMediaPonderada(notas,pesos,len(notas)))"
      ],
      "metadata": {
        "colab": {
          "base_uri": "https://localhost:8080/"
        },
        "id": "1wpDU9Df7C3_",
        "outputId": "a620edef-31c3-4dbe-dfab-09a951ff0304"
      },
      "execution_count": null,
      "outputs": [
        {
          "output_type": "stream",
          "name": "stdout",
          "text": [
            "Digite a nota ou um valor menor que 0 para finalizar: 2\n",
            "Digite o peso dessa nota ou um numero menor que 0 para finalizar: 1\n",
            "Digite a nota ou um valor menor que 0 para finalizar: 5\n",
            "Digite o peso dessa nota ou um numero menor que 0 para finalizar: 3\n",
            "Digite a nota ou um valor menor que 0 para finalizar: 6\n",
            "Digite o peso dessa nota ou um numero menor que 0 para finalizar: 2\n",
            "Digite a nota ou um valor menor que 0 para finalizar: 8\n",
            "Digite o peso dessa nota ou um numero menor que 0 para finalizar: 3\n",
            "Digite a nota ou um valor menor que 0 para finalizar: 9\n",
            "Digite o peso dessa nota ou um numero menor que 0 para finalizar: 1\n",
            "Digite a nota ou um valor menor que 0 para finalizar: -1\n",
            "A media dessas notas é 6.2\n"
          ]
        }
      ]
    },
    {
      "cell_type": "code",
      "source": [
        "#Exercicio 20\n",
        "#Nome: Rafael Henrique\n",
        "#Prof: Jose Fernando\n",
        "def maiorMenor(lista,tamanho):\n",
        "  maior = max(lista)\n",
        "  menor = min(lista)\n",
        "  return maior,menor\n",
        "\n",
        "numeros = []\n",
        "nume = 0\n",
        "cont = 0\n",
        "quant = 0\n",
        "quant = int(input(\"Digite o tamanho da lista: \"))\n",
        "while cont < quant :\n",
        "  nume = int(input(\"Digite um número para lista: \"))\n",
        "  numeros.append(nume)\n",
        "  cont += 1\n",
        "print(\"O maior e o menor numero da lista sao respectivamente:\",maiorMenor(numeros,quant))"
      ],
      "metadata": {
        "colab": {
          "base_uri": "https://localhost:8080/"
        },
        "id": "Yvsvhs1W_HG-",
        "outputId": "b826193d-44e2-4de8-cad1-224eba3dc9b5"
      },
      "execution_count": null,
      "outputs": [
        {
          "output_type": "stream",
          "name": "stdout",
          "text": [
            "Digite o tamanho da lista: 10\n",
            "Digite um número para lista: 8\n",
            "Digite um número para lista: 6\n",
            "Digite um número para lista: 4\n",
            "Digite um número para lista: 9\n",
            "Digite um número para lista: 2\n",
            "Digite um número para lista: 14\n",
            "Digite um número para lista: 5\n",
            "Digite um número para lista: -1\n",
            "Digite um número para lista: 0\n",
            "Digite um número para lista: 7\n",
            "O maior e o menor numero da lista sao respectivamente: (14, -1)\n"
          ]
        }
      ]
    }
  ]
}
