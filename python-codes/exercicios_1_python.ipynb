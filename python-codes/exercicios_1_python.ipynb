{
  "nbformat": 4,
  "nbformat_minor": 0,
  "metadata": {
    "colab": {
      "provenance": [],
      "authorship_tag": "ABX9TyOZ4dhAsXZXlc7zC84T/Tnv",
      "include_colab_link": true
    },
    "kernelspec": {
      "name": "python3",
      "display_name": "Python 3"
    },
    "language_info": {
      "name": "python"
    }
  },
  "cells": [
    {
      "cell_type": "markdown",
      "metadata": {
        "id": "view-in-github",
        "colab_type": "text"
      },
      "source": [
        "<a href=\"https://colab.research.google.com/github/rafazomb/academic-projects/blob/main/exercicios_1_python.ipynb\" target=\"_parent\"><img src=\"https://colab.research.google.com/assets/colab-badge.svg\" alt=\"Open In Colab\"/></a>"
      ]
    },
    {
      "cell_type": "code",
      "execution_count": null,
      "metadata": {
        "colab": {
          "base_uri": "https://localhost:8080/"
        },
        "id": "2bQYi4O0jm8I",
        "outputId": "02fc0301-f4af-41f7-bcf0-6774434bb747"
      },
      "outputs": [
        {
          "output_type": "stream",
          "name": "stdout",
          "text": [
            "Rafael H.\n",
            "X= 73.0\n"
          ]
        }
      ],
      "source": [
        "#Exercício 1:\n",
        "#Rafael Henrique de Andrade Caratenuto\n",
        "#Prof Carmen Lucia\n",
        "#Descrição: exibir o nome na tela e o calculo pedido\n",
        "print(\"Rafael H.\")\n",
        "print(\"X=\",67+(120/20))"
      ]
    },
    {
      "cell_type": "code",
      "source": [
        "#Exercício 2:\n",
        "#Rafael Henrique de Andrade Caratenuto\n",
        "#Prof Carmen Lucia\n",
        "#Descrição: rodar programa ja escrito\n",
        "#Programa 1\n",
        "num = int(input(\"Digite o numero de cachorros: \"))\n",
        "print(\"eu tenho\",num,\" cachorros\")"
      ],
      "metadata": {
        "colab": {
          "base_uri": "https://localhost:8080/"
        },
        "id": "_k-yNqfLm-Vj",
        "outputId": "c187c3a2-3223-4f5a-9c44-b5ddca566ac0"
      },
      "execution_count": null,
      "outputs": [
        {
          "output_type": "stream",
          "name": "stdout",
          "text": [
            "Digite o numero de cachorros: 2\n",
            "eu tenho 2  cachorros\n"
          ]
        }
      ]
    },
    {
      "cell_type": "code",
      "source": [
        "#Exercício 3:\n",
        "#Rafael Henrique de Andrade Caratenuto\n",
        "#Prof Carmen Lucia\n",
        "#Descrição: teste de calculos basicos\n",
        "print(\"2+2=\",2+2)\n",
        "print(\"2-2=\",2-2)\n",
        "print(\"2*2=\",2*2)\n",
        "print(\"2/2=\",2/2)\n",
        "print(\"3//2=\",3//2)\n",
        "print(\"3%2=\",3%2)\n",
        "print(\"2**2=\",2**2)"
      ],
      "metadata": {
        "colab": {
          "base_uri": "https://localhost:8080/"
        },
        "id": "w_Z6GKj_nKvz",
        "outputId": "507b8a06-6892-4f4e-b2d3-b95e3821ebf7"
      },
      "execution_count": null,
      "outputs": [
        {
          "output_type": "stream",
          "name": "stdout",
          "text": [
            "2+2= 4\n",
            "2-2= 0\n",
            "2*2= 4\n",
            "2/2= 1.0\n",
            "3//2= 1\n",
            "3%2= 1\n",
            "2**2= 4\n"
          ]
        }
      ]
    },
    {
      "cell_type": "code",
      "source": [
        "#Exercício 4:\n",
        "#Rafael Henrique de Andrade Caratenuto\n",
        "#Prof Carmen Lucia\n",
        "#Descrição: rodar programa ja escrito\n",
        "#Programa 2\n",
        "num = int(input(\"digite o primeiro numero: \"))\n",
        "num2 = int(input(\"digite o segundo numero: \"))\n",
        "print(num,\"+\",num2,\"=\",num+num2)\n",
        "print(num,\"-\",num2,\"=\",num-num2)\n",
        "print(num,\"x\",num2,\"=\",num*num2)\n",
        "print(num,\"//\",num2,\"=\",num//num2)"
      ],
      "metadata": {
        "colab": {
          "base_uri": "https://localhost:8080/"
        },
        "id": "03pTFzYypOcH",
        "outputId": "668af3a7-2e52-4d0d-a256-9420e390f53d"
      },
      "execution_count": null,
      "outputs": [
        {
          "output_type": "stream",
          "name": "stdout",
          "text": [
            "digite o primeiro numero: 5\n",
            "digite o segundo numero: 2\n",
            "5 + 2 = 7\n",
            "5 - 2 = 3\n",
            "5 x 2 = 10\n",
            "5 // 2 = 2\n"
          ]
        }
      ]
    },
    {
      "cell_type": "code",
      "source": [
        "#Exercício 5:\n",
        "#Rafael Henrique de Andrade Caratenuto\n",
        "#Prof Carmen Lucia\n",
        "#Descrição: calculo de media do bimestre\n",
        "resp = \"S\"\n",
        "while resp!=\"N\":\n",
        " algo = int(input(\"Digite a nota de algorítimo: \"))\n",
        " mate = int(input(\"Digite a nota de matemática: \"))\n",
        " ardu = int(input(\"Digite a nota de arduíno: \"))\n",
        " ing = int(input(\"Digite a nota de inglês: \"))\n",
        " print(\"A média desse aluno é: \",(algo+mate+ardu+ing)/4)\n",
        " resp = str(input(\"Deseja calcular de mais alunos?(S ou N)\"))\n",
        " print(\"---------------------------\")"
      ],
      "metadata": {
        "colab": {
          "base_uri": "https://localhost:8080/"
        },
        "id": "f5XaWD8crOZl",
        "outputId": "425143b4-7faf-40f4-bc7f-cad3b25aad79"
      },
      "execution_count": null,
      "outputs": [
        {
          "output_type": "stream",
          "name": "stdout",
          "text": [
            "Digite a nota de algorítimo: 10\n",
            "Digite a nota de matemática: 8\n",
            "Digite a nota de arduíno: 9\n",
            "Digite a nota de inglês: 9\n",
            "A média desse aluno é:  9.0\n",
            "Deseja calcular de mais alunos?(S ou N)S\n",
            "---------------------------\n",
            "Digite a nota de algorítimo: 8\n",
            "Digite a nota de matemática: 6\n",
            "Digite a nota de arduíno: 7\n",
            "Digite a nota de inglês: 9\n",
            "A média desse aluno é:  7.5\n",
            "Deseja calcular de mais alunos?(S ou N)N\n",
            "---------------------------\n"
          ]
        }
      ]
    },
    {
      "cell_type": "code",
      "source": [
        "#Exercício 6:\n",
        "#Rafael Henrique de Andrade Caratenuto\n",
        "#Prof Carmen Lucia\n",
        "#Descrição: dia da semana baseado em numero\n",
        "dia = int(input(\"Digite um número entre 1 e 7: \"))\n",
        "if dia == 1:\n",
        "  print(\"Domingo\")\n",
        "elif dia == 2:\n",
        "  print(\"Segunda feira\")\n",
        "elif dia == 3:\n",
        "  print(\"Terça feira\")\n",
        "elif dia == 4:\n",
        "  print(\"Quarta feira\")\n",
        "elif dia == 5:\n",
        "  print(\"Quinta feira\")\n",
        "elif dia == 6:\n",
        "  print(\"Sexta feira\")\n",
        "elif dia == 7:\n",
        "  print(\"Sábado\")\n",
        "else:\n",
        "  print(\"Número não esta entre 1 e 7\")"
      ],
      "metadata": {
        "colab": {
          "base_uri": "https://localhost:8080/"
        },
        "id": "nFVe8l9uz31O",
        "outputId": "67205e1e-944d-46d6-d17a-e293821af5f0"
      },
      "execution_count": null,
      "outputs": [
        {
          "output_type": "stream",
          "name": "stdout",
          "text": [
            "Digite um número entre 1 e 7: 5\n",
            "Quinta feira\n"
          ]
        }
      ]
    },
    {
      "cell_type": "code",
      "source": [
        "#Exercício 1 parte 2:\n",
        "#Rafael Henrique de Andrade Caratenuto\n",
        "#Prof Carmen Lucia\n",
        "#Descrição: mostra número decomposto\n",
        "cont = \"S\"\n",
        "nume = 801\n",
        "while cont!=\"N\":\n",
        " while nume>=800:\n",
        "  nume = int(input(\"Digite um número menor que 800: \"))\n",
        " cent = nume//100\n",
        " deze = (nume//10)-cent*10\n",
        " unid = (nume//1)-cent*100-deze*10\n",
        " print(\"Decompondo o número\",nume,\"fica:\")\n",
        " if cent>=1:\n",
        "   print(cent,\"centenas\")\n",
        " if deze>=1:\n",
        "   print(deze,\"dezenas\")\n",
        " if unid>=1:\n",
        "   print(unid,\"unidades\")\n",
        " cont = str(input(\"Deseja decompor outro número?(S ou N) \"))\n",
        " nume = 801"
      ],
      "metadata": {
        "colab": {
          "base_uri": "https://localhost:8080/"
        },
        "id": "7xPXb59n1Zsp",
        "outputId": "a2c2cb9f-93bb-4d20-bf53-476ebf568cb9"
      },
      "execution_count": null,
      "outputs": [
        {
          "name": "stdout",
          "output_type": "stream",
          "text": [
            "Digite um número menor que 800: 305\n",
            "Decompondo o número 305 fica:\n",
            "3 centenas\n",
            "5 unidades\n",
            "Deseja decompor outro número?(S ou N) S\n",
            "Digite um número menor que 800: 10\n",
            "Decompondo o número 10 fica:\n",
            "1 dezenas\n",
            "Deseja decompor outro número?(S ou N) S\n",
            "Digite um número menor que 800: 21\n",
            "Decompondo o número 21 fica:\n",
            "2 dezenas\n",
            "1 unidades\n",
            "Deseja decompor outro número?(S ou N) S\n",
            "Digite um número menor que 800: 300\n",
            "Decompondo o número 300 fica:\n",
            "3 centenas\n",
            "Deseja decompor outro número?(S ou N) S\n",
            "Digite um número menor que 800: 326\n",
            "Decompondo o número 326 fica:\n",
            "3 centenas\n",
            "2 dezenas\n",
            "6 unidades\n",
            "Deseja decompor outro número?(S ou N) N\n"
          ]
        }
      ]
    },
    {
      "cell_type": "code",
      "source": [
        "#Exercício 2 parte 2:\n",
        "#Rafael Henrique de Andrade Caratenuto\n",
        "#Prof Carmen Lucia\n",
        "#Descrição: caixa eletronico\n",
        "saque = str(input(\"Deseja fazer um saque:(S ou N) \"))\n",
        "if saque ==\"S\":\n",
        "  valor = int(input(\"Qual o valor do saque?(mínimo de 10 reais e máximo de 600): \"))\n",
        "  if valor>600:\n",
        "    print(\"Valor não esta dentro dos limites.\")\n",
        "  elif valor<10:\n",
        "    print(\"Valor não esta dentro dos limites.\")\n",
        "  else:\n",
        "    nota100 = int(input(\"Digite o número de notas de 100: \"))\n",
        "    nota50 = int(input(\"Digite o número de notas de 50: \"))\n",
        "    nota20 = int(input(\"Digite o número de notas de 20: \"))\n",
        "    nota10 = int(input(\"Digite o número de notas de 10: \"))\n",
        "    nota5 = int(input(\"Digite o número de notas de 5: \"))\n",
        "    nota1 = int(input(\"Digite o número de notas de 1: \"))\n",
        "    total = nota100*100+nota50*50+nota20*20+nota10*10+nota5*5+nota1*1\n",
        "    if valor == total:\n",
        "      print(\"Valores corretos, saque feito.\")\n",
        "    else:\n",
        "      print(\"Total das notas diferente do valor pedido, saque negado.\")"
      ],
      "metadata": {
        "colab": {
          "base_uri": "https://localhost:8080/"
        },
        "id": "1NFFpYtU4exd",
        "outputId": "b0576924-b10e-40b3-bbcc-1fb04939951b"
      },
      "execution_count": null,
      "outputs": [
        {
          "output_type": "stream",
          "name": "stdout",
          "text": [
            "Deseja fazer um saque:(S ou N) S\n",
            "Qual o valor do saque?(mínimo de 10 reais e máximo de 600): 500\n",
            "Digite o número de notas de 100: 4\n",
            "Digite o número de notas de 50: 1\n",
            "Digite o número de notas de 20: 2\n",
            "Digite o número de notas de 10: 1\n",
            "Digite o número de notas de 5: 0\n",
            "Digite o número de notas de 1: 0\n",
            "Valores corretos, saque feito.\n"
          ]
        }
      ]
    }
  ]
}
