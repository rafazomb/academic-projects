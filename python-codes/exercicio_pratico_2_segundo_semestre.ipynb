{
  "nbformat": 4,
  "nbformat_minor": 0,
  "metadata": {
    "colab": {
      "provenance": [],
      "authorship_tag": "ABX9TyOWQOTdVRJjGgxZDKC9HYWW",
      "include_colab_link": true
    },
    "kernelspec": {
      "name": "python3",
      "display_name": "Python 3"
    },
    "language_info": {
      "name": "python"
    }
  },
  "cells": [
    {
      "cell_type": "markdown",
      "metadata": {
        "id": "view-in-github",
        "colab_type": "text"
      },
      "source": [
        "<a href=\"https://colab.research.google.com/github/rafazomb/academic-projects/blob/main/exercicio_pratico_2_segundo_semestre.ipynb\" target=\"_parent\"><img src=\"https://colab.research.google.com/assets/colab-badge.svg\" alt=\"Open In Colab\"/></a>"
      ]
    },
    {
      "cell_type": "code",
      "execution_count": null,
      "metadata": {
        "colab": {
          "base_uri": "https://localhost:8080/"
        },
        "id": "-vSMt4WJC6Cg",
        "outputId": "fafffe37-247b-4317-9296-842e1868e3e3"
      },
      "outputs": [
        {
          "output_type": "stream",
          "name": "stdout",
          "text": [
            "Digite o primeiro número: 3\n",
            "Digite o segundo número: 2\n",
            "5 é a soma desses números\n"
          ]
        }
      ],
      "source": [
        "#Exercício 1\n",
        "#Nome: Rafael Henrique\n",
        "#Prof: Jose Fernando\n",
        "def soma(prim, segu):\n",
        "  resul = prim + segu\n",
        "  return resul\n",
        "\n",
        "nume1 = 0\n",
        "nume2 = 0\n",
        "conta = 0\n",
        "nume1 = int(input(\"Digite o primeiro número: \"))\n",
        "nume2 = int(input(\"Digite o segundo número: \"))\n",
        "conta = soma(nume1,nume2)\n",
        "print(conta,\"é a soma desses números\")"
      ]
    },
    {
      "cell_type": "code",
      "source": [
        "#Exercício 2\n",
        "#Nome: Rafael Henrique\n",
        "#Prof: Jose Fernando\n",
        "def multiplicacao(prim, segu, terc):\n",
        "  resul = prim * segu * terc\n",
        "  return resul\n",
        "\n",
        "nume1 = 0\n",
        "nume2 = 0\n",
        "nume3 = 0\n",
        "conta = 0\n",
        "nume1 = int(input(\"Digite o primeiro número: \"))\n",
        "nume2 = int(input(\"Digite o segundo número: \"))\n",
        "nume3 = int(input(\"Digite o terceiro número: \"))\n",
        "conta = multiplicacao(nume1, nume2, nume3)\n",
        "print(conta,\"é o produto desses números\")"
      ],
      "metadata": {
        "colab": {
          "base_uri": "https://localhost:8080/"
        },
        "id": "NC3upUYREXr1",
        "outputId": "7c75b05e-ae08-43a7-880a-7e808c136edd"
      },
      "execution_count": null,
      "outputs": [
        {
          "output_type": "stream",
          "name": "stdout",
          "text": [
            "Digite o primeiro número: 3\n",
            "Digite o segundo número: 3\n",
            "Digite o terceiro número: 3\n",
            "27 é o produto desses números\n"
          ]
        }
      ]
    },
    {
      "cell_type": "code",
      "source": [
        "#Exercício 3\n",
        "#Nome: Rafael Henrique\n",
        "#Prof: Jose Fernando\n",
        "def media(nume):\n",
        "  resul = 0.0\n",
        "  total = 0\n",
        "  for num in nume:\n",
        "    resul += num\n",
        "    total += 1\n",
        "  resul = resul/total\n",
        "  return resul\n",
        "\n",
        "lista = []\n",
        "nume = 1\n",
        "while nume != 0:\n",
        "  nume = int(input(\"Digite um número para lista ou 0 para finalizar a lista: \"))\n",
        "  if nume == 0:\n",
        "    break\n",
        "  lista.append(nume)\n",
        "print(media(lista),\"é a media dessa lista\")"
      ],
      "metadata": {
        "colab": {
          "base_uri": "https://localhost:8080/"
        },
        "id": "TBjYPuR3FNWM",
        "outputId": "994f882e-35c2-40bc-fa26-8e8dff0f4db9"
      },
      "execution_count": null,
      "outputs": [
        {
          "output_type": "stream",
          "name": "stdout",
          "text": [
            "Digite um número para lista ou 0 para finalizar a lista: 1\n",
            "Digite um número para lista ou 0 para finalizar a lista: 2\n",
            "Digite um número para lista ou 0 para finalizar a lista: 3\n",
            "Digite um número para lista ou 0 para finalizar a lista: 4\n",
            "Digite um número para lista ou 0 para finalizar a lista: 5\n",
            "Digite um número para lista ou 0 para finalizar a lista: 0\n",
            "3.0 é a media dessa lista\n"
          ]
        }
      ]
    },
    {
      "cell_type": "code",
      "source": [
        "#Exercício 4\n",
        "#Nome: Rafael Henrique\n",
        "#Prof: Jose Fernando\n",
        "def maior_valor(nume):\n",
        "  maior = max(nume)\n",
        "  return maior\n",
        "\n",
        "lista = []\n",
        "nume = 1\n",
        "while nume != 0:\n",
        "  nume = int(input(\"Digite um número para lista ou 0 para finalizar a lista: \"))\n",
        "  if nume == 0:\n",
        "    break\n",
        "  lista.append(nume)\n",
        "print(maior_valor(lista),\"é o maior valor dessa lista\")"
      ],
      "metadata": {
        "colab": {
          "base_uri": "https://localhost:8080/"
        },
        "id": "L0PEHDjqI-fd",
        "outputId": "6ed87dbe-799f-4b37-e2fc-29f7f8175f54"
      },
      "execution_count": null,
      "outputs": [
        {
          "output_type": "stream",
          "name": "stdout",
          "text": [
            "Digite um número para lista ou 0 para finalizar a lista: 1\n",
            "Digite um número para lista ou 0 para finalizar a lista: 2\n",
            "Digite um número para lista ou 0 para finalizar a lista: 3\n",
            "Digite um número para lista ou 0 para finalizar a lista: 40\n",
            "Digite um número para lista ou 0 para finalizar a lista: 5\n",
            "Digite um número para lista ou 0 para finalizar a lista: 0\n",
            "40 é o maior valor dessa lista\n"
          ]
        }
      ]
    },
    {
      "cell_type": "code",
      "source": [
        "#Exercício 5\n",
        "#Nome: Rafael Henrique\n",
        "#Prof: Jose Fernando\n",
        "def contador_vogais(pala):\n",
        "  total = 0\n",
        "  for letra in pala:\n",
        "    if letra == \"a\" or letra == \"A\":\n",
        "      total += 1\n",
        "    elif letra == \"e\" or letra == \"E\":\n",
        "      total += 1\n",
        "    elif letra == \"i\" or letra == \"I\":\n",
        "      total += 1\n",
        "    elif letra == \"o\" or letra == \"O\":\n",
        "      total += 1\n",
        "    elif letra == \"u\" or letra == \"U\":\n",
        "      total += 1\n",
        "  return total\n",
        "frase = \"\"\n",
        "frase = str(input(\"Digite uma frase ou palavra:(sem acentos) \"))\n",
        "print(contador_vogais(frase),\"é o tanto de vogal(s) nessa frase\")"
      ],
      "metadata": {
        "colab": {
          "base_uri": "https://localhost:8080/"
        },
        "id": "5phfNCMEKaDM",
        "outputId": "ef6cd983-f9c1-4e8a-f082-5d493b0e6e0d"
      },
      "execution_count": null,
      "outputs": [
        {
          "output_type": "stream",
          "name": "stdout",
          "text": [
            "Digite uma frase ou palavra:(sem acentos) Ola mundo\n",
            "4 é o tanto de vogal(s) nessa frase\n"
          ]
        }
      ]
    },
    {
      "cell_type": "code",
      "source": [
        "#Exercício 6\n",
        "#Nome: Rafael Henrique\n",
        "#Prof: Jose Fernando\n",
        "def imprime_n_vezes(nume, pala):\n",
        "  cont = 1\n",
        "  while cont <= nume:\n",
        "    print(pala)\n",
        "    cont += 1\n",
        "\n",
        "qnts = 0\n",
        "frase = \"\"\n",
        "frase = str(input(\"Digite uma frase ou palavra: \"))\n",
        "qnts = int(input(\"Digite quantas vezes a frase deve repetir: \"))\n",
        "imprime_n_vezes(qnts,frase)"
      ],
      "metadata": {
        "colab": {
          "base_uri": "https://localhost:8080/"
        },
        "id": "foLuKE5xMts1",
        "outputId": "26f5c0cb-76b1-450a-cf04-1c9bfddd05f3"
      },
      "execution_count": null,
      "outputs": [
        {
          "output_type": "stream",
          "name": "stdout",
          "text": [
            "Digite uma frase ou palavra: Ola mundo\n",
            "Digite quantas vezes a frase deve repetir: 3\n",
            "Ola mundo\n",
            "Ola mundo\n",
            "Ola mundo\n"
          ]
        }
      ]
    },
    {
      "cell_type": "code",
      "source": [
        "#Exercício 7\n",
        "#Nome: Rafael Henrique\n",
        "#Prof: Jose Fernando\n",
        "def inverte_lista(numes):\n",
        "  numes.reverse()\n",
        "  return numes\n",
        "\n",
        "lista = []\n",
        "nume = 1\n",
        "while nume != 0:\n",
        "  nume = int(input(\"Digite um número para lista ou 0 para finalizar a lista: \"))\n",
        "  if nume == 0:\n",
        "    break\n",
        "  lista.append(nume)\n",
        "print(inverte_lista(lista),\"é o inverso dessa lista\")"
      ],
      "metadata": {
        "colab": {
          "base_uri": "https://localhost:8080/"
        },
        "id": "s7kk83YIOSEO",
        "outputId": "dac76ab9-ffbd-4494-a1ec-ec43e595b71c"
      },
      "execution_count": null,
      "outputs": [
        {
          "output_type": "stream",
          "name": "stdout",
          "text": [
            "Digite um número para lista ou 0 para finalizar a lista: 3\n",
            "Digite um número para lista ou 0 para finalizar a lista: 1\n",
            "Digite um número para lista ou 0 para finalizar a lista: 2\n",
            "Digite um número para lista ou 0 para finalizar a lista: 4\n",
            "Digite um número para lista ou 0 para finalizar a lista: 2\n",
            "Digite um número para lista ou 0 para finalizar a lista: 0\n",
            "[2, 4, 2, 1, 3] é o inverso dessa lista\n"
          ]
        }
      ]
    },
    {
      "cell_type": "code",
      "source": [
        "#Exercício 8\n",
        "#Nome: Rafael Henrique\n",
        "#Prof: Jose Fernando\n",
        "def calcula_fatorial(fato):\n",
        "  total = 1\n",
        "  while fato > 0:\n",
        "    total *= fato\n",
        "    fato -= 1\n",
        "  return total\n",
        "\n",
        "nume = 0\n",
        "nume = int(input(\"Digite um número: \"))\n",
        "print(calcula_fatorial(nume),\"é o fatorial desse número\")"
      ],
      "metadata": {
        "colab": {
          "base_uri": "https://localhost:8080/"
        },
        "id": "fKK167HNPNum",
        "outputId": "27095dc6-5046-4a57-9296-b05fd068e4f8"
      },
      "execution_count": null,
      "outputs": [
        {
          "output_type": "stream",
          "name": "stdout",
          "text": [
            "Digite um número: 5\n",
            "120 é o fatorial desse número\n"
          ]
        }
      ]
    },
    {
      "cell_type": "code",
      "source": [
        "#Exercício 9\n",
        "#Nome: Rafael Henrique\n",
        "#Prof: Jose Fernando\n",
        "def soma_intervalo(min,max):\n",
        "  total = 0\n",
        "  while min <= max:\n",
        "    total += max\n",
        "    max -= 1\n",
        "  print(total,\"é a soma dos números entre os dois digitados\")\n",
        "  return\n",
        "\n",
        "nume1 = 0\n",
        "nume2 = 0\n",
        "nume1 = int(input(\"Digite um número: \"))\n",
        "nume2 = int(input(\"Digite outro número: \"))\n",
        "if nume1 < nume2:\n",
        "  soma_intervalo(nume1, nume2)\n",
        "elif nume1 > nume2:\n",
        "  soma_intervalo(nume2, nume1)\n",
        "else:\n",
        "  print(nume1,\"é a soma dos números entre os dois digitados\")"
      ],
      "metadata": {
        "colab": {
          "base_uri": "https://localhost:8080/"
        },
        "id": "si8GZHkgQC5u",
        "outputId": "03bb4406-43df-454b-f707-e689df45beaf"
      },
      "execution_count": null,
      "outputs": [
        {
          "output_type": "stream",
          "name": "stdout",
          "text": [
            "Digite um número: 10\n",
            "Digite outro número: 1\n",
            "55 é a soma dos números entre os dois digitados\n"
          ]
        }
      ]
    },
    {
      "cell_type": "code",
      "source": [
        "#Exercício 10\n",
        "#Nome: Rafael Henrique\n",
        "#Prof: Jose Fernando\n",
        "def conta_palavras(pala):\n",
        "  total = 1\n",
        "  for letra in pala:\n",
        "    if letra == \" \":\n",
        "      total += 1\n",
        "  return total\n",
        "\n",
        "frase = \"\"\n",
        "frase = str(input(\"Digite uma frase ou palavra: \"))\n",
        "print(conta_palavras(frase),\"é o número de palavras nessa frase\")"
      ],
      "metadata": {
        "colab": {
          "base_uri": "https://localhost:8080/"
        },
        "id": "YoXkKojuRvP_",
        "outputId": "6b292177-ed72-4e8a-9ac0-c6b09380e511"
      },
      "execution_count": null,
      "outputs": [
        {
          "output_type": "stream",
          "name": "stdout",
          "text": [
            "Digite uma frase ou palavra: Ola mundo, como esta?\n",
            "4 é o número de palavras nessa frase\n"
          ]
        }
      ]
    },
    {
      "cell_type": "code",
      "source": [
        "#Exercício 11\n",
        "#Nome: Rafael Henrique\n",
        "#Prof: Jose Fernando\n",
        "def acha_menor(nume):\n",
        "  menor = min(nume)\n",
        "  return menor\n",
        "\n",
        "lista = []\n",
        "nume = 1\n",
        "while nume != 0:\n",
        "  nume = int(input(\"Digite um número para lista ou 0 para finalizar a lista: \"))\n",
        "  if nume == 0:\n",
        "    break\n",
        "  lista.append(nume)\n",
        "print(acha_menor(lista),\"é o menor valor da lista\")"
      ],
      "metadata": {
        "colab": {
          "base_uri": "https://localhost:8080/"
        },
        "id": "9j2OlGavUvW4",
        "outputId": "93cf1a2c-d141-4043-e60c-a18fa9e3fd6a"
      },
      "execution_count": null,
      "outputs": [
        {
          "output_type": "stream",
          "name": "stdout",
          "text": [
            "Digite um número para lista ou 0 para finalizar a lista: 9\n",
            "Digite um número para lista ou 0 para finalizar a lista: 7\n",
            "Digite um número para lista ou 0 para finalizar a lista: 6\n",
            "Digite um número para lista ou 0 para finalizar a lista: 3\n",
            "Digite um número para lista ou 0 para finalizar a lista: 8\n",
            "Digite um número para lista ou 0 para finalizar a lista: 4\n",
            "Digite um número para lista ou 0 para finalizar a lista: 2\n",
            "Digite um número para lista ou 0 para finalizar a lista: 8\n",
            "Digite um número para lista ou 0 para finalizar a lista: 0\n",
            "2 é o menor valor da lista\n"
          ]
        }
      ]
    },
    {
      "cell_type": "code",
      "source": [
        "#Exercício 12\n",
        "#Nome: Rafael Henrique\n",
        "#Prof: Jose Fernando\n",
        "def contador_de_caracteres(pala,letra):\n",
        "  total = 0\n",
        "  for carac in pala:\n",
        "    if carac == letra:\n",
        "      total += 1\n",
        "  return total\n",
        "\n",
        "frase = \"\"\n",
        "veri = \"\"\n",
        "frase = str(input(\"Digite uma palavra ou frase: \"))\n",
        "veri = str(input(\"Digite uma letra que deseja verificar na frase: \"))\n",
        "print(contador_de_caracteres(frase,veri),\"é o número de vezes que a letra aparece\")"
      ],
      "metadata": {
        "colab": {
          "base_uri": "https://localhost:8080/"
        },
        "id": "n4pk8kmmWZNY",
        "outputId": "8175c73d-e92b-4a24-abe8-c1f84b048a4c"
      },
      "execution_count": null,
      "outputs": [
        {
          "output_type": "stream",
          "name": "stdout",
          "text": [
            "Digite uma palavra ou frase: ola mundo\n",
            "Digite uma letra que deseja verificar na frase: o\n",
            "2 é o número de vezes que a letra aparece\n"
          ]
        }
      ]
    },
    {
      "cell_type": "code",
      "source": [
        "#Exercício 13\n",
        "#Nome: Rafael Henrique\n",
        "#Prof: Jose Fernando\n",
        "def eh_palindromo(pala):\n",
        "  resp = False\n",
        "  teste = \"\"\n",
        "  for letra in pala:\n",
        "    teste = letra + teste\n",
        "  if teste == pala:\n",
        "    resp = True\n",
        "  return resp\n",
        "\n",
        "frase = \"\"\n",
        "frase = str(input(\"Digite uma palavra: \"))\n",
        "print(eh_palindromo(frase))"
      ],
      "metadata": {
        "colab": {
          "base_uri": "https://localhost:8080/"
        },
        "id": "8G4pOz_XXeJJ",
        "outputId": "ab23e179-6849-49c3-9dc4-80968245470a"
      },
      "execution_count": null,
      "outputs": [
        {
          "output_type": "stream",
          "name": "stdout",
          "text": [
            "Digite uma palavra: ala\n",
            "True\n"
          ]
        }
      ]
    },
    {
      "cell_type": "code",
      "source": [
        "#Exercício 14\n",
        "#Nome: Rafael Henrique\n",
        "#Prof: Jose Fernando\n",
        "def area_retangulo(base,altu):\n",
        "  total = base * altu\n",
        "  return total\n",
        "\n",
        "nume1 = 0\n",
        "nume2 = 0\n",
        "nume1 = int(input(\"Digite o valor da largura: \"))\n",
        "nume2 = int(input(\"Digite o valor da altura: \"))\n",
        "print(area_retangulo(nume1,nume2),\"é a area desse retangulo\")"
      ],
      "metadata": {
        "colab": {
          "base_uri": "https://localhost:8080/"
        },
        "id": "6RMLJw9BY5ra",
        "outputId": "a5c40ae9-b4dd-4b0b-d42b-cbbf2c37aaa4"
      },
      "execution_count": null,
      "outputs": [
        {
          "output_type": "stream",
          "name": "stdout",
          "text": [
            "Digite o valor da largura: 4\n",
            "Digite o valor da altura: 2\n",
            "8 é a area desse retangulo\n"
          ]
        }
      ]
    },
    {
      "cell_type": "code",
      "source": [
        "#Exercício 15\n",
        "#Nome: Rafael Henrique\n",
        "#Prof: Jose Fernando\n",
        "def eh_primo(nume):\n",
        "  primo = 0\n",
        "  divi = nume\n",
        "  while divi>2:\n",
        "   divi = divi - 1\n",
        "   veri = nume % divi\n",
        "   if veri==0:\n",
        "    primo = 1\n",
        "    divi = 1\n",
        "  if primo == 0:\n",
        "    resp = True\n",
        "  elif primo == 1:\n",
        "    resp = False\n",
        "  return resp\n",
        "\n",
        "veri = 0\n",
        "veri = int(input(\"Digite um número para saber se ele é primo: \"))\n",
        "print(eh_primo(veri))"
      ],
      "metadata": {
        "colab": {
          "base_uri": "https://localhost:8080/"
        },
        "id": "W1fVVrCLZnHz",
        "outputId": "169f3e61-564b-4b22-802a-e77cf48b96a7"
      },
      "execution_count": null,
      "outputs": [
        {
          "output_type": "stream",
          "name": "stdout",
          "text": [
            "Digite um número para saber se ele é primo: 5\n",
            "True\n"
          ]
        }
      ]
    },
    {
      "cell_type": "code",
      "source": [
        "#Exercício 16\n",
        "#Nome: Rafael Henrique\n",
        "#Prof: Jose Fernando\n",
        "def mesma_quantidade(prim, segu):\n",
        "  if len(prim) == len(segu):\n",
        "    resp = True\n",
        "  else:\n",
        "    resp = False\n",
        "  return resp\n",
        "\n",
        "lista1 = []\n",
        "lista2 = []\n",
        "nume = 1\n",
        "while nume != 0:\n",
        "  nume = int(input(\"Digite valores para a primeira lista ou 0 para finalizar: \"))\n",
        "  if nume == 0:\n",
        "    break\n",
        "  lista1.append(nume)\n",
        "nume = 1\n",
        "while nume != 0:\n",
        "  nume = int(input(\"Digite valores para a segunda lista ou 0 para finalizar: \"))\n",
        "  if nume == 0:\n",
        "    break\n",
        "  lista2.append(nume)\n",
        "print(mesma_quantidade(lista1,lista2))"
      ],
      "metadata": {
        "id": "vTw_7Jkxalfq",
        "colab": {
          "base_uri": "https://localhost:8080/"
        },
        "outputId": "1018781c-520a-402a-ef33-77bb0be345e8"
      },
      "execution_count": null,
      "outputs": [
        {
          "output_type": "stream",
          "name": "stdout",
          "text": [
            "Digite valores para a primeira lista ou 0 para finalizar: 1\n",
            "Digite valores para a primeira lista ou 0 para finalizar: 2\n",
            "Digite valores para a primeira lista ou 0 para finalizar: 3\n",
            "Digite valores para a primeira lista ou 0 para finalizar: 4\n",
            "Digite valores para a primeira lista ou 0 para finalizar: 0\n",
            "Digite valores para a segunda lista ou 0 para finalizar: 4\n",
            "Digite valores para a segunda lista ou 0 para finalizar: 3\n",
            "Digite valores para a segunda lista ou 0 para finalizar: 2\n",
            "Digite valores para a segunda lista ou 0 para finalizar: 1\n",
            "Digite valores para a segunda lista ou 0 para finalizar: 0\n",
            "True\n"
          ]
        }
      ]
    },
    {
      "cell_type": "code",
      "source": [
        "#Exercício 17\n",
        "#Nome: Rafael Henrique\n",
        "#Prof: Jose Fernando\n",
        "def converte_fahrenheit_para_celsius(cels):\n",
        "  temp = (cels - 32) * 5/9\n",
        "  return temp\n",
        "\n",
        "fahr = 0.0\n",
        "fahr = float(input(\"Digite a temperatura em fahrenheit: \"))\n",
        "print(converte_fahrenheit_para_celsius(fahr),\"é a temperatura em celsius\")"
      ],
      "metadata": {
        "colab": {
          "base_uri": "https://localhost:8080/"
        },
        "id": "wxWcQsy-GsHh",
        "outputId": "568f1ab8-d50a-42f4-d12e-5ef74a99f0d2"
      },
      "execution_count": null,
      "outputs": [
        {
          "output_type": "stream",
          "name": "stdout",
          "text": [
            "Digite a temperatura em fahrenheit: 120\n",
            "48.888888888888886 é a temperatura em celsius\n"
          ]
        }
      ]
    },
    {
      "cell_type": "code",
      "source": [
        "#Exercício 18\n",
        "#Nome: Rafael Henrique\n",
        "#Prof: Jose Fernando\n",
        "def imprime_dicionario(prin):\n",
        "  print(prin)\n",
        "\n",
        "dici = {'teste':1}\n",
        "imprime_dicionario(dici)"
      ],
      "metadata": {
        "colab": {
          "base_uri": "https://localhost:8080/"
        },
        "id": "dEx1TVeEMVYx",
        "outputId": "c4f51ea9-5f38-42a1-f415-6fd8e450ce89"
      },
      "execution_count": null,
      "outputs": [
        {
          "output_type": "stream",
          "name": "stdout",
          "text": [
            "{'teste': 1}\n"
          ]
        }
      ]
    },
    {
      "cell_type": "code",
      "source": [
        "#Exercício 19\n",
        "#Nome: Rafael Henrique\n",
        "#Prof: Jose Fernando\n",
        "def remove_elemento(valo,veri):\n",
        "  cont = 0\n",
        "  for num in valo:\n",
        "    if veri == num:\n",
        "       del valo[cont]\n",
        "    cont += 1\n",
        "  return valo\n",
        "\n",
        "lista = []\n",
        "remo = 0\n",
        "nume = 1\n",
        "while nume != 0:\n",
        "  nume = int(input(\"Digite valores para a lista ou 0 para finalizar: \"))\n",
        "  if nume == 0:\n",
        "    break\n",
        "  lista.append(nume)\n",
        "remo = int(input(\"Digite o valor que deseja remover da lista: \"))\n",
        "print(remove_elemento(lista,remo))"
      ],
      "metadata": {
        "colab": {
          "base_uri": "https://localhost:8080/"
        },
        "id": "LWRJ2HBAMluy",
        "outputId": "77ea075d-4cad-4efc-f85d-bc3fb7e1bdb1"
      },
      "execution_count": null,
      "outputs": [
        {
          "output_type": "stream",
          "name": "stdout",
          "text": [
            "Digite valores para a lista ou 0 para finalizar: 1\n",
            "Digite valores para a lista ou 0 para finalizar: 2\n",
            "Digite valores para a lista ou 0 para finalizar: 3\n",
            "Digite valores para a lista ou 0 para finalizar: 4\n",
            "Digite valores para a lista ou 0 para finalizar: 3\n",
            "Digite valores para a lista ou 0 para finalizar: 2\n",
            "Digite valores para a lista ou 0 para finalizar: 1\n",
            "Digite valores para a lista ou 0 para finalizar: 0\n",
            "Digite o valor que deseja remover da lista: 3\n",
            "[1, 2, 4, 2, 1]\n"
          ]
        }
      ]
    },
    {
      "cell_type": "code",
      "source": [
        "#Exercício 20\n",
        "#Nome: Rafael Henrique\n",
        "#Prof: Jose Fernando\n",
        "def ordena_lista(valo):\n",
        "  valo.sort()\n",
        "  return valo\n",
        "\n",
        "lista = []\n",
        "nume = 1\n",
        "while nume != 0:\n",
        "  nume = int(input(\"Digite um número para lista ou 0 para finalizar: \"))\n",
        "  if nume == 0:\n",
        "    break\n",
        "  lista.append(nume)\n",
        "print(ordena_lista(lista))"
      ],
      "metadata": {
        "colab": {
          "base_uri": "https://localhost:8080/"
        },
        "id": "-ngqdsbWTth4",
        "outputId": "bef7bfe9-911f-40e4-94f8-b7ba3ece7244"
      },
      "execution_count": null,
      "outputs": [
        {
          "output_type": "stream",
          "name": "stdout",
          "text": [
            "Digite um número para lista ou 0 para finalizar: 8\n",
            "Digite um número para lista ou 0 para finalizar: 3\n",
            "Digite um número para lista ou 0 para finalizar: 6\n",
            "Digite um número para lista ou 0 para finalizar: 9\n",
            "Digite um número para lista ou 0 para finalizar: 1\n",
            "Digite um número para lista ou 0 para finalizar: 7\n",
            "Digite um número para lista ou 0 para finalizar: 10\n",
            "Digite um número para lista ou 0 para finalizar: 2\n",
            "Digite um número para lista ou 0 para finalizar: 5\n",
            "Digite um número para lista ou 0 para finalizar: 4\n",
            "Digite um número para lista ou 0 para finalizar: 0\n",
            "[1, 2, 3, 4, 5, 6, 7, 8, 9, 10]\n"
          ]
        }
      ]
    }
  ]
}
