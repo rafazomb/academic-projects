{
  "nbformat": 4,
  "nbformat_minor": 0,
  "metadata": {
    "colab": {
      "provenance": [],
      "authorship_tag": "ABX9TyOrEtDCv5yluXD5aeNXZR1v",
      "include_colab_link": true
    },
    "kernelspec": {
      "name": "python3",
      "display_name": "Python 3"
    },
    "language_info": {
      "name": "python"
    }
  },
  "cells": [
    {
      "cell_type": "markdown",
      "metadata": {
        "id": "view-in-github",
        "colab_type": "text"
      },
      "source": [
        "<a href=\"https://colab.research.google.com/github/rafazomb/academic-projects/blob/main/Lista_dicionario_e_tuplas_1.ipynb\" target=\"_parent\"><img src=\"https://colab.research.google.com/assets/colab-badge.svg\" alt=\"Open In Colab\"/></a>"
      ]
    },
    {
      "cell_type": "code",
      "execution_count": null,
      "metadata": {
        "colab": {
          "base_uri": "https://localhost:8080/"
        },
        "id": "IrDxu1YQQRLy",
        "outputId": "3a5da981-1d29-4eda-bd10-ee0141910987"
      },
      "outputs": [
        {
          "output_type": "stream",
          "name": "stdout",
          "text": [
            "---------------\n",
            "5\n",
            "---------------\n",
            "1\n",
            "---------------\n",
            "5\n",
            "---------------\n",
            "1\n",
            "2\n",
            "3\n",
            "4\n",
            "5\n",
            "---------------\n",
            "Tem esse elemento\n"
          ]
        }
      ],
      "source": [
        "#Nome: Rafael Henrique\n",
        "#Prof: Jose Fernando\n",
        "#Exercício 1 tuplas\n",
        "tupla = (1,2,3,4,5)\n",
        "print(\"---------------\")\n",
        "#Exercício 2\n",
        "print(len(tupla))\n",
        "print(\"---------------\")\n",
        "#Exercício 3\n",
        "print(tupla[0])\n",
        "print(\"---------------\")\n",
        "#Exercício 4\n",
        "print(tupla[4])\n",
        "print(\"---------------\")\n",
        "#Exercício 5\n",
        "for x in tupla:\n",
        "  print(x)\n",
        "print(\"---------------\")\n",
        "#Exercício 6\n",
        "if tupla.count(3) == 0:\n",
        "  print(\"Não tem esse elemento\")\n",
        "else:\n",
        "  print(\"Tem esse elemento\")"
      ]
    },
    {
      "cell_type": "code",
      "source": [
        "#Nome: Rafael Henrique\n",
        "#Prof: Jose Fernando\n",
        "#Exercício 7\n",
        "tupla_vazia = ()\n",
        "\n",
        "#Exercício 8\n",
        "tupla_unica = (1)\n",
        "\n",
        "#Exercício 9\n",
        "tupla_str = (\"a\",\"b\",\"c\")\n",
        "\n",
        "#Exercício 10\n",
        "tupla_int = (1,2,3)"
      ],
      "metadata": {
        "id": "kdwP70eHWLPv"
      },
      "execution_count": null,
      "outputs": []
    },
    {
      "cell_type": "code",
      "source": [
        "#Nome: Rafael Henrique\n",
        "#Prof: Jose Fernando\n",
        "#Exercício 1 dicionario\n",
        "dicionario = {\"nome\":\"joão\",\"idade\":20}\n",
        "print(\"---------------\")\n",
        "#Exercício 2\n",
        "print(dicionario[\"nome\"])\n",
        "print(\"---------------\")\n",
        "#Exercício 3\n",
        "dicionario[\"cidade\"] = \"São Paulo\"\n",
        "\n",
        "#Exercício 4\n",
        "aux = 0\n",
        "for x in dicionario.values():\n",
        "  if x == \"cidade\":\n",
        "    print(\"Existe essa chave\")\n",
        "    aux = 1\n",
        "    break\n",
        "if aux == 0:\n",
        "  print(\"Essa chave não existe\")\n",
        "print(\"---------------\")\n",
        "#Exercício 5\n",
        "del dicionario[\"idade\"]\n",
        "#Exercício 6\n",
        "for chave, valor in dicionario.items():\n",
        "  print(chave, valor)"
      ],
      "metadata": {
        "colab": {
          "base_uri": "https://localhost:8080/"
        },
        "id": "HxoZ55TdW1WX",
        "outputId": "41ed8d1d-505d-45c2-b919-a303be71b3cb"
      },
      "execution_count": null,
      "outputs": [
        {
          "output_type": "stream",
          "name": "stdout",
          "text": [
            "---------------\n",
            "joão\n",
            "---------------\n",
            "Essa chave não existe\n",
            "---------------\n",
            "nome joão\n",
            "cidade São Paulo\n"
          ]
        }
      ]
    },
    {
      "cell_type": "code",
      "source": [
        "#Nome: Rafael Henrique\n",
        "#Prof: Jose Fernando\n",
        "#Exercício 7\n",
        "dicionario_vazio = {}\n",
        "\n",
        "#Exercício 8\n",
        "dicionario_simples = {\"nome\":\"joão\"}\n",
        "\n",
        "#Exercício 9\n",
        "dicionario_str_int = {\"um\":1,\"dois\":2,\"tres\":3}\n",
        "\n",
        "#Exercício 10\n",
        "dicionario_int_str = {4:\"quatro\",5:\"cinco\",6:\"seis\"}"
      ],
      "metadata": {
        "id": "NNUJyE8GZzxG"
      },
      "execution_count": null,
      "outputs": []
    }
  ]
}
