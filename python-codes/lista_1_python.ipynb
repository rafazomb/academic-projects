{
  "nbformat": 4,
  "nbformat_minor": 0,
  "metadata": {
    "colab": {
      "provenance": [],
      "authorship_tag": "ABX9TyMqdWwbStviKxAi+5btgpmU",
      "include_colab_link": true
    },
    "kernelspec": {
      "name": "python3",
      "display_name": "Python 3"
    },
    "language_info": {
      "name": "python"
    }
  },
  "cells": [
    {
      "cell_type": "markdown",
      "metadata": {
        "id": "view-in-github",
        "colab_type": "text"
      },
      "source": [
        "<a href=\"https://colab.research.google.com/github/rafazomb/academic-projects/blob/main/lista_1_python.ipynb\" target=\"_parent\"><img src=\"https://colab.research.google.com/assets/colab-badge.svg\" alt=\"Open In Colab\"/></a>"
      ]
    },
    {
      "cell_type": "code",
      "execution_count": null,
      "metadata": {
        "colab": {
          "base_uri": "https://localhost:8080/"
        },
        "id": "9LMYusncuopU",
        "outputId": "1e47ab57-7be6-430b-fe0e-037edd52405e"
      },
      "outputs": [
        {
          "name": "stdout",
          "output_type": "stream",
          "text": [
            "Digite o nome de usuário: Rafa\n",
            "Digite a senha para logar: Rafa\n",
            "Nome de usuário e senha não podem ser iguais.\n",
            "Digite o nome de usuário: Rafa\n",
            "Digite a senha para logar: 1234\n"
          ]
        }
      ],
      "source": [
        "#Exerício 1:\n",
        "#Rafael Henrique de Andrade Caratenuto\n",
        "#Prof Carmen Lucia\n",
        "#Descrição: nome e senha não podem ser iguais\n",
        "nome = \"\"\n",
        "senha = \"\"\n",
        "while nome == senha:\n",
        " nome =str(input(\"Digite o nome de usuário: \"))\n",
        " senha =str(input(\"Digite a senha para logar: \"))\n",
        " if nome == senha:\n",
        "  print(\"Nome de usuário e senha não podem ser iguais.\")"
      ]
    },
    {
      "cell_type": "code",
      "source": [
        "#Exerício 2:\n",
        "#Rafael Henrique de Andrade Caratenuto\n",
        "#Prof Carmen Lucia\n",
        "#Descrição: validação de informações\n",
        "nome = \"\"\n",
        "idade = 0\n",
        "salario = 0\n",
        "sexo = \"\"\n",
        "civil = \"\"\n",
        "valid = 1\n",
        "while valid == 1:\n",
        "  nome = str(input(\"Digite o seu nome com mais que 3 caracteres: \"))\n",
        "  if len(nome)>3:\n",
        "    valid = 0\n",
        "  else:\n",
        "    print(\"Informação fora do padrão pedido, insira novamente.\")\n",
        "while valid == 0:\n",
        " idade = int(input(\"Digite a sua idade entre 0 e 150 anos: \"))\n",
        " if idade<0 or idade>150:\n",
        "  print(\"Informação fora do padrão pedido, insira novamente.\")\n",
        " else:\n",
        "  valid = 1\n",
        "while valid == 1:\n",
        "  salario = int(input(\"Digite o seu salario, maior do que zero: \"))\n",
        "  if salario>0:\n",
        "    valid = 0\n",
        "  else:\n",
        "    print(\"Informação fora do padrão pedido, insira novamente.\")\n",
        "while valid == 0:\n",
        "  sexo = str(input(\"Selecione o seu sexo: f ou m \"))\n",
        "  if sexo == \"f\" or sexo == \"m\":\n",
        "    valid = 1\n",
        "  else:\n",
        "    print(\"Informação fora do padrão pedido, insira novamente.\")\n",
        "while valid == 1:\n",
        "  civil = str(input(\"Selecione seu estado civil: s, c, v ou d (solteiro, casado, viuvo ou divorciado)\"))\n",
        "  if civil == \"s\" or civil == \"c\" or civil == \"v\" or civil == \"d\":\n",
        "    valid = 0\n",
        "  else:\n",
        "    print(\"Informação fora do padrão pedido, insira novamente.\")"
      ],
      "metadata": {
        "colab": {
          "base_uri": "https://localhost:8080/"
        },
        "id": "-M7WvVle0JS8",
        "outputId": "873278db-b5c1-4e3e-80e9-597ecf7645fa"
      },
      "execution_count": null,
      "outputs": [
        {
          "name": "stdout",
          "output_type": "stream",
          "text": [
            "Digite o seu nome com mais que 3 caracteres: Raf\n",
            "Informação fora do padrão pedido, insira novamente.\n",
            "Digite o seu nome com mais que 3 caracteres: Rafael\n",
            "Digite a sua idade entre 0 e 150 anos: 162\n",
            "Informação fora do padrão pedido, insira novamente.\n",
            "Digite a sua idade entre 0 e 150 anos: 18\n",
            "Digite o seu salario, maior do que zero: 1200\n",
            "Selecione o seu sexo: f ou m m\n",
            "Selecione seu estado civil: s, c, v ou d (solteiro, casado, viuvo ou divorciado)s\n"
          ]
        }
      ]
    },
    {
      "cell_type": "code",
      "source": [
        "#Exerício 3:\n",
        "#Rafael Henrique de Andrade Caratenuto\n",
        "#Prof Carmen Lucia\n",
        "#Descrição: calculo de tempo para ultrapassar numero de habitantes\n",
        "paisA = 80000\n",
        "paisB = 200000\n",
        "cont = 0\n",
        "while paisA<paisB:\n",
        "  paisA = paisA*1.03\n",
        "  paisB = paisB*1.015\n",
        "  cont = cont+1\n",
        "print(\"Depois de\",cont,\"anos, o pais A vai ter mais habitantes que o pais B;\")\n",
        "print(\"com\",round(paisA,0),\"habitantes no pais A e\",round(paisB,0),\"de habitantes no pais B.\")"
      ],
      "metadata": {
        "colab": {
          "base_uri": "https://localhost:8080/"
        },
        "id": "Yc_CA77EFfPL",
        "outputId": "70a47580-c7a1-4ce0-a37a-47c96cad8f90"
      },
      "execution_count": null,
      "outputs": [
        {
          "output_type": "stream",
          "name": "stdout",
          "text": [
            "Depois de 63 anos, o pais A vai ter mais habitantes que o pais B;\n",
            "com 515033.0 habitantes no pais A e 510964.0 de habitantes no pais B.\n"
          ]
        }
      ]
    },
    {
      "cell_type": "code",
      "source": [
        "#Exerício 4:\n",
        "#Rafael Henrique de Andrade Caratenuto\n",
        "#Prof Carmen Lucia\n",
        "#Descrição: alteração no codigo anterior\n",
        "paisA = 0.0\n",
        "taxaA = 0.0\n",
        "paisB = 0.0\n",
        "taxaB = 0.0\n",
        "num = 0\n",
        "conti = \"s\"\n",
        "while conti != \"n\":\n",
        " paisA = 0.0\n",
        " taxaA = 0.0\n",
        " paisB = 0.0\n",
        " taxaB = -1.0\n",
        " num = 0\n",
        " while paisA <= 0:\n",
        "   paisA = int(input(\"Digite o numero inicial de habitantes do pais A, maior do que 0: \"))\n",
        "   if paisA <= 0:\n",
        "    print(\"Numero invalido, digite outro.\")\n",
        " while taxaA <= 0:\n",
        "   taxaA = float(input(\"Digite a taxa de crescimento do pais A em % e maior que 0: \"))\n",
        "   if taxaA <= 0:\n",
        "    print(\"Numero invalido, digite outro.\")\n",
        " taxaA = taxaA/100\n",
        " while paisB <= 0:\n",
        "  paisB = int(input(\"Digite o numero inicial de habitantes do pais B, maior do que 0: \"))\n",
        "  if paisB <=0:\n",
        "    print(\"Numero invalido, digite outro.\")\n",
        " while taxaB <0:\n",
        "  taxaB = float(input(\"Digite a taxa de crescimento do pais B em %, sem ser menor do que 0: \"))\n",
        "  if taxaB <0:\n",
        "    print(\"Numero invalido, digite outro.\")\n",
        " taxaB = taxaB/100\n",
        " while paisA<paisB:\n",
        "  paisA = paisA*(1+taxaA)\n",
        "  paisB = paisB*(1+taxaB)\n",
        "  num = num + 1\n",
        " print(\"Depois de\",num,\"anos o pais A tem mais habitantes do que o paisB;\")\n",
        " print(\"Com\",round(paisA,0),\"habitantes no pais A e\",round(paisB,0),\" no pais B.\")\n",
        " conti = str(input(\"Deseja calcular com outros dados? s ou n: \"))"
      ],
      "metadata": {
        "colab": {
          "base_uri": "https://localhost:8080/"
        },
        "id": "ZYLirjNkHWy2",
        "outputId": "911c9e57-8c13-4267-dd7d-9026c44d2673"
      },
      "execution_count": null,
      "outputs": [
        {
          "name": "stdout",
          "output_type": "stream",
          "text": [
            "Digite o numero inicial de habitantes do pais A, maior do que 0: 100\n",
            "Digite a taxa de crescimento do pais A em % e maior que 0: 13\n",
            "Digite o numero inicial de habitantes do pais B, maior do que 0: 8431\n",
            "Digite a taxa de crescimento do pais B em %, sem ser menor do que 0: 1\n",
            "Depois de 40 anos o pais A tem mais habitantes do que o paisB;\n",
            "Com 13278.0 habitantes no pais A e 12553.0  no pais B.\n",
            "Deseja calcular com outros dados? s ou n: n\n"
          ]
        }
      ]
    },
    {
      "cell_type": "code",
      "source": [
        "#Exerício 5:\n",
        "#Rafael Henrique de Andrade Caratenuto\n",
        "#Prof Carmen Lucia\n",
        "#Descrição: contador ate 20\n",
        "numes = 0\n",
        "while numes <20:\n",
        "  numes = numes + 1\n",
        "  print(numes)\n",
        "numes = 0\n",
        "while numes <20:\n",
        "  numes = numes + 1\n",
        "  print(numes,\",\", end=\"\")"
      ],
      "metadata": {
        "colab": {
          "base_uri": "https://localhost:8080/"
        },
        "id": "BsWr56bLMLiU",
        "outputId": "09d52a0a-e544-498d-8c86-5d21d8172d9d"
      },
      "execution_count": null,
      "outputs": [
        {
          "output_type": "stream",
          "name": "stdout",
          "text": [
            "1\n",
            "2\n",
            "3\n",
            "4\n",
            "5\n",
            "6\n",
            "7\n",
            "8\n",
            "9\n",
            "10\n",
            "11\n",
            "12\n",
            "13\n",
            "14\n",
            "15\n",
            "16\n",
            "17\n",
            "18\n",
            "19\n",
            "20\n",
            "1 ,2 ,3 ,4 ,5 ,6 ,7 ,8 ,9 ,10 ,11 ,12 ,13 ,14 ,15 ,16 ,17 ,18 ,19 ,20 ,"
          ]
        }
      ]
    },
    {
      "cell_type": "code",
      "source": [
        "#Exerício 6:\n",
        "#Rafael Henrique de Andrade Caratenuto\n",
        "#Prof Carmen Lucia\n",
        "#Descrição: ler 5 numeros e falar o maior\n",
        "nume = 0\n",
        "max = 0\n",
        "cont = 0\n",
        "while cont<5:\n",
        " nume = int(input(\"Digite um numero: \"))\n",
        " cont = cont + 1\n",
        " if nume>max:\n",
        "  max = nume\n",
        "print(max,\"é o maior numero digitado.\")"
      ],
      "metadata": {
        "colab": {
          "base_uri": "https://localhost:8080/"
        },
        "id": "dek9ZkyPbAHl",
        "outputId": "d0155c1e-538e-40cb-d70f-16b682de32bc"
      },
      "execution_count": null,
      "outputs": [
        {
          "output_type": "stream",
          "name": "stdout",
          "text": [
            "Digite um numero: 9\n",
            "Digite um numero: 4\n",
            "Digite um numero: 15\n",
            "Digite um numero: 6\n",
            "Digite um numero: 7\n",
            "15 é o maior numero digitado.\n"
          ]
        }
      ]
    },
    {
      "cell_type": "code",
      "source": [
        "#Exerício 7:\n",
        "#Rafael Henrique de Andrade Caratenuto\n",
        "#Prof Carmen Lucia\n",
        "#Descrição: soma e media de 5 numeros lidos\n",
        "nume = 0\n",
        "soma = 0\n",
        "med = 0.0\n",
        "cont = 0\n",
        "while cont<5:\n",
        "  nume = int(input(\"Digite um numero: \"))\n",
        "  soma = soma + nume\n",
        "  cont = cont + 1\n",
        "med = soma/cont\n",
        "print(soma,\"é a soma desses numeros e\",med,\"é a media desses numeros\")"
      ],
      "metadata": {
        "colab": {
          "base_uri": "https://localhost:8080/"
        },
        "id": "n-1J1-QGcG2x",
        "outputId": "9f3f6588-cd0c-4028-d428-d696ec128471"
      },
      "execution_count": null,
      "outputs": [
        {
          "output_type": "stream",
          "name": "stdout",
          "text": [
            "Digite um numero: 1\n",
            "Digite um numero: 2\n",
            "Digite um numero: 3\n",
            "Digite um numero: 4\n",
            "Digite um numero: 5\n",
            "15 é a soma desses numeros e 3.0 é a media desses numeros\n"
          ]
        }
      ]
    },
    {
      "cell_type": "code",
      "source": [
        "#Exerício 8:\n",
        "#Rafael Henrique de Andrade Caratenuto\n",
        "#Prof Carmen Lucia\n",
        "#Descrição: calculo de fatorial\n",
        "nume = 0\n",
        "fato = 1\n",
        "nume = int(input(\"Digite um numero para calcular seu fatorial: \"))\n",
        "while nume>=1:\n",
        " fato = fato*nume\n",
        " nume = nume - 1\n",
        "print(\"O fatorial desse numero é\",fato)"
      ],
      "metadata": {
        "colab": {
          "base_uri": "https://localhost:8080/"
        },
        "id": "IsDEJN7zc07Z",
        "outputId": "0c7d9e80-5b4f-4651-c584-7e89b353b63e"
      },
      "execution_count": null,
      "outputs": [
        {
          "output_type": "stream",
          "name": "stdout",
          "text": [
            "Digite um numero para calcular seu fatorial: 4\n",
            "O fatorial desse numero é 24\n"
          ]
        }
      ]
    },
    {
      "cell_type": "code",
      "source": [
        "#Exerício 9:\n",
        "#Rafael Henrique de Andrade Caratenuto\n",
        "#Prof Carmen Lucia\n",
        "#Descrição: modificação no codigo anterior\n",
        "nume = 0\n",
        "fato = 0\n",
        "resp = \"s\"\n",
        "while resp != \"n\":\n",
        " nume = 17\n",
        " fato = 1\n",
        " while nume>15 or nume<0:\n",
        "  nume = int(input(\"Digite um numero entre 0 e 15 para calcular seu fatorial: \"))\n",
        "  if nume>15 or nume<0:\n",
        "    print(\"Numero maior que 15 ou negativo é invalido, digite novamente.\")\n",
        " while nume>=1:\n",
        "  fato = fato*nume\n",
        "  nume = nume - 1\n",
        " print(\"O fatorial desse numero é\",fato)\n",
        " resp = str(input(\"Deseja calcular outro fatorial?(s ou n) \"))"
      ],
      "metadata": {
        "colab": {
          "base_uri": "https://localhost:8080/"
        },
        "id": "xLjTPqLpgJvZ",
        "outputId": "f2757c26-223a-434c-98b2-92ab75960ecf"
      },
      "execution_count": null,
      "outputs": [
        {
          "name": "stdout",
          "output_type": "stream",
          "text": [
            "Digite um numero entre 0 e 15 para calcular seu fatorial: 17\n",
            "Numero maior que 15 ou negativo é invalido, digite novamente.\n",
            "Digite um numero entre 0 e 15 para calcular seu fatorial: -1\n",
            "Numero maior que 15 ou negativo é invalido, digite novamente.\n",
            "Digite um numero entre 0 e 15 para calcular seu fatorial: 15\n",
            "O fatorial desse numero é 1307674368000\n",
            "Deseja calcular outro fatorial?(s ou n) s\n",
            "Digite um numero entre 0 e 15 para calcular seu fatorial: 3\n",
            "O fatorial desse numero é 6\n",
            "Deseja calcular outro fatorial?(s ou n) n\n"
          ]
        }
      ]
    },
    {
      "cell_type": "code",
      "source": [
        "#Exerício 10:\n",
        "#Rafael Henrique de Andrade Caratenuto\n",
        "#Prof Carmen Lucia\n",
        "#Descrição verificador de numero primo\n",
        "nume = 0\n",
        "primo = 0\n",
        "divi = 0\n",
        "veri = 0\n",
        "nume = int(input(\"Digite um numero para verificar se ele é primo: \"))\n",
        "divi = nume\n",
        "while divi>2:\n",
        " divi = divi - 1\n",
        " veri = nume % divi\n",
        " if veri==0:\n",
        "  primo = 1\n",
        "  divi = 1\n",
        "if primo == 0:\n",
        "  print(\"Esse numero é primo.\")\n",
        "elif primo == 1:\n",
        "  print(\"Esse numero não é primo.\")"
      ],
      "metadata": {
        "colab": {
          "base_uri": "https://localhost:8080/"
        },
        "id": "0x5wS1SIkR-c",
        "outputId": "564b7278-f8cf-42fb-9f06-4b4afab37a1c"
      },
      "execution_count": null,
      "outputs": [
        {
          "output_type": "stream",
          "name": "stdout",
          "text": [
            "Digite um numero para verificar se ele é primo: 7\n",
            "Esse numero é primo.\n"
          ]
        }
      ]
    },
    {
      "cell_type": "code",
      "source": [
        "#Exerício 11:\n",
        "#Rafael Henrique de Andrade Caratenuto\n",
        "#Prof Carmen Lucia\n",
        "#Descrição alteração no codigo anterior\n",
        "nume = 0\n",
        "primo = 0\n",
        "divi = 0\n",
        "veri = 0\n",
        "nume = int(input(\"Digite um numero para verificar se ele é primo: \"))\n",
        "divi = nume\n",
        "while divi>2:\n",
        " divi = divi - 1\n",
        " veri = nume % divi\n",
        " if veri==0:\n",
        "  primo = 1\n",
        "  print(\"É divisivel por\",divi)\n",
        "if primo == 0:\n",
        "  print(\"Esse numero é primo.\")\n",
        "elif primo == 1:\n",
        "  print(\"Esse numero não é primo.\")"
      ],
      "metadata": {
        "colab": {
          "base_uri": "https://localhost:8080/"
        },
        "id": "k9mzOuohsMZv",
        "outputId": "1d62bd08-322a-4b7f-d56c-f61f6a7724ce"
      },
      "execution_count": null,
      "outputs": [
        {
          "output_type": "stream",
          "name": "stdout",
          "text": [
            "Digite um numero para verificar se ele é primo: 10\n",
            "É divisivel por 5\n",
            "É divisivel por 2\n",
            "Esse numero não é primo.\n"
          ]
        }
      ]
    },
    {
      "cell_type": "code",
      "source": [
        "#Exerício 12:\n",
        "#Rafael Henrique de Andrade Caratenuto\n",
        "#Prof Carmen Lucia\n",
        "#Descrição numeros primos entre 1 e o numero lido\n",
        "nume = 0\n",
        "primo = 0\n",
        "prox = 0\n",
        "divi = 0\n",
        "veri = 0\n",
        "nume = int(input(\"Digite um numero para ver os numeros primos entre 1 e esse numero \"))\n",
        "prox = nume\n",
        "while prox>2:\n",
        " primo = 0\n",
        " divi = prox\n",
        " while divi>2:\n",
        "  divi = divi - 1\n",
        "  veri = prox % divi\n",
        "  if veri==0:\n",
        "   primo = 1\n",
        "   divi = 1\n",
        " if primo == 0:\n",
        "   print(prox,\"é primo;\")\n",
        " prox = prox - 1\n",
        "print(\"2 é primo.\")"
      ],
      "metadata": {
        "colab": {
          "base_uri": "https://localhost:8080/"
        },
        "id": "GT2D22gas8S4",
        "outputId": "a6fa851a-f782-47dd-c2d2-5435c80ba647"
      },
      "execution_count": null,
      "outputs": [
        {
          "output_type": "stream",
          "name": "stdout",
          "text": [
            "Digite um numero para ver os numeros primos entre 1 e esse numero 15\n",
            "13 é primo;\n",
            "11 é primo;\n",
            "7 é primo;\n",
            "5 é primo;\n",
            "3 é primo;\n",
            "2 é primo.\n"
          ]
        }
      ]
    },
    {
      "cell_type": "code",
      "source": [
        "#Exerício 13:\n",
        "#Rafael Henrique de Andrade Caratenuto\n",
        "#Prof Carmen Lucia\n",
        "#Descrição media de idade\n",
        "idade = 0\n",
        "total = 0\n",
        "cont = 0\n",
        "resp = \"s\"\n",
        "while resp != \"n\":\n",
        "  idade = int(input(\"Digite a sua idade: \"))\n",
        "  total = total + idade\n",
        "  cont = cont + 1\n",
        "  resp = str(input(\"Deseja adicionar outra idade?(s ou n) \"))\n",
        "total = total//cont\n",
        "if total>60:\n",
        " print(\"Grupo de pessoas idosas.\")\n",
        "elif total>25:\n",
        " print(\"Grupo de pessoas adultas.\")\n",
        "else:\n",
        " print(\"Grupo de pessoas jovens.\")"
      ],
      "metadata": {
        "colab": {
          "base_uri": "https://localhost:8080/"
        },
        "id": "M0i_F_VJwIIn",
        "outputId": "42aa3632-7df4-4ccd-d615-572b1779e833"
      },
      "execution_count": null,
      "outputs": [
        {
          "output_type": "stream",
          "name": "stdout",
          "text": [
            "Digite a sua idade: 68\n",
            "Deseja adicionar outra idade?(s ou n) s\n",
            "Digite a sua idade: 64\n",
            "Deseja adicionar outra idade?(s ou n) s\n",
            "Digite a sua idade: 60\n",
            "Deseja adicionar outra idade?(s ou n) n\n",
            "Grupo de pessoas idosas.\n"
          ]
        }
      ]
    },
    {
      "cell_type": "code",
      "source": [
        "#Exerício 14:\n",
        "#Rafael Henrique de Andrade Caratenuto\n",
        "#Prof Carmen Lucia\n",
        "#Descrição votação\n",
        "total = 0\n",
        "voto1 = 0\n",
        "voto2 = 0\n",
        "voto3 = 0\n",
        "voto = 0\n",
        "cont = 1\n",
        "total = int(input(\"Digite o total de eleitores: \"))\n",
        "while cont<=total:\n",
        " voto = 4\n",
        " print(\"eleitor nº\",cont)\n",
        " while voto>3 or voto<1:\n",
        "  voto = int(input(\"Deseja votar em qual candidato?(1, 2 ou 3) \"))\n",
        "  if voto>3 or voto<1:\n",
        "    print(\"Numero invalido, insira novamente seu voto.\")\n",
        " cont = cont + 1\n",
        " if voto == 1:\n",
        "  voto1 = voto1 + 1\n",
        " elif voto == 2:\n",
        "  voto2 = voto2 + 1\n",
        " elif voto == 3:\n",
        "  voto3 = voto3 + 1\n",
        "print(\"Total de votos:\")\n",
        "print(voto1,\"votos no candidato 1\")\n",
        "print(voto2,\"votos no candidato 2\")\n",
        "print(voto3,\"votos no candidato 3\")"
      ],
      "metadata": {
        "id": "gtlBuEAPy9qi",
        "colab": {
          "base_uri": "https://localhost:8080/"
        },
        "outputId": "f162fa2f-7ffb-486f-9d81-c4fce1dbea82"
      },
      "execution_count": null,
      "outputs": [
        {
          "output_type": "stream",
          "name": "stdout",
          "text": [
            "Digite o total de eleitores: 10\n",
            "eleitor nº 1\n",
            "Deseja votar em qual candidato?(1, 2 ou 3) 1\n",
            "eleitor nº 2\n",
            "Deseja votar em qual candidato?(1, 2 ou 3) 2\n",
            "eleitor nº 3\n",
            "Deseja votar em qual candidato?(1, 2 ou 3) 3\n",
            "eleitor nº 4\n",
            "Deseja votar em qual candidato?(1, 2 ou 3) 4\n",
            "Numero invalido, insira novamente seu voto.\n",
            "Deseja votar em qual candidato?(1, 2 ou 3) 2\n",
            "eleitor nº 5\n",
            "Deseja votar em qual candidato?(1, 2 ou 3) 3\n",
            "eleitor nº 6\n",
            "Deseja votar em qual candidato?(1, 2 ou 3) 1\n",
            "eleitor nº 7\n",
            "Deseja votar em qual candidato?(1, 2 ou 3) 3\n",
            "eleitor nº 8\n",
            "Deseja votar em qual candidato?(1, 2 ou 3) 1\n",
            "eleitor nº 9\n",
            "Deseja votar em qual candidato?(1, 2 ou 3) 2\n",
            "eleitor nº 10\n",
            "Deseja votar em qual candidato?(1, 2 ou 3) 3\n",
            "Total de votos:\n",
            "3 votos no candidato 1\n",
            "3 votos no candidato 2\n",
            "4 votos no candidato 3\n"
          ]
        }
      ]
    },
    {
      "cell_type": "code",
      "source": [
        "#Exerício 15:\n",
        "#Rafael Henrique de Andrade Caratenuto\n",
        "#Prof Carmen Lucia\n",
        "#Descrição media de aluno por turma\n",
        "turmas = 0\n",
        "alunos = 0\n",
        "aluTur = 0\n",
        "cont = 1\n",
        "turmas = int(input(\"Digite o numero de turmas: \"))\n",
        "while cont<=turmas:\n",
        "  print(\"Turma\",cont)\n",
        "  alunos = 41\n",
        "  while alunos>40:\n",
        "    alunos = int(input(\"Digite o numeros de alunos da turma: \"))\n",
        "    if alunos>40:\n",
        "      print(\"Numero invalido, limite de 40 alunos por turma.\")\n",
        "  cont = cont + 1\n",
        "  aluTur = aluTur + alunos\n",
        "print(\"A media de alunos por turma é\",aluTur/turmas)"
      ],
      "metadata": {
        "colab": {
          "base_uri": "https://localhost:8080/"
        },
        "id": "2sIFRAEhdhhm",
        "outputId": "27868989-0e07-422b-f83c-dc5048ce2533"
      },
      "execution_count": null,
      "outputs": [
        {
          "output_type": "stream",
          "name": "stdout",
          "text": [
            "Digite o numero de turmas: 5\n",
            "Turma 1\n",
            "Digite o numeros de alunos da turma: 48\n",
            "Numero invalido, limite de 40 alunos por turma.\n",
            "Digite o numeros de alunos da turma: 38\n",
            "Turma 2\n",
            "Digite o numeros de alunos da turma: 34\n",
            "Turma 3\n",
            "Digite o numeros de alunos da turma: 26\n",
            "Turma 4\n",
            "Digite o numeros de alunos da turma: 35\n",
            "Turma 5\n",
            "Digite o numeros de alunos da turma: 37\n",
            "A media de alunos por turma é 34.0\n"
          ]
        }
      ]
    },
    {
      "cell_type": "code",
      "source": [
        "#Exerício 16:\n",
        "#Rafael Henrique de Andrade Caratenuto\n",
        "#Prof Carmen Lucia\n",
        "#Descrição media de preço de cd\n",
        "Ncd = 0\n",
        "Pcd = 0.0\n",
        "TPcd = 0.0\n",
        "cont = 1\n",
        "Ncd = int(input(\"Digite o numero de CDs: \"))\n",
        "while cont<=Ncd:\n",
        "  print(\"CD nº\",cont)\n",
        "  Pcd = float(input(\"Digite o valor desse CD: \"))\n",
        "  cont = cont + 1\n",
        "  TPcd = TPcd + Pcd\n",
        "TPcd = TPcd/Ncd\n",
        "round(TPcd,2)\n",
        "print(\"A media de preços nos CDs são\",TPcd)"
      ],
      "metadata": {
        "colab": {
          "base_uri": "https://localhost:8080/"
        },
        "id": "qlCIXmfPhGkD",
        "outputId": "d00df531-19a2-4931-c954-98d1de1ec089"
      },
      "execution_count": null,
      "outputs": [
        {
          "output_type": "stream",
          "name": "stdout",
          "text": [
            "Digite o numero de CDs: 4\n",
            "CD nº 1\n",
            "Digite o valor desse CD: 29.99\n",
            "CD nº 2\n",
            "Digite o valor desse CD: 34.99\n",
            "CD nº 3\n",
            "Digite o valor desse CD: 36.99\n",
            "CD nº 4\n",
            "Digite o valor desse CD: 48.99\n",
            "A media de preços nos CDs são 37.74\n"
          ]
        }
      ]
    },
    {
      "cell_type": "code",
      "source": [
        "#Exerício 17:\n",
        "#Rafael Henrique de Andrade Caratenuto\n",
        "#Prof Carmen Lucia\n",
        "#Descrição tabela de preços da loja\n",
        "cont = 1\n",
        "print(\"Lojas Quase Dois - Tabela de preços\")\n",
        "while cont<51:\n",
        "  print(cont,\"- R$\",1.99*cont)\n",
        "  cont = cont + 1"
      ],
      "metadata": {
        "colab": {
          "base_uri": "https://localhost:8080/"
        },
        "id": "gnWM1OGRi_7J",
        "outputId": "1f310951-a740-48d2-f188-aa8df80eb59f"
      },
      "execution_count": null,
      "outputs": [
        {
          "output_type": "stream",
          "name": "stdout",
          "text": [
            "Lojas Quase Dois - Tabela de preços\n",
            "1 - R$ 1.99\n",
            "2 - R$ 3.98\n",
            "3 - R$ 5.97\n",
            "4 - R$ 7.96\n",
            "5 - R$ 9.95\n",
            "6 - R$ 11.94\n",
            "7 - R$ 13.93\n",
            "8 - R$ 15.92\n",
            "9 - R$ 17.91\n",
            "10 - R$ 19.9\n",
            "11 - R$ 21.89\n",
            "12 - R$ 23.88\n",
            "13 - R$ 25.87\n",
            "14 - R$ 27.86\n",
            "15 - R$ 29.85\n",
            "16 - R$ 31.84\n",
            "17 - R$ 33.83\n",
            "18 - R$ 35.82\n",
            "19 - R$ 37.81\n",
            "20 - R$ 39.8\n",
            "21 - R$ 41.79\n",
            "22 - R$ 43.78\n",
            "23 - R$ 45.77\n",
            "24 - R$ 47.76\n",
            "25 - R$ 49.75\n",
            "26 - R$ 51.74\n",
            "27 - R$ 53.73\n",
            "28 - R$ 55.72\n",
            "29 - R$ 57.71\n",
            "30 - R$ 59.7\n",
            "31 - R$ 61.69\n",
            "32 - R$ 63.68\n",
            "33 - R$ 65.67\n",
            "34 - R$ 67.66\n",
            "35 - R$ 69.65\n",
            "36 - R$ 71.64\n",
            "37 - R$ 73.63\n",
            "38 - R$ 75.62\n",
            "39 - R$ 77.61\n",
            "40 - R$ 79.6\n",
            "41 - R$ 81.59\n",
            "42 - R$ 83.58\n",
            "43 - R$ 85.57\n",
            "44 - R$ 87.56\n",
            "45 - R$ 89.55\n",
            "46 - R$ 91.54\n",
            "47 - R$ 93.53\n",
            "48 - R$ 95.52\n",
            "49 - R$ 97.51\n",
            "50 - R$ 99.5\n"
          ]
        }
      ]
    },
    {
      "cell_type": "code",
      "source": [
        "#Exerício 18:\n",
        "#Rafael Henrique de Andrade Caratenuto\n",
        "#Prof Carmen Lucia\n",
        "#Descrição tabela de preços da panificadora\n",
        "preco = 0.0\n",
        "cont = 1\n",
        "preco = float(input(\"Preço do pão: R$\"))\n",
        "print(\"Panificadora Pão de Ontem - Tabela de preços\")\n",
        "while cont<51:\n",
        "  print(cont,\"- R$\",round(cont*preco,2))\n",
        "  cont = cont + 1"
      ],
      "metadata": {
        "colab": {
          "base_uri": "https://localhost:8080/"
        },
        "id": "1tP49MQ4noV6",
        "outputId": "3685e3b7-f8f7-401f-9be9-cb28c71ed360"
      },
      "execution_count": null,
      "outputs": [
        {
          "output_type": "stream",
          "name": "stdout",
          "text": [
            "Preço do pão: 0.18\n",
            "Panificadora Pão de Ontem - Tabela de preços\n",
            "1 - R$ 0.18\n",
            "2 - R$ 0.36\n",
            "3 - R$ 0.54\n",
            "4 - R$ 0.72\n",
            "5 - R$ 0.9\n",
            "6 - R$ 1.08\n",
            "7 - R$ 1.26\n",
            "8 - R$ 1.44\n",
            "9 - R$ 1.62\n",
            "10 - R$ 1.8\n",
            "11 - R$ 1.98\n",
            "12 - R$ 2.16\n",
            "13 - R$ 2.34\n",
            "14 - R$ 2.52\n",
            "15 - R$ 2.7\n",
            "16 - R$ 2.88\n",
            "17 - R$ 3.06\n",
            "18 - R$ 3.24\n",
            "19 - R$ 3.42\n",
            "20 - R$ 3.6\n",
            "21 - R$ 3.78\n",
            "22 - R$ 3.96\n",
            "23 - R$ 4.14\n",
            "24 - R$ 4.32\n",
            "25 - R$ 4.5\n",
            "26 - R$ 4.68\n",
            "27 - R$ 4.86\n",
            "28 - R$ 5.04\n",
            "29 - R$ 5.22\n",
            "30 - R$ 5.4\n",
            "31 - R$ 5.58\n",
            "32 - R$ 5.76\n",
            "33 - R$ 5.94\n",
            "34 - R$ 6.12\n",
            "35 - R$ 6.3\n",
            "36 - R$ 6.48\n",
            "37 - R$ 6.66\n",
            "38 - R$ 6.84\n",
            "39 - R$ 7.02\n",
            "40 - R$ 7.2\n",
            "41 - R$ 7.38\n",
            "42 - R$ 7.56\n",
            "43 - R$ 7.74\n",
            "44 - R$ 7.92\n",
            "45 - R$ 8.1\n",
            "46 - R$ 8.28\n",
            "47 - R$ 8.46\n",
            "48 - R$ 8.64\n",
            "49 - R$ 8.82\n",
            "50 - R$ 9.0\n"
          ]
        }
      ]
    },
    {
      "cell_type": "code",
      "source": [
        "#Exerício 19:\n",
        "#Rafael Henrique de Andrade Caratenuto\n",
        "#Prof Carmen Lucia\n",
        "#Descrição caixa registradora\n",
        "preco = 1.0\n",
        "cont = 1\n",
        "total = 0.0\n",
        "dinhe = 0.0\n",
        "print(\"Lojas Tabajara\")\n",
        "while cont>0:\n",
        " cont = 1\n",
        " preco = 1.0\n",
        " while preco != 0:\n",
        "   print(\"Produto\",cont,\":\",end=\"\")\n",
        "   preco = float(input(\"R$\"))\n",
        "   cont = cont+1\n",
        "   total = total + preco\n",
        " print(\"Total: R$\",total)\n",
        " dinhe = float(input(\"Dinheiro: R$\"))\n",
        " print(\"Troco: R$\",round(dinhe-total,2))\n",
        " print(\"...\")"
      ],
      "metadata": {
        "colab": {
          "base_uri": "https://localhost:8080/",
          "height": 572
        },
        "id": "0zwDGg7to0zI",
        "outputId": "be00fb0b-aaf1-4495-9f0c-a514f991bded"
      },
      "execution_count": null,
      "outputs": [
        {
          "output_type": "stream",
          "name": "stdout",
          "text": [
            "Lojas Tabajara\n",
            "Produto 1 :R$9.10\n",
            "Produto 2 :R$7.25\n",
            "Produto 3 :R$2.50\n",
            "Produto 4 :R$0\n",
            "Total: R$ 18.85\n",
            "Dinheiro: R$20.00\n",
            "Troco: R$ 1.15\n",
            "...\n",
            "Produto 1 :R$19.99\n",
            "Produto 2 :"
          ]
        },
        {
          "output_type": "error",
          "ename": "KeyboardInterrupt",
          "evalue": "ignored",
          "traceback": [
            "\u001b[0;31m---------------------------------------------------------------------------\u001b[0m",
            "\u001b[0;31mKeyboardInterrupt\u001b[0m                         Traceback (most recent call last)",
            "\u001b[0;32m<ipython-input-18-b30b7650874a>\u001b[0m in \u001b[0;36m<cell line: 10>\u001b[0;34m()\u001b[0m\n\u001b[1;32m     13\u001b[0m  \u001b[0;32mwhile\u001b[0m \u001b[0mpreco\u001b[0m \u001b[0;34m!=\u001b[0m \u001b[0;36m0\u001b[0m\u001b[0;34m:\u001b[0m\u001b[0;34m\u001b[0m\u001b[0;34m\u001b[0m\u001b[0m\n\u001b[1;32m     14\u001b[0m    \u001b[0mprint\u001b[0m\u001b[0;34m(\u001b[0m\u001b[0;34m\"Produto\"\u001b[0m\u001b[0;34m,\u001b[0m\u001b[0mcont\u001b[0m\u001b[0;34m,\u001b[0m\u001b[0;34m\":\"\u001b[0m\u001b[0;34m,\u001b[0m\u001b[0mend\u001b[0m\u001b[0;34m=\u001b[0m\u001b[0;34m\"\"\u001b[0m\u001b[0;34m)\u001b[0m\u001b[0;34m\u001b[0m\u001b[0;34m\u001b[0m\u001b[0m\n\u001b[0;32m---> 15\u001b[0;31m    \u001b[0mpreco\u001b[0m \u001b[0;34m=\u001b[0m \u001b[0mfloat\u001b[0m\u001b[0;34m(\u001b[0m\u001b[0minput\u001b[0m\u001b[0;34m(\u001b[0m\u001b[0;34m\"R$\"\u001b[0m\u001b[0;34m)\u001b[0m\u001b[0;34m)\u001b[0m\u001b[0;34m\u001b[0m\u001b[0;34m\u001b[0m\u001b[0m\n\u001b[0m\u001b[1;32m     16\u001b[0m    \u001b[0mcont\u001b[0m \u001b[0;34m=\u001b[0m \u001b[0mcont\u001b[0m\u001b[0;34m+\u001b[0m\u001b[0;36m1\u001b[0m\u001b[0;34m\u001b[0m\u001b[0;34m\u001b[0m\u001b[0m\n\u001b[1;32m     17\u001b[0m    \u001b[0mtotal\u001b[0m \u001b[0;34m=\u001b[0m \u001b[0mtotal\u001b[0m \u001b[0;34m+\u001b[0m \u001b[0mpreco\u001b[0m\u001b[0;34m\u001b[0m\u001b[0;34m\u001b[0m\u001b[0m\n",
            "\u001b[0;32m/usr/local/lib/python3.10/dist-packages/ipykernel/kernelbase.py\u001b[0m in \u001b[0;36mraw_input\u001b[0;34m(self, prompt)\u001b[0m\n\u001b[1;32m    849\u001b[0m                 \u001b[0;34m\"raw_input was called, but this frontend does not support input requests.\"\u001b[0m\u001b[0;34m\u001b[0m\u001b[0;34m\u001b[0m\u001b[0m\n\u001b[1;32m    850\u001b[0m             )\n\u001b[0;32m--> 851\u001b[0;31m         return self._input_request(str(prompt),\n\u001b[0m\u001b[1;32m    852\u001b[0m             \u001b[0mself\u001b[0m\u001b[0;34m.\u001b[0m\u001b[0m_parent_ident\u001b[0m\u001b[0;34m,\u001b[0m\u001b[0;34m\u001b[0m\u001b[0;34m\u001b[0m\u001b[0m\n\u001b[1;32m    853\u001b[0m             \u001b[0mself\u001b[0m\u001b[0;34m.\u001b[0m\u001b[0m_parent_header\u001b[0m\u001b[0;34m,\u001b[0m\u001b[0;34m\u001b[0m\u001b[0;34m\u001b[0m\u001b[0m\n",
            "\u001b[0;32m/usr/local/lib/python3.10/dist-packages/ipykernel/kernelbase.py\u001b[0m in \u001b[0;36m_input_request\u001b[0;34m(self, prompt, ident, parent, password)\u001b[0m\n\u001b[1;32m    893\u001b[0m             \u001b[0;32mexcept\u001b[0m \u001b[0mKeyboardInterrupt\u001b[0m\u001b[0;34m:\u001b[0m\u001b[0;34m\u001b[0m\u001b[0;34m\u001b[0m\u001b[0m\n\u001b[1;32m    894\u001b[0m                 \u001b[0;31m# re-raise KeyboardInterrupt, to truncate traceback\u001b[0m\u001b[0;34m\u001b[0m\u001b[0;34m\u001b[0m\u001b[0m\n\u001b[0;32m--> 895\u001b[0;31m                 \u001b[0;32mraise\u001b[0m \u001b[0mKeyboardInterrupt\u001b[0m\u001b[0;34m(\u001b[0m\u001b[0;34m\"Interrupted by user\"\u001b[0m\u001b[0;34m)\u001b[0m \u001b[0;32mfrom\u001b[0m \u001b[0;32mNone\u001b[0m\u001b[0;34m\u001b[0m\u001b[0;34m\u001b[0m\u001b[0m\n\u001b[0m\u001b[1;32m    896\u001b[0m             \u001b[0;32mexcept\u001b[0m \u001b[0mException\u001b[0m \u001b[0;32mas\u001b[0m \u001b[0me\u001b[0m\u001b[0;34m:\u001b[0m\u001b[0;34m\u001b[0m\u001b[0;34m\u001b[0m\u001b[0m\n\u001b[1;32m    897\u001b[0m                 \u001b[0mself\u001b[0m\u001b[0;34m.\u001b[0m\u001b[0mlog\u001b[0m\u001b[0;34m.\u001b[0m\u001b[0mwarning\u001b[0m\u001b[0;34m(\u001b[0m\u001b[0;34m\"Invalid Message:\"\u001b[0m\u001b[0;34m,\u001b[0m \u001b[0mexc_info\u001b[0m\u001b[0;34m=\u001b[0m\u001b[0;32mTrue\u001b[0m\u001b[0;34m)\u001b[0m\u001b[0;34m\u001b[0m\u001b[0;34m\u001b[0m\u001b[0m\n",
            "\u001b[0;31mKeyboardInterrupt\u001b[0m: Interrupted by user"
          ]
        }
      ]
    },
    {
      "cell_type": "code",
      "source": [
        "#Exerício 1:\n",
        "#Rafael Henrique de Andrade Caratenuto\n",
        "#Prof Carmen Lucia\n",
        "#Descrição peso e altura em academia\n",
        "codigo = 1\n",
        "peso = 0\n",
        "altura = 0\n",
        "pesoMax = 0\n",
        "pesoMin = 10000\n",
        "alturaMax = 0\n",
        "alturaMin = 10000\n",
        "codigoPMa = 0\n",
        "codigoPMi = 0\n",
        "codigoAMa = 0\n",
        "codigoAMi = 0\n",
        "mediaAl = 0.0\n",
        "mediaPe = 0.0\n",
        "cont = 0\n",
        "while codigo != 0:\n",
        "  codigo = int(input(\"Digite o seu codigo da academia: \"))\n",
        "  if codigo != 0:\n",
        "    altura = int(input(\"Digite a sua altura:(em cm) \"))\n",
        "    peso = int(input(\"Digite o seu peso:(em kg) \"))\n",
        "    mediaAl = mediaAl + altura\n",
        "    mediaPe = mediaPe + peso\n",
        "    cont = cont + 1\n",
        "    if altura>alturaMax:\n",
        "      alturaMax = altura\n",
        "      codigoAMa = codigo\n",
        "    if altura<alturaMin:\n",
        "      alturaMin = altura\n",
        "      codigoAMi = codigo\n",
        "    if peso>pesoMax:\n",
        "      pesoMax = peso\n",
        "      codigoPMa = codigo\n",
        "    if peso<pesoMin:\n",
        "      pesoMin = peso\n",
        "      codigoPMi = codigo\n",
        "mediaAl = mediaAl/cont\n",
        "mediaPe = mediaPe/cont\n",
        "print(\"Media de altura na academia é de\",round(mediaAl,2),\"cm\")\n",
        "print(\"Media de peso na academia é de\",round(mediaPe,2),\"kg\")\n",
        "print(\"Maior altura é do codigo\",codigoAMa,\"com\",alturaMax,\"cm\")\n",
        "print(\"Menor altura é do codigo\",codigoAMi,\"com\",alturaMin,\"cm\")\n",
        "print(\"Maior peso é do codigo\",codigoPMa,\"com\",pesoMax,\"kg\")\n",
        "print(\"Menor peso é do codigo\",codigoPMi,\"com\",pesoMin,\"kg\")"
      ],
      "metadata": {
        "colab": {
          "base_uri": "https://localhost:8080/"
        },
        "id": "gpEW_8VYs-yU",
        "outputId": "80f3c529-bccb-4f7a-82a7-ed0802945721"
      },
      "execution_count": null,
      "outputs": [
        {
          "output_type": "stream",
          "name": "stdout",
          "text": [
            "Digite o seu codigo da academia: 001\n",
            "Digite a sua altura:(em cm) 167\n",
            "Digite o seu peso:(em kg) 97\n",
            "Digite o seu codigo da academia: 002\n",
            "Digite a sua altura:(em cm) 180\n",
            "Digite o seu peso:(em kg) 40\n",
            "Digite o seu codigo da academia: 003\n",
            "Digite a sua altura:(em cm) 152\n",
            "Digite o seu peso:(em kg) 79\n",
            "Digite o seu codigo da academia: 004\n",
            "Digite a sua altura:(em cm) 175\n",
            "Digite o seu peso:(em kg) 100\n",
            "Digite o seu codigo da academia: 005\n",
            "Digite a sua altura:(em cm) 187\n",
            "Digite o seu peso:(em kg) 91\n",
            "Digite o seu codigo da academia: 006\n",
            "Digite a sua altura:(em cm) 179\n",
            "Digite o seu peso:(em kg) 61\n",
            "Digite o seu codigo da academia: 007\n",
            "Digite a sua altura:(em cm) 155\n",
            "Digite o seu peso:(em kg) 48\n",
            "Digite o seu codigo da academia: 0\n",
            "Media de altura na academia é de 170.71 cm\n",
            "Media de peso na academia é de 73.71 kg\n",
            "Maior altura é do codigo 5 com 187 cm\n",
            "Menor altura é do codigo 3 com 152 cm\n",
            "Maior peso é do codigo 4 com 100 kg\n",
            "Menor peso é do codigo 2 com 40 kg\n"
          ]
        }
      ]
    },
    {
      "cell_type": "code",
      "source": [
        "#Exerício 2:\n",
        "#Rafael Henrique de Andrade Caratenuto\n",
        "#Prof Carmen Lucia\n",
        "#Descrição calculo de salario\n",
        "salario = 0.0\n",
        "aumento = 0.015\n",
        "ano = 1995\n",
        "salario = float(input(\"Digite o salario: \"))\n",
        "while ano<2000:\n",
        "  salario = salario*(1+aumento)\n",
        "  ano = ano + 1\n",
        "  aumento = aumento*2\n",
        "print(\"Salario nos anos 2000 é de\",round(salario,2))"
      ],
      "metadata": {
        "colab": {
          "base_uri": "https://localhost:8080/"
        },
        "id": "VbzE8mI_z6tn",
        "outputId": "5bb456fa-7462-4827-b658-8f8307a755e9"
      },
      "execution_count": null,
      "outputs": [
        {
          "output_type": "stream",
          "name": "stdout",
          "text": [
            "Digite o salario: 1000\n",
            "Salario nos anos 2000 é de 1539.04\n"
          ]
        }
      ]
    },
    {
      "cell_type": "code",
      "source": [
        "#Exerício 3:\n",
        "#Rafael Henrique de Andrade Caratenuto\n",
        "#Prof Carmen Lucia\n",
        "#Descrição altura em escola\n",
        "numeAlu = 1\n",
        "altura = 0\n",
        "alturaMax = 0\n",
        "alturaMin = 10000\n",
        "numeAluMa = 0\n",
        "numeAluMi = 0\n",
        "cont = 0\n",
        "while cont<10 :\n",
        "  numeAlu = int(input(\"Digite o numero do aluno: \"))\n",
        "  altura = int(input(\"Digite a sua altura:(em cm) \"))\n",
        "  if altura>alturaMax:\n",
        "    alturaMax = altura\n",
        "    numeAluMa = numeAlu\n",
        "  if altura<alturaMin:\n",
        "    alturaMin = altura\n",
        "    numeAluMi = numeAlu\n",
        "  cont = cont + 1\n",
        "print(\"Maior altura é do aluno\",numeAluMa,\"com\",alturaMax,\"cm\")\n",
        "print(\"Menor altura é do aluno\",numeAluMi,\"com\",alturaMin,\"cm\")"
      ],
      "metadata": {
        "colab": {
          "base_uri": "https://localhost:8080/"
        },
        "id": "cMx1s28V2cFw",
        "outputId": "572518c7-60e8-4eee-db2f-bebb8be16809"
      },
      "execution_count": null,
      "outputs": [
        {
          "output_type": "stream",
          "name": "stdout",
          "text": [
            "Digite o numero do aluno: 4\n",
            "Digite a sua altura:(em cm) 156\n",
            "Digite o numero do aluno: 19\n",
            "Digite a sua altura:(em cm) 159\n",
            "Digite o numero do aluno: 78\n",
            "Digite a sua altura:(em cm) 153\n",
            "Digite o numero do aluno: 79\n",
            "Digite a sua altura:(em cm) 181\n",
            "Digite o numero do aluno: 14\n",
            "Digite a sua altura:(em cm) 155\n",
            "Digite o numero do aluno: 5\n",
            "Digite a sua altura:(em cm) 146\n",
            "Digite o numero do aluno: 33\n",
            "Digite a sua altura:(em cm) 106\n",
            "Digite o numero do aluno: 16\n",
            "Digite a sua altura:(em cm) 142\n",
            "Digite o numero do aluno: 22\n",
            "Digite a sua altura:(em cm) 120\n",
            "Digite o numero do aluno: 76\n",
            "Digite a sua altura:(em cm) 116\n",
            "Maior altura é do aluno 79 com 181 cm\n",
            "Menor altura é do aluno 33 com 106 cm\n"
          ]
        }
      ]
    },
    {
      "cell_type": "code",
      "source": [
        "#Exerício 4:\n",
        "#Rafael Henrique de Andrade Caratenuto\n",
        "#Prof Carmen Lucia\n",
        "#Descrição pesquisa de acidente de carro\n",
        "codigo = 0\n",
        "veiculos = 0\n",
        "acidentes = 0\n",
        "indice = 0.0\n",
        "indiceMax = 0.0\n",
        "indiceMin = 10000.0\n",
        "codiMax = 0\n",
        "codiMin = 0\n",
        "contCi = 0\n",
        "contVe = 0\n",
        "mediaVe = 0.0\n",
        "mediaAc = 0.0\n",
        "while contCi<5:\n",
        "  codigo = int(input(\"Digite o codigo da cidade: \"))\n",
        "  veiculos = int(input(\"Digite o numero de veiculos dessa cidade: \"))\n",
        "  acidentes = int(input(\"Digite o numero de acidentes dessa cidade: \"))\n",
        "  indice = veiculos/acidentes\n",
        "  if indice>indiceMax:\n",
        "    indiceMax = indice\n",
        "    codiMax = codigo\n",
        "  if indice<indiceMin:\n",
        "    indiceMin = indice\n",
        "    codiMin = codigo\n",
        "  if veiculos<2000:\n",
        "    contVe = contVe+1\n",
        "    mediaAc = mediaAc + acidentes\n",
        "  mediaVe = mediaVe + veiculos\n",
        "  contCi = contCi + 1\n",
        "mediaVe = mediaVe/contCi\n",
        "if mediaAc>1:\n",
        "  mediaAc = mediaAc/contVe\n",
        "print(\"Maior indice de acidentes é de\",round(indiceMax,1),\"da cidade\",codiMax)\n",
        "print(\"Menor indice de acidentes é de\",round(indiceMin,1),\"da cidade\",codiMin)\n",
        "print(\"Media de veiculos das 5 cidades é de\",round(mediaVe,1))\n",
        "print(\"Media de acidentes em cidades com menos de 2000 veiculos é de\",round(mediaAc,1))"
      ],
      "metadata": {
        "id": "Al7tKdnq5Yq-",
        "colab": {
          "base_uri": "https://localhost:8080/"
        },
        "outputId": "806bfc91-eeda-4d29-c466-0226f846d00d"
      },
      "execution_count": null,
      "outputs": [
        {
          "output_type": "stream",
          "name": "stdout",
          "text": [
            "Digite o codigo da cidade: 182\n",
            "Digite o numero de veiculos dessa cidade: 2500\n",
            "Digite o numero de acidentes dessa cidade: 450\n",
            "Digite o codigo da cidade: 21\n",
            "Digite o numero de veiculos dessa cidade: 1800\n",
            "Digite o numero de acidentes dessa cidade: 200\n",
            "Digite o codigo da cidade: 94\n",
            "Digite o numero de veiculos dessa cidade: 3500\n",
            "Digite o numero de acidentes dessa cidade: 1200\n",
            "Digite o codigo da cidade: 104\n",
            "Digite o numero de veiculos dessa cidade: 1600\n",
            "Digite o numero de acidentes dessa cidade: 350\n",
            "Digite o codigo da cidade: 77\n",
            "Digite o numero de veiculos dessa cidade: 2000\n",
            "Digite o numero de acidentes dessa cidade: 150\n",
            "Maior indice de acidentes é de 13.3 da cidade 77\n",
            "Menor indice de acidentes é de 2.9 da cidade 94\n",
            "Media de veiculos das 5 cidades é de 2280.0\n",
            "Media de acidentes em cidades com menos de 2000 veiculos é de 275.0\n"
          ]
        }
      ]
    },
    {
      "cell_type": "code",
      "source": [
        "#Exerício 5:\n",
        "#Rafael Henrique de Andrade Caratenuto\n",
        "#Prof Carmen Lucia\n",
        "#Descrição tabela de juros por parcelas\n",
        "valorD = 0.0\n",
        "total = 0.0\n",
        "juros = 0.0\n",
        "parcelas = 0\n",
        "valorP = 0.0\n",
        "valorD = float(input(\"Digite o valor da divida: \"))\n",
        "print(\"Valor da divida ❙ Valor dos juros ❙ Quantidade de parcelas ❙ Valor da parcela\")\n",
        "total = valorD\n",
        "parcelas = 1\n",
        "valorP = total\n",
        "print(\"R$\",total,\"❙\",juros,\"❙\",parcelas,\"❙ R$\",round(valorP,2))\n",
        "total = valorD*1.1\n",
        "juros = valorD*0.1\n",
        "parcelas = 3\n",
        "valorP = total/parcelas\n",
        "print(\"R$\",total,\"❙\",juros,\"❙\",parcelas,\"❙ R$\",round(valorP,2))\n",
        "total = valorD*1.15\n",
        "juros = valorD*0.15\n",
        "parcelas = 6\n",
        "valorP = total/parcelas\n",
        "print(\"R$\",total,\"❙\",juros,\"❙\",parcelas,\"❙ R$\",round(valorP,2))\n",
        "total = valorD*1.2\n",
        "juros = valorD*0.2\n",
        "parcelas = 9\n",
        "valorP = total/parcelas\n",
        "print(\"R$\",total,\"❙\",juros,\"❙\",parcelas,\"❙ R$\",round(valorP,2))\n",
        "total = valorD*1.25\n",
        "juros = valorD*0.25\n",
        "parcelas = 12\n",
        "valorP = total/parcelas\n",
        "print(\"R$\",total,\"❙\",juros,\"❙\",parcelas,\"❙ R$\",round(valorP,2))"
      ],
      "metadata": {
        "colab": {
          "base_uri": "https://localhost:8080/"
        },
        "id": "YG6LNr7y292-",
        "outputId": "ce03daad-5d9f-42ed-da19-b40d0592148e"
      },
      "execution_count": null,
      "outputs": [
        {
          "output_type": "stream",
          "name": "stdout",
          "text": [
            "Digite o valor da divida: 1000\n",
            "Valor da divida ❙ Valor dos juros ❙ Quantidade de parcelas ❙ Valor da parcela\n",
            "R$ 1000.0 ❙ 0.0 ❙ 1 ❙ R$ 1000.0\n",
            "R$ 1100.0 ❙ 100.0 ❙ 3 ❙ R$ 366.67\n",
            "R$ 1150.0 ❙ 150.0 ❙ 6 ❙ R$ 191.67\n",
            "R$ 1200.0 ❙ 200.0 ❙ 9 ❙ R$ 133.33\n",
            "R$ 1250.0 ❙ 250.0 ❙ 12 ❙ R$ 104.17\n"
          ]
        }
      ]
    },
    {
      "cell_type": "code",
      "source": [
        "#Exerício 6:\n",
        "#Rafael Henrique de Andrade Caratenuto\n",
        "#Prof Carmen Lucia\n",
        "#Descrição contagem de numeros\n",
        "nume = 0\n",
        "cont25 = 0\n",
        "cont50 = 0\n",
        "cont75 = 0\n",
        "cont100 = 0\n",
        "while nume>=0:\n",
        "  nume = int(input(\"Digite um numero: \"))\n",
        "  if nume<0:\n",
        "    print(\"Programa encerrado.\")\n",
        "  elif nume<26:\n",
        "    cont25 = cont25 + 1\n",
        "  elif nume<51:\n",
        "    cont50 = cont50 + 1\n",
        "  elif nume<76:\n",
        "    cont75 = cont75 + 1\n",
        "  elif nume<101:\n",
        "    cont100 = cont100 + 1\n",
        "print(cont25,\"numeros entre 0 e 25\")\n",
        "print(cont50,\"numeros entre 26 e 50\")\n",
        "print(cont75,\"numeros entre 51 e 75\")\n",
        "print(cont100,\"numeros entre 76 e 100\")"
      ],
      "metadata": {
        "colab": {
          "base_uri": "https://localhost:8080/"
        },
        "id": "sxMAPnaWC4Gz",
        "outputId": "d1d1d8a1-3ed0-4ebf-8780-4500b95f4e61"
      },
      "execution_count": null,
      "outputs": [
        {
          "output_type": "stream",
          "name": "stdout",
          "text": [
            "Digite um numero: 12\n",
            "Digite um numero: 25\n",
            "Digite um numero: 64\n",
            "Digite um numero: 75\n",
            "Digite um numero: 38\n",
            "Digite um numero: 50\n",
            "Digite um numero: 89\n",
            "Digite um numero: 100\n",
            "Digite um numero: 120\n",
            "Digite um numero: -1\n",
            "Programa encerrado.\n",
            "2 numeros entre 0 e 25\n",
            "2 numeros entre 26 e 50\n",
            "2 numeros entre 51 e 75\n",
            "2 numeros entre 76 e 100\n"
          ]
        }
      ]
    },
    {
      "cell_type": "code",
      "source": [
        "#Exerício 7:\n",
        "#Rafael Henrique de Andrade Caratenuto\n",
        "#Prof Carmen Lucia\n",
        "#Descrição cardapio\n",
        "codigo = 1\n",
        "quantidade = 0\n",
        "preco = 0.0\n",
        "valorItem = 0.0\n",
        "valorTotal = 0.0\n",
        "print(\"Especificações  ❙ Código ❙ Preço\")\n",
        "print(\"Cachorro Quente ❙  100   ❙ R$1,20\")\n",
        "print(\"Bauru Simples   ❙  101   ❙ R$1,30\")\n",
        "print(\"Bauru com ovo   ❙  102   ❙ R$1,50\")\n",
        "print(\"Hambúrguer      ❙  103   ❙ R$1,20\")\n",
        "print(\"Cheeseburguer   ❙  104   ❙ R$1,30\")\n",
        "print(\"Refrigerante    ❙  105   ❙ R$1,00\")\n",
        "print(\"Encerrar pedido ❙  000   ❙\")\n",
        "while codigo != 0:\n",
        "  codigo = int(input(\"Digite o codigo desejado: \"))\n",
        "  if codigo != 0:\n",
        "    quantidade = int(input(\"Digite a quantidade desse produto: \"))\n",
        "    if codigo == 100 or codigo == 103:\n",
        "      preco = 1.2\n",
        "    elif codigo == 101 or codigo == 104:\n",
        "      preco = 1.3\n",
        "    elif codigo == 102:\n",
        "      preco = 1.5\n",
        "    elif codigo == 105:\n",
        "      preco = 1\n",
        "    valorItem = quantidade*preco\n",
        "    valorTotal = valorTotal+valorItem\n",
        "    print(\"Valor total desse produto: R$\",round(valorItem,2))\n",
        "    print(\"Valor total da conta: R$\",round(valorTotal,2))"
      ],
      "metadata": {
        "colab": {
          "base_uri": "https://localhost:8080/"
        },
        "id": "imgN4KUIEz3u",
        "outputId": "bc3c9a01-225a-4290-e077-47b00149ac2b"
      },
      "execution_count": null,
      "outputs": [
        {
          "name": "stdout",
          "output_type": "stream",
          "text": [
            "Especificações  ❙ Código ❙ Preço\n",
            "Cachorro Quente ❙  100   ❙ R$1,20\n",
            "Bauru Simples   ❙  101   ❙ R$1,30\n",
            "Bauru com ovo   ❙  102   ❙ R$1,50\n",
            "Hambúrguer      ❙  103   ❙ R$1,20\n",
            "Cheeseburguer   ❙  104   ❙ R$1,30\n",
            "Refrigerante    ❙  105   ❙ R$1,00\n",
            "Encerrar pedido ❙  000   ❙\n",
            "Digite o codigo desejado: 100\n",
            "Digite a quantidade desse produto: 3\n",
            "Valor total desse produto: R$ 3.6\n",
            "Valor total da conta: R$ 3.6\n",
            "Digite o codigo desejado: 105\n",
            "Digite a quantidade desse produto: 1\n",
            "Valor total desse produto: R$ 1\n",
            "Valor total da conta: R$ 4.6\n",
            "Digite o codigo desejado: 104\n",
            "Digite a quantidade desse produto: 2\n",
            "Valor total desse produto: R$ 2.6\n",
            "Valor total da conta: R$ 7.2\n",
            "Digite o codigo desejado: 000\n"
          ]
        }
      ]
    },
    {
      "cell_type": "code",
      "source": [
        "#Exerício 8:\n",
        "#Rafael Henrique de Andrade Caratenuto\n",
        "#Prof Carmen Lucia\n",
        "#Descrição votação\n",
        "voto = 1\n",
        "contVoto = 0\n",
        "voto1 = 0\n",
        "voto2 = 0\n",
        "voto3 = 0\n",
        "voto4 = 0\n",
        "votoN = 0\n",
        "votoB = 0\n",
        "while voto != 0:\n",
        "  print(\"1 - João ❙ 2 - Jean ❙ 3 - Gustavo ❙ 4 - Eddie\")\n",
        "  print(\"5 - Voto Nulo\")\n",
        "  print(\"6 - Voto em Branco\")\n",
        "  voto = int(input(\"Digite o numero do seu voto: \"))\n",
        "  if voto != 0:\n",
        "    contVoto = contVoto + 1\n",
        "    if voto == 1:\n",
        "      voto1 = voto1 + 1\n",
        "    elif voto == 2:\n",
        "      voto2 = voto2 + 1\n",
        "    elif voto == 3:\n",
        "      voto3 = voto3 + 1\n",
        "    elif voto == 4:\n",
        "      voto4 = voto4 + 1\n",
        "    elif voto == 5:\n",
        "      votoN = votoN + 1\n",
        "    elif voto == 6:\n",
        "      votoB = votoB + 1\n",
        "print(voto1,\"votos para João\")\n",
        "print(voto2,\"votos para Jean\")\n",
        "print(voto3,\"votos para Gustavo\")\n",
        "print(voto4,\"votos para Eddie\")\n",
        "print(votoN,\"votos nulos\")\n",
        "print(votoB,\"votos em branco\")\n",
        "print(round(votoN/contVoto*100,1),\"% de votos nulos\")\n",
        "print(round(votoB/contVoto*100,1),\"% de votos em branco\")"
      ],
      "metadata": {
        "colab": {
          "base_uri": "https://localhost:8080/"
        },
        "id": "umLO27t_JXd8",
        "outputId": "44404a14-9e9c-4e79-f7a4-059cc2395c4a"
      },
      "execution_count": null,
      "outputs": [
        {
          "output_type": "stream",
          "name": "stdout",
          "text": [
            "1 - João ❙ 2 - Jean ❙ 3 - Gustavo ❙ 4 - Eddie\n",
            "5 - Voto Nulo\n",
            "6 - Voto em Branco\n",
            "Digite o numero do seu voto: 3\n",
            "1 - João ❙ 2 - Jean ❙ 3 - Gustavo ❙ 4 - Eddie\n",
            "5 - Voto Nulo\n",
            "6 - Voto em Branco\n",
            "Digite o numero do seu voto: 4\n",
            "1 - João ❙ 2 - Jean ❙ 3 - Gustavo ❙ 4 - Eddie\n",
            "5 - Voto Nulo\n",
            "6 - Voto em Branco\n",
            "Digite o numero do seu voto: 6\n",
            "1 - João ❙ 2 - Jean ❙ 3 - Gustavo ❙ 4 - Eddie\n",
            "5 - Voto Nulo\n",
            "6 - Voto em Branco\n",
            "Digite o numero do seu voto: 4\n",
            "1 - João ❙ 2 - Jean ❙ 3 - Gustavo ❙ 4 - Eddie\n",
            "5 - Voto Nulo\n",
            "6 - Voto em Branco\n",
            "Digite o numero do seu voto: 5\n",
            "1 - João ❙ 2 - Jean ❙ 3 - Gustavo ❙ 4 - Eddie\n",
            "5 - Voto Nulo\n",
            "6 - Voto em Branco\n",
            "Digite o numero do seu voto: 0\n",
            "0 votos para João\n",
            "0 votos para Jean\n",
            "1 votos para Gustavo\n",
            "2 votos para Eddie\n",
            "1 votos nulos\n",
            "1 votos em branco\n",
            "20.0 % de votos nulos\n",
            "20.0 % de votos em branco\n"
          ]
        }
      ]
    },
    {
      "cell_type": "code",
      "source": [
        "#Exercício 9:\n",
        "#Rafael Henrique de Andrade Caratenuto\n",
        "#Prof Carmen Lucia\n",
        "#Descrição prova\n",
        "nota = 0\n",
        "cont = 0\n",
        "aluno = 0\n",
        "media = 0.0\n",
        "min = 10\n",
        "max = 0\n",
        "resp = \"\"\n",
        "alun = \"\"\n",
        "while alun != \"n\" and alun != \"N\":\n",
        " cont = 0\n",
        " nota = 0\n",
        " print(\"Folha de resposta:\")\n",
        " while cont<10:\n",
        "  cont = cont+1\n",
        "  print(\"Questão\",cont,\":\",end=\"\")\n",
        "  resp = input()\n",
        "  if cont == 1 or cont == 10:\n",
        "    if resp == \"a\" or resp == \"A\":\n",
        "     nota = nota + 1\n",
        "  elif cont == 2 or cont == 9:\n",
        "    if resp == \"b\" or resp == \"B\":\n",
        "     nota = nota + 1\n",
        "  elif cont == 3 or cont == 8:\n",
        "    if resp == \"c\" or resp == \"C\":\n",
        "     nota = nota + 1\n",
        "  elif cont == 4 or cont == 7:\n",
        "    if resp == \"d\" or resp == \"D\":\n",
        "     nota = nota + 1\n",
        "  elif cont == 5 or cont == 6:\n",
        "    if resp == \"e\" or resp == \"E\":\n",
        "     nota = nota + 1\n",
        " aluno = aluno + 1\n",
        " if nota<min:\n",
        "  min = nota\n",
        " if nota>max:\n",
        "  max = nota\n",
        " media = media + nota\n",
        " alun = input(\"Outro aluno vai realizar a prova?(s ou n) \")\n",
        "media = media/aluno\n",
        "print(\"Maior nota foi\",max)\n",
        "print(\"Menor nota foi\",min)\n",
        "print(aluno,\"alunos realizaram a prova\")\n",
        "print(\"Media de acerto foi de\",round(media,1))"
      ],
      "metadata": {
        "colab": {
          "base_uri": "https://localhost:8080/"
        },
        "id": "RIrC_yEUTLt2",
        "outputId": "9d8d73fc-68bf-4f6b-ed2e-944a312e1f20"
      },
      "execution_count": null,
      "outputs": [
        {
          "output_type": "stream",
          "name": "stdout",
          "text": [
            "Folha de resposta:\n",
            "Questão 1 :A\n",
            "Questão 2 :B\n",
            "Questão 3 :C\n",
            "Questão 4 :d\n",
            "Questão 5 :D\n",
            "Questão 6 :E\n",
            "Questão 7 :D\n",
            "Questão 8 :B\n",
            "Questão 9 :b\n",
            "Questão 10 :A\n",
            "Outro aluno vai realizar a prova?(s ou n) S\n",
            "Folha de resposta:\n",
            "Questão 1 :b\n",
            "Questão 2 :a\n",
            "Questão 3 :c\n",
            "Questão 4 :D\n",
            "Questão 5 :a\n",
            "Questão 6 :d\n",
            "Questão 7 :b\n",
            "Questão 8 :e\n",
            "Questão 9 :A\n",
            "Questão 10 :A\n",
            "Outro aluno vai realizar a prova?(s ou n) n\n",
            "Maior nota foi 8\n",
            "Menor nota foi 3\n",
            "2 alunos realizaram a prova\n",
            "Media de acerto foi de 5.5\n"
          ]
        }
      ]
    },
    {
      "cell_type": "code",
      "source": [
        "#Exercício 10:\n",
        "#Rafael Henrique de Andrade Caratenuto\n",
        "#Prof Carmen Lucia\n",
        "#Descrição salto em distância\n",
        "salto = 0.0\n",
        "media = 0.0\n",
        "min = 0.0\n",
        "max = 0.0\n",
        "nome = \"a\"\n",
        "while nome != \"\":\n",
        "  min = 100000.0\n",
        "  max = 0.0\n",
        "  media = 0.0\n",
        "  nome = input(\"Atleta: \")\n",
        "  print(\"\")\n",
        "  if nome != \"\":\n",
        "   salto = float(input(\"Primeiro salto em m: \"))\n",
        "   media = media + salto\n",
        "   if salto<min:\n",
        "    min = salto\n",
        "   if salto>max:\n",
        "    max = salto\n",
        "   salto = float(input(\"Segundo salto em m: \"))\n",
        "   media = media + salto\n",
        "   if salto<min:\n",
        "    min = salto\n",
        "   if salto>max:\n",
        "    max = salto\n",
        "   salto = float(input(\"Terceiro salto em m: \"))\n",
        "   media = media + salto\n",
        "   if salto<min:\n",
        "    min = salto\n",
        "   if salto>max:\n",
        "    max = salto\n",
        "   salto = float(input(\"Quarto salto em m: \"))\n",
        "   media = media + salto\n",
        "   if salto<min:\n",
        "    min = salto\n",
        "   if salto>max:\n",
        "    max = salto\n",
        "   salto = float(input(\"Quinto salto em m: \"))\n",
        "   media = media + salto\n",
        "   if salto<min:\n",
        "    min = salto\n",
        "   if salto>max:\n",
        "    max = salto\n",
        "   print(\"\")\n",
        "   print(\"Melhor salto:\",max,\"m\")\n",
        "   print(\"Pior salto:\",min,\"m\")\n",
        "   media = (media - max - min)/3\n",
        "   print(\"Média dos demais saltos:\",round(media,1),\"m\")\n",
        "   print(\"\")\n",
        "   print(\"Resultado final:\")\n",
        "   print(nome,\":\",round(media,1),\"m\")\n",
        "   print(\"\")"
      ],
      "metadata": {
        "colab": {
          "base_uri": "https://localhost:8080/"
        },
        "id": "b5eRwgyNvaeh",
        "outputId": "3812aa7b-1be5-43f0-eb5d-ea3704a4be68"
      },
      "execution_count": null,
      "outputs": [
        {
          "output_type": "stream",
          "name": "stdout",
          "text": [
            "Atleta: Rafael\n",
            "\n",
            "Primeiro salto em m: 3.8\n",
            "Segundo salto em m: 6.3\n",
            "Terceiro salto em m: 9.2\n",
            "Quarto salto em m: 8.3\n",
            "Quinto salto em m: 4.1\n",
            "\n",
            "Melhor salto: 9.2 m\n",
            "Pior salto: 3.8 m\n",
            "Média dos demais saltos: 6.2 m\n",
            "\n",
            "Resultado final:\n",
            "Rafael : 6.2 m\n",
            "\n",
            "Atleta: Eddie\n",
            "\n",
            "Primeiro salto em m: 1.2\n",
            "Segundo salto em m: 9.0\n",
            "Terceiro salto em m: 1.8\n",
            "Quarto salto em m: 9.5\n",
            "Quinto salto em m: 5.2\n",
            "\n",
            "Melhor salto: 9.5 m\n",
            "Pior salto: 1.2 m\n",
            "Média dos demais saltos: 5.3 m\n",
            "\n",
            "Resultado final:\n",
            "Eddie : 5.3 m\n",
            "\n",
            "Atleta: \n",
            "\n"
          ]
        }
      ]
    },
    {
      "cell_type": "code",
      "source": [
        "#Exercício 24:\n",
        "#Rafael Henrique de Andrade Caratenuto\n",
        "#Prof Carmen Lucia\n",
        "#Descrição ginastica\n",
        "nota = 0.0\n",
        "media = 0.0\n",
        "min = 10.0\n",
        "max = 0.0\n",
        "cont = 0\n",
        "nome = \"\"\n",
        "nome = input(\"Atleta: \")\n",
        "while cont<7:\n",
        " nota = float(input(\"Nota: \"))\n",
        " media = media + nota\n",
        " if nota<min:\n",
        "  min = nota\n",
        " if nota>max:\n",
        "  max = nota\n",
        " cont = cont + 1\n",
        "print(\"\")\n",
        "print(\"Resultado final:\")\n",
        "print(\"Atleta:\",nome)\n",
        "print(\"Melhor nota:\",max)\n",
        "print(\"Pior nota:\",min)\n",
        "media = (media - max - min)/5\n",
        "print(\"Média:\",round(media,2))"
      ],
      "metadata": {
        "colab": {
          "base_uri": "https://localhost:8080/"
        },
        "id": "mlpy2xB93AE9",
        "outputId": "9b513251-ad92-4ab5-894b-31ba6499aa7f"
      },
      "execution_count": null,
      "outputs": [
        {
          "output_type": "stream",
          "name": "stdout",
          "text": [
            "Atleta: Rafael\n",
            "Nota: 4.7\n",
            "Nota: 4.1\n",
            "Nota: 6.9\n",
            "Nota: 0.4\n",
            "Nota: 1.4\n",
            "Nota: 6.5\n",
            "Nota: 5.4\n",
            "\n",
            "Resultado final:\n",
            "Atleta: Rafael\n",
            "Melhor nota: 6.9\n",
            "Pior nota: 0.4\n",
            "Média: 4.42\n"
          ]
        }
      ]
    },
    {
      "cell_type": "code",
      "source": [
        "#Exercício 38:\n",
        "#Rafael Henrique de Andrade Caratenuto\n",
        "#Prof Carmen Lucia\n",
        "#Descrição imprimir numero invertido\n",
        "nume = 0\n",
        "inver = \"\"\n",
        "max = 0\n",
        "auxi = 0\n",
        "\n",
        "nume = int(input(\"Digite um numero: \"))\n",
        "inver = str(nume)\n",
        "max = len(inver)\n",
        "while max>0:\n",
        "  auxi = max - 1\n",
        "  print(inver[auxi:max],end=\"\")\n",
        "  max = max - 1"
      ],
      "metadata": {
        "colab": {
          "base_uri": "https://localhost:8080/"
        },
        "id": "XDVpTF-P5ap2",
        "outputId": "6a76e935-04eb-4597-dd28-b91a643965d0"
      },
      "execution_count": null,
      "outputs": [
        {
          "output_type": "stream",
          "name": "stdout",
          "text": [
            "Digite um numero: 456123798\n",
            "897321654"
          ]
        }
      ]
    },
    {
      "cell_type": "code",
      "source": [
        "#Exercício 39:\n",
        "#Rafael Henrique de Andrade Caratenuto\n",
        "#Prof Carmen Lucia\n",
        "#Descrição n termos da serie\n",
        "n = 1\n",
        "m = 1\n",
        "cont = 0\n",
        "max = 0\n",
        "resul = 0.0\n",
        "max = int(input(\"Digite o numero de N termos: \"))\n",
        "while cont<max:\n",
        "  print(n,end=\"\")\n",
        "  print(\"/\",end=\"\")\n",
        "  print(m,end=\"\")\n",
        "  resul = resul + (n/m)\n",
        "  n = n + 1\n",
        "  m = m + 2\n",
        "  cont = cont + 1\n",
        "  if cont<max:\n",
        "    print(\" + \",end=\"\")\n",
        "print(\"\")\n",
        "print(\"Resultado é:\",resul)"
      ],
      "metadata": {
        "colab": {
          "base_uri": "https://localhost:8080/"
        },
        "id": "93voa4_x7FRo",
        "outputId": "1fc1e702-54e6-4ab9-c250-ef1ee4f8527a"
      },
      "execution_count": null,
      "outputs": [
        {
          "output_type": "stream",
          "name": "stdout",
          "text": [
            "Digite o numero de N termos: 10\n",
            "1/1 + 2/3 + 3/5 + 4/7 + 5/9 + 6/11 + 7/13 + 8/15 + 9/17 + 10/19\n",
            "6.066627765079777\n"
          ]
        }
      ]
    },
    {
      "cell_type": "code",
      "source": [
        "#Exercício 40:\n",
        "#Rafael Henrique de Andrade Caratenuto\n",
        "#Prof Carmen Lucia\n",
        "#Descrição H de n termos\n",
        "n = 1\n",
        "max = 0\n",
        "H = 0.0\n",
        "max = int(input(\"Digite o numero de N termos: \"))\n",
        "while n<=max:\n",
        " H = H + 1/n\n",
        " n = n + 1\n",
        "print(\"H é igual a\",H)"
      ],
      "metadata": {
        "colab": {
          "base_uri": "https://localhost:8080/"
        },
        "id": "zcJ8DfBf8q9h",
        "outputId": "298ec773-ee04-43e7-f532-7b36e3117c1d"
      },
      "execution_count": null,
      "outputs": [
        {
          "output_type": "stream",
          "name": "stdout",
          "text": [
            "Digite o numero de N termos: 50\n",
            "H é igual a 4.499205338329423\n"
          ]
        }
      ]
    },
    {
      "cell_type": "code",
      "source": [
        "#Exercício 41:\n",
        "#Rafael Henrique de Andrade Caratenuto\n",
        "#Prof Carmen Lucia\n",
        "#Descrição n termos da serie\n",
        "n = 1\n",
        "m = 1\n",
        "cont = 0\n",
        "max = 0\n",
        "resul = 0.0\n",
        "max = int(input(\"Digite o numero de N termos: \"))\n",
        "while cont<max:\n",
        "  print(n,end=\"\")\n",
        "  print(\"/\",end=\"\")\n",
        "  print(m,end=\"\")\n",
        "  resul = resul + (n/m)\n",
        "  n = n + 1\n",
        "  m = m + 2\n",
        "  cont = cont + 1\n",
        "  if cont<max:\n",
        "    print(\" + \",end=\"\")\n",
        "print(\"\")\n",
        "print(\"Resultado é:\",resul)"
      ],
      "metadata": {
        "colab": {
          "base_uri": "https://localhost:8080/"
        },
        "id": "xcJILMNr8rVH",
        "outputId": "8a4ae243-fd00-40e7-c45d-2ee9893f09be"
      },
      "execution_count": null,
      "outputs": [
        {
          "output_type": "stream",
          "name": "stdout",
          "text": [
            "Digite o numero de N termos: 20\n",
            "1/1 + 2/3 + 3/5 + 4/7 + 5/9 + 6/11 + 7/13 + 8/15 + 9/17 + 10/19 + 11/21 + 12/23 + 13/25 + 14/27 + 15/29 + 16/31 + 17/33 + 18/35 + 19/37 + 20/39\n",
            "11.239836605182267\n"
          ]
        }
      ]
    }
  ]
}
