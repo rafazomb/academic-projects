{
  "nbformat": 4,
  "nbformat_minor": 0,
  "metadata": {
    "colab": {
      "provenance": [],
      "authorship_tag": "ABX9TyO2mMKFz/ropeqUKXUHwYlN",
      "include_colab_link": true
    },
    "kernelspec": {
      "name": "python3",
      "display_name": "Python 3"
    },
    "language_info": {
      "name": "python"
    }
  },
  "cells": [
    {
      "cell_type": "markdown",
      "metadata": {
        "id": "view-in-github",
        "colab_type": "text"
      },
      "source": [
        "<a href=\"https://colab.research.google.com/github/rafazomb/academic-projects/blob/main/while_e_subrotina_tarefa.ipynb\" target=\"_parent\"><img src=\"https://colab.research.google.com/assets/colab-badge.svg\" alt=\"Open In Colab\"/></a>"
      ]
    },
    {
      "cell_type": "code",
      "execution_count": null,
      "metadata": {
        "id": "bUFD0IRvpFQ4",
        "colab": {
          "base_uri": "https://localhost:8080/"
        },
        "outputId": "131ebdae-1ae4-4ede-c9b6-a3e1b5ca17e6"
      },
      "outputs": [
        {
          "output_type": "stream",
          "name": "stdout",
          "text": [
            "Digite sua data de nascimento nesse formato: (xx/xx/xxxx) 30/08/2004\n",
            "Voce nasceu em  30 de agosto de 2004\n"
          ]
        }
      ],
      "source": [
        "#Exercício 1:\n",
        "#Rafael Henrique de Andrade Caratenuto\n",
        "#Prof Carmen Lucia\n",
        "#Descrição: separar data digitada\n",
        "data = str(input(\"Digite sua data de nascimento nesse formato: (xx/xx/xxxx) \"))\n",
        "if data[3:5] == \"01\":\n",
        " mes = \"janeiro\"\n",
        "elif data[3:5] == \"02\":\n",
        " mes = \"fevereiro\"\n",
        "elif data[3:5] == \"03\":\n",
        " mes = \"março\"\n",
        "elif data[3:5] == \"04\":\n",
        " mes = \"abril\"\n",
        "elif data[3:5] == \"05\":\n",
        " mes = \"maio\"\n",
        "elif data[3:5] == \"06\":\n",
        " mes = \"junho\"\n",
        "elif data[3:5] == \"07\":\n",
        " mes = \"julho\"\n",
        "elif data[3:5] == \"08\":\n",
        " mes = \"agosto\"\n",
        "elif data[3:5] == \"09\":\n",
        " mes = \"setembro\"\n",
        "elif data[3:5] == \"10\":\n",
        " mes = \"outubro\"\n",
        "elif data[3:5] == \"11\":\n",
        " mes = \"novembro\"\n",
        "else:\n",
        " mes = \"dezembro\"\n",
        "print(\"Voce nasceu em \",data[0:2],\"de\",mes,\"de\",data[6:11])"
      ]
    },
    {
      "cell_type": "code",
      "source": [
        "#Exercício 2:\n",
        "#Rafael Henrique de Andrade Caratenuto\n",
        "#Prof Carmen Lucia\n",
        "#Descrição: tamanhos de string\n",
        "frase1 = str(input(\"Digite uma frase: \"))\n",
        "frase2 = str(input(\"Digite uma frase: \"))\n",
        "qnt1 = len(frase1)\n",
        "qnt2 = len(frase2)\n",
        "print(\"'\",frase1,\"'\",\", esta frase tem um tamanho de\",qnt1,\"caracteres\")\n",
        "print(\"'\",frase2,\"'\",\", esta frase tem um tamanho de\",qnt2,\"caracteres\")\n",
        "if qnt1 == qnt2:\n",
        " print(\"As duas frases tem o mesmo tamanho\")\n",
        "else:\n",
        " print(\"As duas frases não tem o mesmo tamanho\")\n",
        "if frase1 == frase2:\n",
        " print(\"As duas frases são iguais\")\n",
        "else:\n",
        " print(\"As duas frases são diferentes\")"
      ],
      "metadata": {
        "colab": {
          "base_uri": "https://localhost:8080/"
        },
        "id": "MpVLgjkfy8ou",
        "outputId": "300df3da-ed1a-4396-95cf-285a34b7a182"
      },
      "execution_count": null,
      "outputs": [
        {
          "output_type": "stream",
          "name": "stdout",
          "text": [
            "Digite uma frase: Ola\n",
            "Digite uma frase: Oi.\n",
            "' Ola ' , esta frase tem um tamanho de 3 caracteres\n",
            "' Oi. ' , esta frase tem um tamanho de 3 caracteres\n",
            "As duas frases tem o mesmo tamanho\n",
            "As duas frases são diferentes\n"
          ]
        }
      ]
    },
    {
      "cell_type": "code",
      "source": [
        "#Exercício 3:\n",
        "#Rafael Henrique de Andrade Caratenuto\n",
        "#Prof Carmen Lucia\n",
        "#Descrição: contar espaços em branco e vogais das frases\n",
        "espaço = 0\n",
        "vogalA = 0\n",
        "vogalE = 0\n",
        "vogalI = 0\n",
        "vogalO = 0\n",
        "vogalU = 0\n",
        "inicio = 0\n",
        "fim = 1\n",
        "frase = str(input(\"Digite uma frase sem acentos: \"))\n",
        "total = len(frase)\n",
        "while inicio<=total:\n",
        "  letra = frase[inicio:fim]\n",
        "  if letra == \" \":\n",
        "    espaço = espaço + 1\n",
        "  elif letra == \"a\" or letra == \"A\":\n",
        "    vogalA = vogalA + 1\n",
        "  elif letra == \"e\" or letra == \"E\":\n",
        "    vogalE = vogalE + 1\n",
        "  elif letra == \"i\" or letra == \"I\":\n",
        "    vogalI = vogalI + 1\n",
        "  elif letra == \"o\" or letra == \"O\":\n",
        "    vogalO = vogalO + 1\n",
        "  elif letra == \"u\" or letra == \"U\":\n",
        "    vogalU = vogalU + 1\n",
        "  inicio = inicio + 1\n",
        "  fim = fim + 1\n",
        "print(espaço,\"caracteres de espaço nessa frase\")\n",
        "print(vogalA,\"caracteres da vogal A nessa frase\")\n",
        "print(vogalE,\"caracteres da vogal E nessa frase\")\n",
        "print(vogalI,\"caracteres da vogal I nessa frase\")\n",
        "print(vogalO,\"caracteres da vogal O nessa frase\")\n",
        "print(vogalU,\"caracteres da vogal U nessa frase\")\n",
        "print(vogalA+vogalE+vogalI+vogalO+vogalU,\"vogais no total\")"
      ],
      "metadata": {
        "colab": {
          "base_uri": "https://localhost:8080/"
        },
        "id": "STelSbwJD7dA",
        "outputId": "0fb48a6b-741c-475f-b1b3-2cf2c6772291"
      },
      "execution_count": null,
      "outputs": [
        {
          "output_type": "stream",
          "name": "stdout",
          "text": [
            "Digite uma frase sem acentos: areia ou radio?\n",
            "2 caracteres de espaço nessa frase\n",
            "3 caracteres da vogal A nessa frase\n",
            "1 caracteres da vogal E nessa frase\n",
            "2 caracteres da vogal I nessa frase\n",
            "2 caracteres da vogal O nessa frase\n",
            "1 caracteres da vogal U nessa frase\n",
            "9 vogais no total\n"
          ]
        }
      ]
    },
    {
      "cell_type": "code",
      "source": [
        "#Exercício 1 while:\n",
        "#Rafael Henrique de Andrade Caratenuto\n",
        "#Prof Carmen Lucia\n",
        "#Descrição: menu para calculo de saldo\n",
        "valor = 0\n",
        "cont = 0\n",
        "saldo = 0\n",
        "menu = 0\n",
        "media = 0.0\n",
        "nome = \"\"\n",
        "while menu != 3:\n",
        "  print(\"      Calculo de saldo\")\n",
        "  print(\"Opções:\")\n",
        "  print(\"[1]Acrescentar valor;\")\n",
        "  print(\"[2]Exibir resultado;\")\n",
        "  print(\"[3]Finalizar programa\")\n",
        "  menu = int(input(\"Deseja selecionar qual? \"))\n",
        "  if menu == 1:\n",
        "   if cont == 0:\n",
        "     nome = str(input(\"Digite o nome da pessoa que vai ser calculado \"))\n",
        "   valor = int(input(\"Digite o valor a ser acresentado \"))\n",
        "   saldo = saldo + valor\n",
        "   cont = cont + 1\n",
        "   media = saldo/cont\n",
        "   print(\"\")\n",
        "  elif menu == 2:\n",
        "   print(cont,\"valores foram digitados\")\n",
        "   print(saldo,\"de saldo atual\")\n",
        "   print(media,\"de media dos valores digitados\")\n",
        "   print(nome,\", pessoa que recebeu esses valores\")\n",
        "   print(\"\")\n",
        "  elif menu == 3:\n",
        "   print(\"Encerrando programa.\")\n",
        "  else:\n",
        "    print(\"Valor inválido, digite outro dentro das opções.\")\n",
        "    print(\"\")"
      ],
      "metadata": {
        "colab": {
          "base_uri": "https://localhost:8080/"
        },
        "id": "kybIoC28JIQe",
        "outputId": "ef8818e8-cd1e-410a-ede5-8f90c6ec7d5f"
      },
      "execution_count": null,
      "outputs": [
        {
          "output_type": "stream",
          "name": "stdout",
          "text": [
            "      Calculo de saldo\n",
            "Opções:\n",
            "[1]Acrescentar valor;\n",
            "[2]Exibir resultado;\n",
            "[3]Finalizar programa\n",
            "Deseja selecionar qual? 4\n",
            "Valor inválido, digite outro dentro das opções.\n",
            "\n",
            "      Calculo de saldo\n",
            "Opções:\n",
            "[1]Acrescentar valor;\n",
            "[2]Exibir resultado;\n",
            "[3]Finalizar programa\n",
            "Deseja selecionar qual? 1\n",
            "Digite o nome da pessoa que vai ser calculado Rafael\n",
            "Digite o valor a ser acresentado 100\n",
            "\n",
            "      Calculo de saldo\n",
            "Opções:\n",
            "[1]Acrescentar valor;\n",
            "[2]Exibir resultado;\n",
            "[3]Finalizar programa\n",
            "Deseja selecionar qual? 2\n",
            "1 valores foram digitados\n",
            "100 de saldo atual\n",
            "100.0 de media dos valores digitados\n",
            "Rafael , pessoa que recebeu esses valores\n",
            "\n",
            "      Calculo de saldo\n",
            "Opções:\n",
            "[1]Acrescentar valor;\n",
            "[2]Exibir resultado;\n",
            "[3]Finalizar programa\n",
            "Deseja selecionar qual? 3\n",
            "Encerrando programa.\n"
          ]
        }
      ]
    },
    {
      "cell_type": "code",
      "source": [
        "#Exercício 2 while:\n",
        "#Rafael Henrique de Andrade Caratenuto\n",
        "#Prof Carmen Lucia\n",
        "#Descrição: calculo de multa e juros\n",
        "menu = 0\n",
        "valor = 0\n",
        "dias = 0\n",
        "txmulta = 0.02\n",
        "multa = 0.0\n",
        "txjuros = 0.01\n",
        "juros = 0.0\n",
        "vlpagar = 0.0\n",
        "while menu != 3:\n",
        "  print(\"      Calculo de saldo\")\n",
        "  print(\"Opções:\")\n",
        "  print(\"[1]Entrada dos valores;\")\n",
        "  print(\"[2]Exibir resultado;\")\n",
        "  print(\"[3]Finalizar programa\")\n",
        "  menu = int(input(\"Deseja selecionar qual? \"))\n",
        "  if menu == 1:\n",
        "   valor = int(input(\"Digite o valor da prestação \"))\n",
        "   dias = int(input(\"Digite o numero de dias em atraso \"))\n",
        "   multa = txmulta * valor\n",
        "   juros = txjuros * 1/30 * dias * valor\n",
        "   vlpagar = valor + multa+ juros\n",
        "   print(\"\")\n",
        "  elif menu == 2:\n",
        "   print(\"A prestação de\",valor,\"com\",dias,\" dias de atraso, fica com os seguintes valores\")\n",
        "   print(\"Valor da multa:\",multa,\";Valor do juros:\",juros,\":Valor total a pagar:\",vlpagar)\n",
        "   print(\"\")\n",
        "  elif menu == 3:\n",
        "   print(\"Encerrando programa.\")\n",
        "  else:\n",
        "    print(\"Valor inválido, digite outro dentro das opções.\")\n",
        "    print(\"\")"
      ],
      "metadata": {
        "colab": {
          "base_uri": "https://localhost:8080/"
        },
        "id": "w5mY46fAAD3N",
        "outputId": "3a06a816-e10d-43e5-fe94-43e0ea2fd2ba"
      },
      "execution_count": null,
      "outputs": [
        {
          "output_type": "stream",
          "name": "stdout",
          "text": [
            "      Calculo de saldo\n",
            "Opções:\n",
            "[1]Entrada dos valores;\n",
            "[2]Exibir resultado;\n",
            "[3]Finalizar programa\n",
            "Deseja selecionar qual? 5\n",
            "Valor inválido, digite outro dentro das opções.\n",
            "\n",
            "      Calculo de saldo\n",
            "Opções:\n",
            "[1]Entrada dos valores;\n",
            "[2]Exibir resultado;\n",
            "[3]Finalizar programa\n",
            "Deseja selecionar qual? 1\n",
            "Digite o valor da prestação 12000\n",
            "Digite o numero de dias em atraso 60\n",
            "\n",
            "      Calculo de saldo\n",
            "Opções:\n",
            "[1]Entrada dos valores;\n",
            "[2]Exibir resultado;\n",
            "[3]Finalizar programa\n",
            "Deseja selecionar qual? 2\n",
            "A prestação de 12000 com 60  dias de atraso, fica com os seguintes valores\n",
            "Valor da multa: 240.0 ;Valor do juros: 240.0 :Valor total a pagar: 12480.0\n",
            "\n",
            "      Calculo de saldo\n",
            "Opções:\n",
            "[1]Entrada dos valores;\n",
            "[2]Exibir resultado;\n",
            "[3]Finalizar programa\n",
            "Deseja selecionar qual? 3\n",
            "Encerrando programa.\n"
          ]
        }
      ]
    },
    {
      "cell_type": "code",
      "source": [
        "#Exercício 1 subrotina:\n",
        "#Rafael Henrique de Andrade Caratenuto\n",
        "#Prof Carmen Lucia\n",
        "#Descrição: calculo de imposto\n",
        "import os\n",
        "import sys\n",
        "def menor(taxa) :\n",
        " taxa = (taxa*0.18)-556.2\n",
        " if taxa<0:\n",
        "  taxa = 0\n",
        " return taxa\n",
        "\n",
        "def maior(taxa) :\n",
        " taxa = 14839 + (taxa-85528)*0.32\n",
        " return taxa\n",
        "\n",
        "renda = 0.0\n",
        "arredondado = 0\n",
        "renda = float(input(\"Digite o valor da sua renda: \"))\n",
        "if renda>85528 :\n",
        "  renda = maior(renda)\n",
        "else :\n",
        " renda = menor(renda)\n",
        "arredondado = round(renda, 0)\n",
        "print(arredondado,\"é o valor de imposto dessa renda\")"
      ],
      "metadata": {
        "colab": {
          "base_uri": "https://localhost:8080/"
        },
        "id": "55as87ktF-vz",
        "outputId": "814a66d8-abc7-40c7-def8-07cc6d889840"
      },
      "execution_count": null,
      "outputs": [
        {
          "output_type": "stream",
          "name": "stdout",
          "text": [
            "Digite o valor da sua renda: 100000\n",
            "19470.0 é o valor de imposto dessa renda\n"
          ]
        }
      ]
    }
  ]
}
