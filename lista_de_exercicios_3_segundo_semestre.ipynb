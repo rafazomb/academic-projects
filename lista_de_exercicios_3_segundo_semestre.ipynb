{
  "nbformat": 4,
  "nbformat_minor": 0,
  "metadata": {
    "colab": {
      "provenance": [],
      "authorship_tag": "ABX9TyOWte8GxDeMuv43k+KEJW3B",
      "include_colab_link": true
    },
    "kernelspec": {
      "name": "python3",
      "display_name": "Python 3"
    },
    "language_info": {
      "name": "python"
    }
  },
  "cells": [
    {
      "cell_type": "markdown",
      "metadata": {
        "id": "view-in-github",
        "colab_type": "text"
      },
      "source": [
        "<a href=\"https://colab.research.google.com/github/rafazomb/academic-projects/blob/main/lista_de_exercicios_3_segundo_semestre.ipynb\" target=\"_parent\"><img src=\"https://colab.research.google.com/assets/colab-badge.svg\" alt=\"Open In Colab\"/></a>"
      ]
    },
    {
      "cell_type": "code",
      "execution_count": null,
      "metadata": {
        "colab": {
          "base_uri": "https://localhost:8080/"
        },
        "id": "wl4vOtHJ94_v",
        "outputId": "f6936733-cb41-439e-df67-547161467364"
      },
      "outputs": [
        {
          "output_type": "stream",
          "name": "stdout",
          "text": [
            "Digite o primeiro número: 2\n",
            "Digite o segundo número: 4\n",
            "6 é a soma desses números.\n"
          ]
        }
      ],
      "source": [
        "#Exercício 1\n",
        "#Nome: Rafael Henrique\n",
        "#Prof: Jose Fernando\n",
        "nume1 = 0\n",
        "nume2 = 0\n",
        "def soma(prim,segu):\n",
        "  resul = prim + segu\n",
        "  return resul\n",
        "\n",
        "nume1 = int(input(\"Digite o primeiro número: \"))\n",
        "nume2 = int(input(\"Digite o segundo número: \"))\n",
        "print(soma(nume1,nume2),\"é a soma desses números.\")"
      ]
    },
    {
      "cell_type": "code",
      "source": [
        "#Exercício 2\n",
        "#Nome: Rafael Henrique\n",
        "#Prof: Jose Fernando\n",
        "nume1 = 0\n",
        "nume2 = 0\n",
        "def trocar(prim,segu):\n",
        "  aux = prim\n",
        "  prim = segu\n",
        "  return prim, aux\n",
        "\n",
        "nume1 = int(input(\"Digite um número: \"))\n",
        "nume2 = int(input(\"Digite outro número: \"))\n",
        "print(trocar(nume1,nume2))"
      ],
      "metadata": {
        "colab": {
          "base_uri": "https://localhost:8080/"
        },
        "id": "wz-D5J1cNDOK",
        "outputId": "a726dacc-6f74-486c-8664-d4866f3a928d"
      },
      "execution_count": null,
      "outputs": [
        {
          "output_type": "stream",
          "name": "stdout",
          "text": [
            "Digite um número: 2\n",
            "Digite outro número: 4\n",
            "(4, 2)\n"
          ]
        }
      ]
    },
    {
      "cell_type": "code",
      "source": [
        "#Exercício 3\n",
        "#Nome: Rafael Henrique\n",
        "#Prof: Jose Fernando\n",
        "lista = []\n",
        "nume = 1\n",
        "def media(tota,tama):\n",
        "  resul = sum(tota)/tama\n",
        "  return resul\n",
        "\n",
        "while nume != 0:\n",
        "  nume = int(input(\"Digite um número para lista ou 0 para finalizar a lista: \"))\n",
        "  if nume == 0:\n",
        "    break\n",
        "  lista.append(nume)\n",
        "print(media(lista,len(lista)),\"é a media dessa lista\")"
      ],
      "metadata": {
        "colab": {
          "base_uri": "https://localhost:8080/"
        },
        "id": "aEGAyUpTOYHC",
        "outputId": "31782c42-532c-4e0f-98c6-0663572783cd"
      },
      "execution_count": null,
      "outputs": [
        {
          "output_type": "stream",
          "name": "stdout",
          "text": [
            "Digite um número para lista ou 0 para finalizar a lista: 1\n",
            "Digite um número para lista ou 0 para finalizar a lista: 2\n",
            "Digite um número para lista ou 0 para finalizar a lista: 3\n",
            "Digite um número para lista ou 0 para finalizar a lista: 4\n",
            "Digite um número para lista ou 0 para finalizar a lista: 5\n",
            "Digite um número para lista ou 0 para finalizar a lista: 0\n",
            "3.0 é a media dessa lista\n"
          ]
        }
      ]
    },
    {
      "cell_type": "code",
      "source": [
        "#Exercício 4\n",
        "#Nome: Rafael Henrique\n",
        "#Prof: Jose Fernando\n",
        "lsita = []\n",
        "nume = 1\n",
        "def maximo(tota,tama):\n",
        "  resul = max(tota)\n",
        "  return resul\n",
        "\n",
        "while nume != 0:\n",
        "  nume = int(input(\"Digite um número para lista ou 0 para finalizar a lista: \"))\n",
        "  if nume == 0:\n",
        "    break\n",
        "  lista.append(nume)\n",
        "print(maximo(lista,len(lista)),\"é o valor maximo na lista\")"
      ],
      "metadata": {
        "colab": {
          "base_uri": "https://localhost:8080/"
        },
        "id": "UIIj8G9rPnpC",
        "outputId": "f5230466-ad1f-4f98-ca7b-a10a42aaa0a5"
      },
      "execution_count": null,
      "outputs": [
        {
          "output_type": "stream",
          "name": "stdout",
          "text": [
            "Digite um número para lista ou 0 para finalizar a lista: 1\n",
            "Digite um número para lista ou 0 para finalizar a lista: 2\n",
            "Digite um número para lista ou 0 para finalizar a lista: 4\n",
            "Digite um número para lista ou 0 para finalizar a lista: 8\n",
            "Digite um número para lista ou 0 para finalizar a lista: 3\n",
            "Digite um número para lista ou 0 para finalizar a lista: 6\n",
            "Digite um número para lista ou 0 para finalizar a lista: 0\n",
            "8 é o valor maximo na lista\n"
          ]
        }
      ]
    },
    {
      "cell_type": "code",
      "source": [
        "#Exercício 6\n",
        "#Nome: Rafael Henrique\n",
        "#Prof: Jose Fernando\n",
        "coluna1 = []\n",
        "coluna2 = []\n",
        "coluna3 = []\n",
        "matriz = [coluna1,coluna2,coluna3]\n",
        "nume = 0\n",
        "def somaMatriz(matr):\n",
        "  resul = 0\n",
        "  for x in matr:\n",
        "    resul += sum(x)\n",
        "  return resul\n",
        "\n",
        "for x in range(3):\n",
        "  nume = int(input(\"Digite um número para matriz 3x3: \"))\n",
        "  coluna1.append(nume)\n",
        "for x in range(3):\n",
        "  nume = int(input(\"Digite um número para matriz 3x3: \"))\n",
        "  coluna2.append(nume)\n",
        "for x in range(3):\n",
        "  nume = int(input(\"Digite um número para matriz 3x3: \"))\n",
        "  coluna3.append(nume)\n",
        "print(somaMatriz(matriz),\"é a soma dessa matriz.\")"
      ],
      "metadata": {
        "colab": {
          "base_uri": "https://localhost:8080/"
        },
        "id": "cZb32bfXQ9QR",
        "outputId": "8d60a213-b3a0-4aae-be04-a0b1e8374078"
      },
      "execution_count": null,
      "outputs": [
        {
          "output_type": "stream",
          "name": "stdout",
          "text": [
            "Digite um número para matriz 3x3: 6\n",
            "Digite um número para matriz 3x3: 7\n",
            "Digite um número para matriz 3x3: 2\n",
            "Digite um número para matriz 3x3: 8\n",
            "Digite um número para matriz 3x3: 1\n",
            "Digite um número para matriz 3x3: 6\n",
            "Digite um número para matriz 3x3: 3\n",
            "Digite um número para matriz 3x3: 4\n",
            "Digite um número para matriz 3x3: 2\n",
            "39 é a soma dessa matriz.\n"
          ]
        }
      ]
    },
    {
      "cell_type": "code",
      "source": [
        "#Exercício 7\n",
        "#Nome: Rafael Henrique\n",
        "#Prof: Jose Fernando\n",
        "frase1 = \"\"\n",
        "frase2 = \"\"\n",
        "def copiaString(copi,cola):\n",
        "  cola = copi\n",
        "  return copi,cola\n",
        "\n",
        "frase1 = str(input(\"Digite a primeira string: \"))\n",
        "frase2 = str(input(\"Digite a segunda string: \"))\n",
        "print(copiaString(frase1,frase2))"
      ],
      "metadata": {
        "colab": {
          "base_uri": "https://localhost:8080/"
        },
        "id": "yVkvAxCBSawY",
        "outputId": "65f828a9-ffb5-4f6a-f48a-3966f4f553da"
      },
      "execution_count": null,
      "outputs": [
        {
          "output_type": "stream",
          "name": "stdout",
          "text": [
            "Digite a primeira string: Ola\n",
            "Digite a segunda string: Mundo\n",
            "('Ola', 'Ola')\n"
          ]
        }
      ]
    },
    {
      "cell_type": "code",
      "source": [
        "#Exercício 8\n",
        "#Nome: Rafael Henrique\n",
        "#Prof: Jose Fernando\n",
        "lista = []\n",
        "nume = 1\n",
        "def ordenaLista(ordem):\n",
        "  ordem.sort()\n",
        "  return ordem\n",
        "\n",
        "while nume != 0:\n",
        "  nume = int(input(\"Digite um número para lista ou 0 para finalizar a lista: \"))\n",
        "  if nume == 0:\n",
        "    break\n",
        "  lista.append(nume)\n",
        "print(ordenaLista(lista))"
      ],
      "metadata": {
        "colab": {
          "base_uri": "https://localhost:8080/"
        },
        "id": "xtTDwieiTLEp",
        "outputId": "6b1c975c-23de-40fa-c6df-305e67ec371a"
      },
      "execution_count": null,
      "outputs": [
        {
          "output_type": "stream",
          "name": "stdout",
          "text": [
            "Digite um número para lista ou 0 para finalizar a lista: 6\n",
            "Digite um número para lista ou 0 para finalizar a lista: 5\n",
            "Digite um número para lista ou 0 para finalizar a lista: 7\n",
            "Digite um número para lista ou 0 para finalizar a lista: 3\n",
            "Digite um número para lista ou 0 para finalizar a lista: 1\n",
            "Digite um número para lista ou 0 para finalizar a lista: 8\n",
            "Digite um número para lista ou 0 para finalizar a lista: 2\n",
            "Digite um número para lista ou 0 para finalizar a lista: 9\n",
            "Digite um número para lista ou 0 para finalizar a lista: 4\n",
            "Digite um número para lista ou 0 para finalizar a lista: 0\n",
            "[1, 2, 3, 4, 5, 6, 7, 8, 9]\n"
          ]
        }
      ]
    },
    {
      "cell_type": "code",
      "source": [
        "#Exercício 9\n",
        "#Nome: Rafael Henrique\n",
        "#Prof: Jose Fernando\n",
        "nume = 0\n",
        "def fatorial(fato):\n",
        "  resul = 1\n",
        "  while fato > 1:\n",
        "    resul *= fato\n",
        "    fato -= 1\n",
        "  return resul\n",
        "\n",
        "nume = int(input(\"Digite um número: \"))\n",
        "print(fatorial(nume),\"é o fatorial desse número.\")"
      ],
      "metadata": {
        "colab": {
          "base_uri": "https://localhost:8080/"
        },
        "id": "i5J8AbHtT8NB",
        "outputId": "8057381d-28ba-4dd6-e58c-2aaebfe55191"
      },
      "execution_count": null,
      "outputs": [
        {
          "output_type": "stream",
          "name": "stdout",
          "text": [
            "Digite um número: 5\n",
            "120 é o fatorial desse número.\n"
          ]
        }
      ]
    },
    {
      "cell_type": "code",
      "source": [
        "#Exercício 10\n",
        "#Nome: Rafael Henrique\n",
        "#Prof: Jose Fernando\n",
        "frase = \"\"\n",
        "def contaVogais(letra):\n",
        "  qnt = 0\n",
        "  for x in letra:\n",
        "    if x == \"a\" or x == \"A\" or x == \"e\" or x == \"E\":\n",
        "      qnt += 1\n",
        "    if x == \"i\" or x == \"I\" or x == \"o\" or x == \"O\":\n",
        "      qnt += 1\n",
        "    if x == \"u\" or x == \"U\":\n",
        "      qnt += 1\n",
        "  return qnt\n",
        "\n",
        "frase = str(input(\"Digite uma frase sem acentos: \"))\n",
        "print(contaVogais(frase),\"é o número de vogais nessa frase.\")"
      ],
      "metadata": {
        "colab": {
          "base_uri": "https://localhost:8080/"
        },
        "id": "VWD5dlYGVC8J",
        "outputId": "40189a0f-d011-4df7-86d2-4be923ef3fe0"
      },
      "execution_count": null,
      "outputs": [
        {
          "output_type": "stream",
          "name": "stdout",
          "text": [
            "Digite uma frase sem acentos: Ola mundo\n",
            "4 é o número de vogais nessa frase.\n"
          ]
        }
      ]
    }
  ]
}