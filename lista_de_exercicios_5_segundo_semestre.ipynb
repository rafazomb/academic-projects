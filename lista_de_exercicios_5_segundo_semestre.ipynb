{
  "nbformat": 4,
  "nbformat_minor": 0,
  "metadata": {
    "colab": {
      "provenance": [],
      "authorship_tag": "ABX9TyO/0Yg1k8p0Jh6Qgq/cXieT",
      "include_colab_link": true
    },
    "kernelspec": {
      "name": "python3",
      "display_name": "Python 3"
    },
    "language_info": {
      "name": "python"
    }
  },
  "cells": [
    {
      "cell_type": "markdown",
      "metadata": {
        "id": "view-in-github",
        "colab_type": "text"
      },
      "source": [
        "<a href=\"https://colab.research.google.com/github/rafazomb/academic-projects/blob/main/lista_de_exercicios_5_segundo_semestre.ipynb\" target=\"_parent\"><img src=\"https://colab.research.google.com/assets/colab-badge.svg\" alt=\"Open In Colab\"/></a>"
      ]
    },
    {
      "cell_type": "code",
      "execution_count": null,
      "metadata": {
        "colab": {
          "base_uri": "https://localhost:8080/"
        },
        "id": "ak85OyJXOokl",
        "outputId": "7fc676a1-503e-4361-9f3c-67c3cbaa63d1"
      },
      "outputs": [
        {
          "output_type": "stream",
          "name": "stdout",
          "text": [
            "Digite um número para lista ou 0 para finalizar: 5\n",
            "Digite um número para lista ou 0 para finalizar: 4\n",
            "Digite um número para lista ou 0 para finalizar: 3\n",
            "Digite um número para lista ou 0 para finalizar: 2\n",
            "Digite um número para lista ou 0 para finalizar: 1\n",
            "Digite um número para lista ou 0 para finalizar: 0\n",
            "A soma e a media desses números são respectivamente (15, 3.0)\n"
          ]
        }
      ],
      "source": [
        "#Exercício 21\n",
        "#Nome: Rafael Henrique\n",
        "#Prof Jose Fernando\n",
        "def calculaSomaMedia(numes,tama):\n",
        "  soma = sum(numes)\n",
        "  media = soma/tama\n",
        "  return soma, media\n",
        "\n",
        "lista = []\n",
        "nume = 1\n",
        "while nume != 0:\n",
        "  nume = int(input(\"Digite um número para lista ou 0 para finalizar: \"))\n",
        "  if nume == 0:\n",
        "    break\n",
        "  lista.append(nume)\n",
        "print(\"A soma e a media desses números são respectivamente\",calculaSomaMedia(lista,len(lista)))"
      ]
    },
    {
      "cell_type": "code",
      "source": [
        "#Exercício 22\n",
        "#Nome: Rafael Henrique\n",
        "#Prof Jose Fernando\n",
        "def inverteMatriz(lin,col,mat):\n",
        "  zirtam = []\n",
        "  anuloc = []\n",
        "  for x in range(col):\n",
        "    auxlin = lin\n",
        "    for a in range(lin):\n",
        "      auxlin -= 1\n",
        "      anuloc.append(mat[x][auxlin])\n",
        "    zirtam.append(anuloc)\n",
        "    anuloc = []\n",
        "  return zirtam\n",
        "\n",
        "coluna = []\n",
        "matriz = []\n",
        "nume = 0\n",
        "linhas = 0\n",
        "colunas = 0\n",
        "linhas = int(input(\"Digite o numero de linhas dessa matriz: \"))\n",
        "colunas = int(input(\"Digite o numero de colunas dessa matriz: \"))\n",
        "for x in range(colunas):\n",
        "  for x in range(linhas):\n",
        "    nume = int(input(\"Digite um número para matriz: \"))\n",
        "    coluna.append(nume)\n",
        "  matriz.append(coluna)\n",
        "  coluna = []\n",
        "print(inverteMatriz(linhas,colunas,matriz))"
      ],
      "metadata": {
        "colab": {
          "base_uri": "https://localhost:8080/"
        },
        "id": "z96er51VSWfn",
        "outputId": "669b95c9-3c10-4485-d36e-c6352406333a"
      },
      "execution_count": null,
      "outputs": [
        {
          "output_type": "stream",
          "name": "stdout",
          "text": [
            "Digite o numero de linhas dessa matriz: 2\n",
            "Digite o numero de colunas dessa matriz: 2\n",
            "Digite um número para matriz: 1\n",
            "Digite um número para matriz: 2\n",
            "Digite um número para matriz: 3\n",
            "Digite um número para matriz: 4\n",
            "[[2, 1], [4, 3]]\n"
          ]
        }
      ]
    },
    {
      "cell_type": "code",
      "source": [
        "#Exercício 23\n",
        "#Nome: Rafael Henrique\n",
        "#Prof Jose Fernando\n",
        "def contaPalavras(frase):\n",
        "  npal = 1\n",
        "  for x in frase:\n",
        "    if x == \" \":\n",
        "      npal += 1\n",
        "  return npal\n",
        "\n",
        "palavra = \"\"\n",
        "palavra = str(input(\"Digite uma frase: \"))\n",
        "print(\"o número de palavras nessa frase é\",contaPalavras(palavra))"
      ],
      "metadata": {
        "colab": {
          "base_uri": "https://localhost:8080/"
        },
        "id": "vi6_1_IDZdgz",
        "outputId": "d0037387-7e53-4531-cda9-fe564bd2aff8"
      },
      "execution_count": null,
      "outputs": [
        {
          "output_type": "stream",
          "name": "stdout",
          "text": [
            "Digite uma frase: Olá mundo\n",
            "o número de palavras nessa frase é 2\n"
          ]
        }
      ]
    },
    {
      "cell_type": "code",
      "source": [
        "#Exercício 24\n",
        "#Nome: Rafael Henrique\n",
        "#Prof Jose Fernando\n",
        "def calculaMaiorProduto(numeros,tama):\n",
        "  numeros.sort()\n",
        "  numeros.reverse()\n",
        "  produto = numeros[0] * numeros [1]\n",
        "  return produto\n",
        "\n",
        "lista = []\n",
        "nume = 1\n",
        "while nume != 0:\n",
        "  nume = int(input(\"Digite um número para lista ou 0 para finalizar: \"))\n",
        "  if nume == 0:\n",
        "    break\n",
        "  lista.append(nume)\n",
        "print(\"o maior produto dessa lista(com elementos diferente) é\",calculaMaiorProduto(lista,len(lista)))"
      ],
      "metadata": {
        "colab": {
          "base_uri": "https://localhost:8080/"
        },
        "id": "nG5Jz-MAbRvC",
        "outputId": "d1b1b7bf-d69a-4843-c073-b3e962f2d385"
      },
      "execution_count": null,
      "outputs": [
        {
          "output_type": "stream",
          "name": "stdout",
          "text": [
            "Digite um número para lista ou 0 para finalizar: 13\n",
            "Digite um número para lista ou 0 para finalizar: 4\n",
            "Digite um número para lista ou 0 para finalizar: 14\n",
            "Digite um número para lista ou 0 para finalizar: 11\n",
            "Digite um número para lista ou 0 para finalizar: 8\n",
            "Digite um número para lista ou 0 para finalizar: 4\n",
            "Digite um número para lista ou 0 para finalizar: 9\n",
            "Digite um número para lista ou 0 para finalizar: 0\n",
            "o maior produto dessa lista(com elementos diferente) é 182\n"
          ]
        }
      ]
    },
    {
      "cell_type": "code",
      "source": [
        "#Exercício 25\n",
        "#Nome: Rafael Henrique\n",
        "#Prof Jose Fernando\n",
        "def verificaPalindromo(palav):\n",
        "  inver = \"\"\n",
        "  resp = 0\n",
        "  for x in palav:\n",
        "    inver = x + inver\n",
        "  if inver == palav:\n",
        "    resp = 1\n",
        "  return resp\n",
        "\n",
        "palavra = \"\"\n",
        "palavra = str(input(\"Digite uma palavra: \"))\n",
        "print(\"0-Não é palindromo; 1-É palindromo\")\n",
        "print(verificaPalindromo(palavra))"
      ],
      "metadata": {
        "colab": {
          "base_uri": "https://localhost:8080/"
        },
        "id": "tgASpTFMelhp",
        "outputId": "3c191796-264b-4b80-9988-d5e42469a198"
      },
      "execution_count": null,
      "outputs": [
        {
          "output_type": "stream",
          "name": "stdout",
          "text": [
            "Digite uma palavra: girafarig\n",
            "0-Não é palindromo; 1-É palindromo\n",
            "1\n"
          ]
        }
      ]
    },
    {
      "cell_type": "code",
      "source": [
        "#Exercício 26\n",
        "#Nome: Rafael Henrique\n",
        "#Prof Jose Fernando\n",
        "def copiaMatriz(lin,col,mat):\n",
        "  cop = []\n",
        "  copcol = []\n",
        "  for x in range(col):\n",
        "   for y in range(lin):\n",
        "     copcol.append(mat[x][y])\n",
        "   cop.append(copcol)\n",
        "   copcol = []\n",
        "  return cop\n",
        "\n",
        "coluna = []\n",
        "matriz = []\n",
        "nume = 0\n",
        "linhas = 0\n",
        "colunas = 0\n",
        "linhas = int(input(\"Digite o numero de linhas dessa matriz: \"))\n",
        "colunas = int(input(\"Digite o numero de colunas dessa matriz: \"))\n",
        "for x in range(colunas):\n",
        "  for x in range(linhas):\n",
        "    nume = int(input(\"Digite um número para matriz: \"))\n",
        "    coluna.append(nume)\n",
        "  matriz.append(coluna)\n",
        "  coluna = []\n",
        "print(copiaMatriz(linhas,colunas,matriz))"
      ],
      "metadata": {
        "colab": {
          "base_uri": "https://localhost:8080/"
        },
        "id": "5DabndW0fk-A",
        "outputId": "e5ac7d15-6003-4139-83b3-2db5c333b84e"
      },
      "execution_count": null,
      "outputs": [
        {
          "output_type": "stream",
          "name": "stdout",
          "text": [
            "Digite o numero de linhas dessa matriz: 3\n",
            "Digite o numero de colunas dessa matriz: 3\n",
            "Digite um número para matriz: 7\n",
            "Digite um número para matriz: 8\n",
            "Digite um número para matriz: 9\n",
            "Digite um número para matriz: 6\n",
            "Digite um número para matriz: 5\n",
            "Digite um número para matriz: 4\n",
            "Digite um número para matriz: 1\n",
            "Digite um número para matriz: 2\n",
            "Digite um número para matriz: 3\n",
            "[[7, 8, 9], [6, 5, 4], [1, 2, 3]]\n"
          ]
        }
      ]
    },
    {
      "cell_type": "code",
      "source": [
        "#Exercício 27\n",
        "#Nome: Rafael Henrique\n",
        "#Prof Jose Fernando\n",
        "def contaCaracteresUnicos(frase):\n",
        "  letras = []\n",
        "  for x in frase:\n",
        "    if x in letras:\n",
        "      del letras[letras.index(x)]\n",
        "    else:\n",
        "      letras.append(x)\n",
        "  letras.sort()\n",
        "  resp = len(letras)\n",
        "  return resp\n",
        "\n",
        "palavras = \"\"\n",
        "palavras = str(input(\"Digite uma frase ou palavra: \"))\n",
        "print(\"o numero de caracteres unicos é\",contaCaracteresUnicos(palavras))"
      ],
      "metadata": {
        "colab": {
          "base_uri": "https://localhost:8080/"
        },
        "id": "hZw0MgLYkWdA",
        "outputId": "c93a780b-fe42-4ae1-df53-09edbb3623e9"
      },
      "execution_count": null,
      "outputs": [
        {
          "output_type": "stream",
          "name": "stdout",
          "text": [
            "Digite uma frase ou palavra: ola mundo\n",
            "o numero de caracteres unicos é 7\n"
          ]
        }
      ]
    },
    {
      "cell_type": "code",
      "source": [
        "#Exercício 28\n",
        "#Nome: Rafael Henrique\n",
        "#Prof Jose Fernando\n",
        "def calculoDesvioPadrao(numeros,tama):\n",
        "  desvio = 0\n",
        "  media = sum(numeros)/tama\n",
        "  for x in numeros:\n",
        "    desvio = desvio + (x-media)**2\n",
        "  desvio = (desvio/tama)**(1/2)\n",
        "  return desvio\n",
        "\n",
        "lista = []\n",
        "nume = 1.0\n",
        "while nume != 0:\n",
        "  nume = float(input(\"Digite um número para lista ou 0 para finalizar: \"))\n",
        "  if nume == 0:\n",
        "    break\n",
        "  lista.append(nume)\n",
        "print(\"o desvio padrão dessa lista é:\",calculoDesvioPadrao(lista,len(lista)))"
      ],
      "metadata": {
        "id": "HbyCsu0YmnoW",
        "colab": {
          "base_uri": "https://localhost:8080/"
        },
        "outputId": "11de2dce-a332-47e9-a8e8-c3e6a038e5da"
      },
      "execution_count": null,
      "outputs": [
        {
          "output_type": "stream",
          "name": "stdout",
          "text": [
            "Digite um número para lista ou 0 para finalizar: 3.11\n",
            "Digite um número para lista ou 0 para finalizar: 3.08\n",
            "Digite um número para lista ou 0 para finalizar: 3.02\n",
            "Digite um número para lista ou 0 para finalizar: 3\n",
            "Digite um número para lista ou 0 para finalizar: 2.97\n",
            "Digite um número para lista ou 0 para finalizar: 2.94\n",
            "Digite um número para lista ou 0 para finalizar: 2.88\n",
            "Digite um número para lista ou 0 para finalizar: 0\n",
            "o desvio padrão dessa lista é: 0.07348469228349534\n"
          ]
        }
      ]
    },
    {
      "cell_type": "code",
      "source": [
        "#Exercício 29\n",
        "#Nome: Rafael Henrique\n",
        "#Prof Jose Fernando\n",
        "def verificaPalindromoComEspaco(palav):\n",
        "  inver = \"\"\n",
        "  resp = \"não é palindromo\"\n",
        "  forma = \"\"\n",
        "  for x in palav:\n",
        "    c = ord(x)\n",
        "    if c >= 65 and c <= 90:\n",
        "       x = x.swapcase()\n",
        "    if x != \" \":\n",
        "      inver = x + inver\n",
        "      forma += x\n",
        "  if inver == forma:\n",
        "    resp = \"é palindromo\"\n",
        "  return resp\n",
        "\n",
        "palavra = \"\"\n",
        "palavra = str(input(\"Digite uma palavra ou frase: \"))\n",
        "print(verificaPalindromoComEspaco(palavra))"
      ],
      "metadata": {
        "colab": {
          "base_uri": "https://localhost:8080/"
        },
        "id": "OhIaJ8bewVyJ",
        "outputId": "d8c1d304-c313-4c84-a5e2-56691f36ba81"
      },
      "execution_count": null,
      "outputs": [
        {
          "output_type": "stream",
          "name": "stdout",
          "text": [
            "Digite uma palavra ou frase: Teste eT set\n",
            "é palindromo\n"
          ]
        }
      ]
    },
    {
      "cell_type": "code",
      "source": [
        "#Exercício 30\n",
        "#Nome: Rafael Henrique\n",
        "#Prof Jose Fernando\n",
        "from random import randint\n",
        "escolha = randint(1,100)\n",
        "nume = 0\n",
        "while nume != escolha:\n",
        "  nume = int(input(\"Digite um número de 1 a 100: \"))\n",
        "  if nume < escolha:\n",
        "    print(\"o numero certo é maior que esse.\")\n",
        "  elif nume > escolha:\n",
        "    print(\"o numero certo é menor que esse.\")\n",
        "  else:\n",
        "    print(\"acertou o numero escolhido\")"
      ],
      "metadata": {
        "colab": {
          "base_uri": "https://localhost:8080/"
        },
        "id": "0IOxg7pJxUBw",
        "outputId": "843b2f4c-4baa-46d2-a2ba-d36bcefc7497"
      },
      "execution_count": null,
      "outputs": [
        {
          "output_type": "stream",
          "name": "stdout",
          "text": [
            "Digite um número de 1 a 100: 50\n",
            "o numero certo é menor que esse.\n",
            "Digite um número de 1 a 100: 25\n",
            "o numero certo é maior que esse.\n",
            "Digite um número de 1 a 100: 37\n",
            "o numero certo é maior que esse.\n",
            "Digite um número de 1 a 100: 42\n",
            "o numero certo é maior que esse.\n",
            "Digite um número de 1 a 100: 47\n",
            "o numero certo é menor que esse.\n",
            "Digite um número de 1 a 100: 45\n",
            "o numero certo é maior que esse.\n",
            "Digite um número de 1 a 100: 46\n",
            "acertou o numero escolhido\n"
          ]
        }
      ]
    }
  ]
}