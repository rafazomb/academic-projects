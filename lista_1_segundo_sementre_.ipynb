{
  "nbformat": 4,
  "nbformat_minor": 0,
  "metadata": {
    "colab": {
      "provenance": [],
      "authorship_tag": "ABX9TyMWI3IJ3BQiFD5VY01PJgNu",
      "include_colab_link": true
    },
    "kernelspec": {
      "name": "python3",
      "display_name": "Python 3"
    },
    "language_info": {
      "name": "python"
    }
  },
  "cells": [
    {
      "cell_type": "markdown",
      "metadata": {
        "id": "view-in-github",
        "colab_type": "text"
      },
      "source": [
        "<a href=\"https://colab.research.google.com/github/rafazomb/academic-projects/blob/main/lista_1_segundo_sementre_.ipynb\" target=\"_parent\"><img src=\"https://colab.research.google.com/assets/colab-badge.svg\" alt=\"Open In Colab\"/></a>"
      ]
    },
    {
      "cell_type": "code",
      "source": [
        "num1 = int(input(\"Digite um número: \"))\n",
        "num2 = int(input(\"Digite outro número: \"))\n",
        "if num1< num2:\n",
        "  print(\"O maior número é \", num2)\n",
        "elif num1 == num2:\n",
        "  print(\"números iguais\")\n",
        "else:\n",
        "  print(\"O maior número é \", num1)"
      ],
      "metadata": {
        "colab": {
          "base_uri": "https://localhost:8080/"
        },
        "id": "FDw5DCun9VsF",
        "outputId": "32d4cd83-44e7-4d74-d7ab-c0635fe2b99c"
      },
      "execution_count": null,
      "outputs": [
        {
          "output_type": "stream",
          "name": "stdout",
          "text": [
            "Digite um número: 1\n",
            "Digite outro número: 1\n",
            "números iguais\n"
          ]
        }
      ]
    },
    {
      "cell_type": "code",
      "execution_count": null,
      "metadata": {
        "colab": {
          "base_uri": "https://localhost:8080/"
        },
        "id": "Y6qmqFRc2fFF",
        "outputId": "7a9aebd9-df00-4ed3-e410-1ec54e49747f"
      },
      "outputs": [
        {
          "output_type": "stream",
          "name": "stdout",
          "text": [
            "Digite a velocidade do seu carro: 82\n",
            "Você será multado por excesso de velocidade\n",
            "R$ 10 ,00 de multa\n"
          ]
        }
      ],
      "source": [
        "velo = int(input(\"Digite a velocidade do seu carro: \"))\n",
        "if velo > 80:\n",
        "  print(\"Você será multado por excesso de velocidade\")\n",
        "  preco = (velo-80)*5\n",
        "  print(\"R$\", preco, \",00 de multa\")"
      ]
    },
    {
      "cell_type": "code",
      "source": [
        "num1 = int(input(\"Digite um número: \"))\n",
        "num2 = int(input(\"Digite outro número: \"))\n",
        "num3 = int(input(\"Digite outro número: \"))\n",
        "if num1 > num2 and num1 > num3:\n",
        "  print(num1, \"é o maior e\")\n",
        "  if num2 < num3:\n",
        "    print(num2, \"é o menor\")\n",
        "  else:\n",
        "    print(num3, \"é o menor\")\n",
        "elif num2 > num1 and num2 > num3:\n",
        "  print(num2, \"é o maior e\")\n",
        "  if num1 < num3:\n",
        "    print(num1, \"é o menor\")\n",
        "  else:\n",
        "    print(num3, \"é o menor\")\n",
        "else:\n",
        "  print(num3, \"é o maior e\")\n",
        "  if num2 < num1:\n",
        "    print(num2, \"é o menor\")\n",
        "  else:\n",
        "    print(num1, \"é o menor\")"
      ],
      "metadata": {
        "colab": {
          "base_uri": "https://localhost:8080/"
        },
        "id": "e3C13KEQ917U",
        "outputId": "42568215-6c7e-4639-f3d5-018cc3dcde69"
      },
      "execution_count": null,
      "outputs": [
        {
          "output_type": "stream",
          "name": "stdout",
          "text": [
            "Digite um número: 4\n",
            "Digite outro número: 8\n",
            "Digite outro número: 6\n",
            "8 é o maior e\n",
            "4 é o menor\n"
          ]
        }
      ]
    },
    {
      "cell_type": "code",
      "source": [
        "salario = float(input(\"Digite seu salario:(somente número) \"))\n",
        "if salario > 1250:\n",
        "  salario = salario*1.1\n",
        "else:\n",
        "  salario = salario*1.15\n",
        "print(\"Seu salario aumentado é de R$\", round(salario, 2))"
      ],
      "metadata": {
        "colab": {
          "base_uri": "https://localhost:8080/"
        },
        "id": "lNKbWkkPDlLu",
        "outputId": "dd0b3f8f-1ae5-47d0-e96b-28a049aae18e"
      },
      "execution_count": null,
      "outputs": [
        {
          "output_type": "stream",
          "name": "stdout",
          "text": [
            "Digite seu salario:(somente número) 1000\n",
            "Seu salario aumentado é de R$ 1150.0\n"
          ]
        }
      ]
    },
    {
      "cell_type": "code",
      "source": [
        "idade = int(input(\"Digite a idade do seu carro em anos: \"))\n",
        "if idade > 3:\n",
        "  print(\"Seu carro é velho\")\n",
        "else:\n",
        "  print(\"Seu carro é novo\")"
      ],
      "metadata": {
        "colab": {
          "base_uri": "https://localhost:8080/"
        },
        "id": "ALo0D-5sFXCH",
        "outputId": "68b718f2-eec6-4ce3-9850-a52a206781e5"
      },
      "execution_count": null,
      "outputs": [
        {
          "output_type": "stream",
          "name": "stdout",
          "text": [
            "Digite a idade do seu carro em anos: 3\n",
            "Seu carro é novo\n"
          ]
        }
      ]
    },
    {
      "cell_type": "code",
      "source": [
        "distancia = int(input(\"Digite a distancia da viagem em KM: \"))\n",
        "if distancia > 200:\n",
        "  preco = distancia*0.45\n",
        "else:\n",
        "  preco = distancia*0.5\n",
        "print(\"Essa corrida ficaria R$\", round(preco, 2))"
      ],
      "metadata": {
        "colab": {
          "base_uri": "https://localhost:8080/"
        },
        "id": "bLTLQsZ4GTn3",
        "outputId": "e3988632-1848-4461-a57b-970f96f6da9f"
      },
      "execution_count": null,
      "outputs": [
        {
          "output_type": "stream",
          "name": "stdout",
          "text": [
            "Digite a distancia da viagem em KM: 250\n",
            "Essa corrida ficaria R$ 112.5\n"
          ]
        }
      ]
    },
    {
      "cell_type": "code",
      "source": [
        "catego = int(input(\"Digite a categoria do produto de 1 a 5: \"))\n",
        "if catego == 1:\n",
        "  preco = 10\n",
        "elif catego == 2:\n",
        "  preco = 15\n",
        "elif catego == 3:\n",
        "  preco = 19\n",
        "elif catego == 4:\n",
        "  preco = 23\n",
        "elif catego == 5:\n",
        "  preco = 27\n",
        "print(\"o preço é de R$\", preco)"
      ],
      "metadata": {
        "colab": {
          "base_uri": "https://localhost:8080/"
        },
        "id": "YHTvchVHIJMC",
        "outputId": "3ef3022a-a35f-4932-baf7-45096b508727"
      },
      "execution_count": null,
      "outputs": [
        {
          "output_type": "stream",
          "name": "stdout",
          "text": [
            "Digite a categoria do produto de 1 a 5: 5\n",
            "o preço é de R$ 27\n"
          ]
        }
      ]
    },
    {
      "cell_type": "code",
      "source": [
        "num1 = int(input(\"Digite o primeiro número: \"))\n",
        "num2 = int(input(\"Digite o segundo número: \"))\n",
        "sinal = int(input(\"Selecione uma das operações: 1-Soma; 2-Subtração; 3-Multiplicação; 4-Divisão: \"))\n",
        "if sinal == 1:\n",
        "  print(num1+num2)\n",
        "elif sinal == 2:\n",
        "  print(num1-num2)\n",
        "elif sinal == 3:\n",
        "  print(num1*num2)\n",
        "elif sinal == 4:\n",
        "  print(num1/num2)"
      ],
      "metadata": {
        "colab": {
          "base_uri": "https://localhost:8080/"
        },
        "id": "_T2dJSE5JIvR",
        "outputId": "8a5ba170-6ef1-45dd-ae6a-ed448335e2d9"
      },
      "execution_count": null,
      "outputs": [
        {
          "output_type": "stream",
          "name": "stdout",
          "text": [
            "Digite o primeiro número: 2\n",
            "Digite o segundo número: 2\n",
            "Selecione uma das operações: 1-Soma; 2-Subtração; 3-Multiplicação; 4-Divisão: 4\n",
            "1.0\n"
          ]
        }
      ]
    },
    {
      "cell_type": "code",
      "source": [
        "casa = float(input(\"Digite o valor da casa: \"))\n",
        "salario = float(input(\"Digite o valor do seu salario: \"))\n",
        "tempo = int(input(\"Digite o tempo em anos para pagar a casa: \"))\n",
        "if casa/tempo > salario*0.3 :\n",
        "  print(\"Compra negada\")\n",
        "else:\n",
        "  print(\"Compra aprovada\")"
      ],
      "metadata": {
        "colab": {
          "base_uri": "https://localhost:8080/"
        },
        "id": "7nDA1O-VKhTI",
        "outputId": "dbd43291-4cf0-4aba-f581-ad8ec8104b6f"
      },
      "execution_count": null,
      "outputs": [
        {
          "output_type": "stream",
          "name": "stdout",
          "text": [
            "Digite o valor da casa: 5000\n",
            "Digite o valor do seu salario: 1000\n",
            "Digite o tempo em anos para pagar a casa: 20\n",
            "Compra aprovada\n"
          ]
        }
      ]
    },
    {
      "cell_type": "code",
      "source": [
        "tipo = str(input(\"Digite o tipo de instalação: R-Residencial; I-Industrial; C-Comercial: \"))\n",
        "kwh = int(input(\"Digite a quantidade de kWh consumida: \"))\n",
        "if tipo == \"R\":\n",
        "  if kwh > 500:\n",
        "    preco = 0.65\n",
        "  else:\n",
        "    preco = 0.4\n",
        "elif tipo == \"I\":\n",
        "  if kwh > 5000:\n",
        "    preco = 0.6\n",
        "  else:\n",
        "    preco = 0.55\n",
        "elif tipo == \"C\":\n",
        "  if kwh > 1000:\n",
        "    preco = 0.6\n",
        "  else:\n",
        "    preco = 0.55\n",
        "print(\"Preço a pagar por kWh é de R$\", preco)"
      ],
      "metadata": {
        "colab": {
          "base_uri": "https://localhost:8080/"
        },
        "id": "BEvMWFWQLldK",
        "outputId": "179246ae-4ab6-4859-9689-fee27785d527"
      },
      "execution_count": null,
      "outputs": [
        {
          "output_type": "stream",
          "name": "stdout",
          "text": [
            "Digite o tipo de instalação: R-Residencial; I-Industrial; C-Comercial: C\n",
            "Digite a quantidade de kWh consumida: 600\n",
            "Preço a pagar por kWh é de R$ 0.55\n"
          ]
        }
      ]
    }
  ]
}