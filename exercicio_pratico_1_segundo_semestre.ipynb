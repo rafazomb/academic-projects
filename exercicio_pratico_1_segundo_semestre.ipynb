{
  "nbformat": 4,
  "nbformat_minor": 0,
  "metadata": {
    "colab": {
      "provenance": [],
      "authorship_tag": "ABX9TyOTplwLOa8q0tgN7RonvfLv",
      "include_colab_link": true
    },
    "kernelspec": {
      "name": "python3",
      "display_name": "Python 3"
    },
    "language_info": {
      "name": "python"
    }
  },
  "cells": [
    {
      "cell_type": "markdown",
      "metadata": {
        "id": "view-in-github",
        "colab_type": "text"
      },
      "source": [
        "<a href=\"https://colab.research.google.com/github/rafazomb/academic-projects/blob/main/exercicio_pratico_1_segundo_semestre.ipynb\" target=\"_parent\"><img src=\"https://colab.research.google.com/assets/colab-badge.svg\" alt=\"Open In Colab\"/></a>"
      ]
    },
    {
      "cell_type": "code",
      "execution_count": null,
      "metadata": {
        "id": "TghE7d0K1yz6",
        "colab": {
          "base_uri": "https://localhost:8080/"
        },
        "outputId": "1f69d050-c04e-4394-e792-470cb32d8fae"
      },
      "outputs": [
        {
          "output_type": "stream",
          "name": "stdout",
          "text": [
            "Digite o valor de um cateto: 3\n",
            "Digite o valor do outro cateto: 4\n",
            "A hipotenusa desse triangulo é  5.0\n"
          ]
        }
      ],
      "source": [
        "#Exercicio 1\n",
        "#Nome: Rafael Henrique\n",
        "#Prof: Jose Fernando\n",
        "catetoA = 0\n",
        "catetoO = 0\n",
        "hipote = 0\n",
        "catetoA = float(input(\"Digite o valor de um cateto: \"))\n",
        "catetoO = float(input(\"Digite o valor do outro cateto: \"))\n",
        "hipote = (catetoA**2 + catetoO**2)**(1/2)\n",
        "print(\"A hipotenusa desse triangulo é \", hipote)"
      ]
    },
    {
      "cell_type": "code",
      "source": [
        "#Exercicio 2\n",
        "#Nome: Rafael Henrique\n",
        "#Prof: Jose Fernando\n",
        "nume = 0\n",
        "primo = 0\n",
        "divi = 0\n",
        "veri = 0\n",
        "nume = int(input(\"Digite um numero para verificar se ele é primo: \"))\n",
        "divi = nume\n",
        "while divi>2:\n",
        " divi = divi - 1\n",
        " veri = nume % divi\n",
        " if veri==0:\n",
        "  primo = 1\n",
        "  divi = 1\n",
        "if primo == 0:\n",
        "  print(\"Esse numero é primo.\")\n",
        "elif primo == 1:\n",
        "  print(\"Esse numero não é primo.\")"
      ],
      "metadata": {
        "colab": {
          "base_uri": "https://localhost:8080/"
        },
        "id": "ArJ-zEl4BCbC",
        "outputId": "5a5c1ca6-eb94-43f5-fb03-63cc926a4704"
      },
      "execution_count": null,
      "outputs": [
        {
          "output_type": "stream",
          "name": "stdout",
          "text": [
            "Digite um numero para verificar se ele é primo: 97\n",
            "Esse numero é primo.\n"
          ]
        }
      ]
    },
    {
      "cell_type": "code",
      "source": [
        "#Exercicio 3\n",
        "#Nome: Rafael Henrique\n",
        "#Prof: Jose Fernando\n",
        "nume = 0\n",
        "fato = 1\n",
        "nume = int(input(\"Digite um numero para calcular seu fatorial: \"))\n",
        "while nume>=1:\n",
        " fato = fato*nume\n",
        " nume = nume - 1\n",
        "print(\"O fatorial desse numero é\",fato)"
      ],
      "metadata": {
        "colab": {
          "base_uri": "https://localhost:8080/"
        },
        "id": "li_H49M6CoeK",
        "outputId": "23bd63c2-8798-4ce9-aae0-fec53b031b07"
      },
      "execution_count": null,
      "outputs": [
        {
          "output_type": "stream",
          "name": "stdout",
          "text": [
            "Digite um numero para calcular seu fatorial: 6\n",
            "O fatorial desse numero é 720\n"
          ]
        }
      ]
    },
    {
      "cell_type": "code",
      "source": [
        "#Exercício 4\n",
        "#Nome: Rafael Henrique\n",
        "#Prof: Jose Fernando\n",
        "import random\n",
        "chute = 0\n",
        "certo = int(100*round(random.random(),2))\n",
        "while certo != chute:\n",
        "  chute = int(input(\"Tente acertar o número entre 1 e 100: \"))\n",
        "  if chute < certo:\n",
        "    print(\"Esse número é menor que o escolhido.\")\n",
        "  elif chute > certo:\n",
        "    print(\"Esse número é maior que o escohido.\")\n",
        "  else:\n",
        "    print(\"Acertou o número escolhido\")"
      ],
      "metadata": {
        "colab": {
          "base_uri": "https://localhost:8080/"
        },
        "id": "NM6U_PzuDGQL",
        "outputId": "d6bc9d4f-5b63-40a6-8786-3d584d3eb648"
      },
      "execution_count": null,
      "outputs": [
        {
          "output_type": "stream",
          "name": "stdout",
          "text": [
            "Tente acertar o número entre 1 e 100: 50\n",
            "Esse número é menor que o escolhido.\n",
            "Tente acertar o número entre 1 e 100: 75\n",
            "Esse número é menor que o escolhido.\n",
            "Tente acertar o número entre 1 e 100: 90\n",
            "Esse número é menor que o escolhido.\n",
            "Tente acertar o número entre 1 e 100: 98\n",
            "Esse número é maior que o escohido.\n",
            "Tente acertar o número entre 1 e 100: 93\n",
            "Esse número é menor que o escolhido.\n",
            "Tente acertar o número entre 1 e 100: 96\n",
            "Esse número é maior que o escohido.\n",
            "Tente acertar o número entre 1 e 100: 94\n",
            "Esse número é menor que o escolhido.\n",
            "Tente acertar o número entre 1 e 100: 95\n",
            "Acertou o número escolhido\n"
          ]
        }
      ]
    },
    {
      "cell_type": "code",
      "source": [
        "#Exercício 5\n",
        "#Nome: Rafael Henrique\n",
        "#Prof: Jose Fernando\n",
        "temp = \"\"\n",
        "valor1 = 0.0\n",
        "valor2 = 0.0\n",
        "valor1 = float(input(\"Digite o valor da temperatura: \"))\n",
        "temp = str(input(\"Digite o tipo de temperatura digitada: C-Celsius F-Fahrenheit: \"))\n",
        "if temp == \"C\":\n",
        "  valor2 =  (valor1 * 9/5) + 32\n",
        "  print(valor2,\"°F é a conversão dessa temperatura.\")\n",
        "elif temp == \"F\":\n",
        "  valor2 = (valor1 - 32) * 5/9\n",
        "  print(valor2,\"°C é a conversão dessa temperatura.\")\n",
        "else:\n",
        "  print(\"Tipo foi digitado errado\")"
      ],
      "metadata": {
        "colab": {
          "base_uri": "https://localhost:8080/"
        },
        "id": "Cr0ws3juF_AK",
        "outputId": "be66d2e0-fc1e-4510-fc54-258e746ee763"
      },
      "execution_count": null,
      "outputs": [
        {
          "output_type": "stream",
          "name": "stdout",
          "text": [
            "Digite o valor da temperatura: 15\n",
            "Digite o tipo de temperatura digitada: C-Celsius F-Fahrenheit: C\n",
            "59.0 °F é a conversão dessa temperatura.\n"
          ]
        }
      ]
    }
  ]
}