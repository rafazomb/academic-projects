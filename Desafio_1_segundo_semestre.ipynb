{
  "nbformat": 4,
  "nbformat_minor": 0,
  "metadata": {
    "colab": {
      "provenance": [],
      "authorship_tag": "ABX9TyNYsCXkVhb37gtCL4JNVkkF",
      "include_colab_link": true
    },
    "kernelspec": {
      "name": "python3",
      "display_name": "Python 3"
    },
    "language_info": {
      "name": "python"
    }
  },
  "cells": [
    {
      "cell_type": "markdown",
      "metadata": {
        "id": "view-in-github",
        "colab_type": "text"
      },
      "source": [
        "<a href=\"https://colab.research.google.com/github/rafazomb/academic-projects/blob/main/Desafio_1_segundo_semestre.ipynb\" target=\"_parent\"><img src=\"https://colab.research.google.com/assets/colab-badge.svg\" alt=\"Open In Colab\"/></a>"
      ]
    },
    {
      "cell_type": "code",
      "execution_count": null,
      "metadata": {
        "colab": {
          "base_uri": "https://localhost:8080/"
        },
        "id": "NtPUXSO2QR9-",
        "outputId": "5a9e8b96-efe6-4fcf-a463-d450b2e65766"
      },
      "outputs": [
        {
          "output_type": "stream",
          "name": "stdout",
          "text": [
            "Digite o nome da pessoa: João\n",
            "Digite o número dessa pessoa: 123456798\n",
            "Contato adicionado, deseja adicionar outro? 0-Sim 1-Não :0\n",
            "-----------------------------------------------------------\n",
            "Digite o nome da pessoa: Maria\n",
            "Digite o número dessa pessoa: 897654321\n",
            "Contato adicionado, deseja adicionar outro? 0-Sim 1-Não :0\n",
            "-----------------------------------------------------------\n",
            "Digite o nome da pessoa: Carlos\n",
            "Digite o número dessa pessoa: 555555555\n",
            "Contato adicionado, deseja adicionar outro? 0-Sim 1-Não :0\n",
            "-----------------------------------------------------------\n",
            "Digite o nome da pessoa: Ivan\n",
            "Digite o número dessa pessoa: 984654732\n",
            "Contato adicionado, deseja adicionar outro? 0-Sim 1-Não :1\n",
            "-----------------------------------------------------------\n",
            "João : 123456798\n",
            "Maria : 897654321\n",
            "Carlos : 555555555\n",
            "Ivan : 984654732\n"
          ]
        }
      ],
      "source": [
        "#Desafio 1\n",
        "#Nome: Rafael Henrique\n",
        "#Prof: Jose Fernando\n",
        "agenda = {}\n",
        "nome = \"\"\n",
        "nume = 0\n",
        "resp = 0\n",
        "while resp != 1:\n",
        "  nome = str(input(\"Digite o nome da pessoa: \"))\n",
        "  nume = int(input(\"Digite o número dessa pessoa: \"))\n",
        "  agenda[nome] = nume\n",
        "  resp = int(input(\"Contato adicionado, deseja adicionar outro? 0-Sim 1-Não :\"))\n",
        "  print(\"-----------------------------------------------------------\")\n",
        "for x in agenda:\n",
        "  print(x,\":\",agenda[x])"
      ]
    }
  ]
}