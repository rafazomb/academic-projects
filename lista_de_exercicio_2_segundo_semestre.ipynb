{
  "nbformat": 4,
  "nbformat_minor": 0,
  "metadata": {
    "colab": {
      "provenance": [],
      "authorship_tag": "ABX9TyNOiSR3f3lVaa7Txek6yK/c",
      "include_colab_link": true
    },
    "kernelspec": {
      "name": "python3",
      "display_name": "Python 3"
    },
    "language_info": {
      "name": "python"
    }
  },
  "cells": [
    {
      "cell_type": "markdown",
      "metadata": {
        "id": "view-in-github",
        "colab_type": "text"
      },
      "source": [
        "<a href=\"https://colab.research.google.com/github/rafazomb/academic-projects/blob/main/lista_de_exercicio_2_segundo_semestre.ipynb\" target=\"_parent\"><img src=\"https://colab.research.google.com/assets/colab-badge.svg\" alt=\"Open In Colab\"/></a>"
      ]
    },
    {
      "cell_type": "code",
      "execution_count": null,
      "metadata": {
        "colab": {
          "base_uri": "https://localhost:8080/"
        },
        "id": "2WBcUDXS5mxI",
        "outputId": "de7bd0cb-fa0e-4652-81f6-69b931f39bea"
      },
      "outputs": [
        {
          "output_type": "stream",
          "name": "stdout",
          "text": [
            "1 ,2 ,3 ,4 ,5 ,6 ,7 ,8 ,9 ,10 ,11 ,12 ,13 ,14 ,15 ,16 ,17 ,18 ,19 ,20 ,21 ,22 ,23 ,24 ,25 ,\n",
            "26 ,27 ,28 ,29 ,30 ,31 ,32 ,33 ,34 ,35 ,36 ,37 ,38 ,39 ,40 ,41 ,42 ,43 ,44 ,45 ,46 ,47 ,48 ,49 ,50 ,\n",
            "51 ,52 ,53 ,54 ,55 ,56 ,57 ,58 ,59 ,60 ,61 ,62 ,63 ,64 ,65 ,66 ,67 ,68 ,69 ,70 ,71 ,72 ,73 ,74 ,75 ,\n",
            "76 ,77 ,78 ,79 ,80 ,81 ,82 ,83 ,84 ,85 ,86 ,87 ,88 ,89 ,90 ,91 ,92 ,93 ,94 ,95 ,96 ,97 ,98 ,99 ,100 ,"
          ]
        }
      ],
      "source": [
        "#Exercício 1\n",
        "#Nome: Rafael Henrique\n",
        "#Prof: Jose Fernando\n",
        "cont = 1\n",
        "while cont<=100:\n",
        "  print(cont,\",\",end=\"\")\n",
        "  cont = cont + 1\n",
        "  if cont == 26 or cont == 51 or cont == 76:\n",
        "    print()"
      ]
    },
    {
      "cell_type": "code",
      "source": [
        "#Exercício 2\n",
        "#Nome: Rafael Henrique\n",
        "#Prof: Jose Fernando\n",
        "cont = 50\n",
        "while cont<=100:\n",
        "  print(cont,\",\",end=\"\")\n",
        "  cont = cont + 1S\n",
        "  if cont == 76:\n",
        "    print()"
      ],
      "metadata": {
        "colab": {
          "base_uri": "https://localhost:8080/"
        },
        "id": "BOMqMHG8EGbr",
        "outputId": "b29cb406-fa64-4a75-a874-0e259338a5aa"
      },
      "execution_count": null,
      "outputs": [
        {
          "output_type": "stream",
          "name": "stdout",
          "text": [
            "50 ,51 ,52 ,53 ,54 ,55 ,56 ,57 ,58 ,59 ,60 ,61 ,62 ,63 ,64 ,65 ,66 ,67 ,68 ,69 ,70 ,71 ,72 ,73 ,74 ,75 ,\n",
            "76 ,77 ,78 ,79 ,80 ,81 ,82 ,83 ,84 ,85 ,86 ,87 ,88 ,89 ,90 ,91 ,92 ,93 ,94 ,95 ,96 ,97 ,98 ,99 ,100 ,"
          ]
        }
      ]
    },
    {
      "cell_type": "code",
      "source": [
        "#Exercício 3\n",
        "#Nome: Rafael Henrique\n",
        "#Prof: Jose Fernando\n",
        "cont = 10\n",
        "while cont>=0:\n",
        "  print(cont,end=\"\")\n",
        "  if cont != 0:\n",
        "    print(\",\",end=\"\")\n",
        "  cont = cont - 1\n",
        "print(\" Fogo!\")"
      ],
      "metadata": {
        "colab": {
          "base_uri": "https://localhost:8080/"
        },
        "id": "5IuTYMszEW57",
        "outputId": "46647242-b646-436a-b3aa-ecb6e15753c9"
      },
      "execution_count": null,
      "outputs": [
        {
          "output_type": "stream",
          "name": "stdout",
          "text": [
            "10,9,8,7,6,5,4,3,2,1,0 Fogo!\n"
          ]
        }
      ]
    },
    {
      "cell_type": "code",
      "source": [
        "#Exercício 4\n",
        "#Nome: Rafael Henrique\n",
        "#Prof: Jose Fernando\n",
        "cont = 1\n",
        "nume = 0\n",
        "nume = int(input(\"Digite un número: \"))\n",
        "while cont <= nume:\n",
        "  if cont % 2 == 1:\n",
        "    print(cont,\",\",end=\"\")\n",
        "  cont = cont + 1"
      ],
      "metadata": {
        "colab": {
          "base_uri": "https://localhost:8080/"
        },
        "id": "TMKIX9uEFHcL",
        "outputId": "c6fc69b4-eb3b-473a-bd06-20dc8a016b03"
      },
      "execution_count": null,
      "outputs": [
        {
          "output_type": "stream",
          "name": "stdout",
          "text": [
            "Digite un número: 21\n",
            "1 ,3 ,5 ,7 ,9 ,11 ,13 ,15 ,17 ,19 ,21 ,"
          ]
        }
      ]
    },
    {
      "cell_type": "code",
      "source": [
        "#Exercício 5\n",
        "#Nome: Rafael Henrique\n",
        "#Prof: Jose Fernando\n",
        "cont = 1\n",
        "nume = 0\n",
        "nume = int(input(\"Digite un número: \"))\n",
        "while cont <= nume:\n",
        "  if cont % 3 == 0:\n",
        "    print(cont,\",\",end=\"\")\n",
        "  cont = cont + 1"
      ],
      "metadata": {
        "colab": {
          "base_uri": "https://localhost:8080/"
        },
        "id": "BQY59hTWGa9D",
        "outputId": "c089d64c-5b6a-41e4-9e9d-fc172c9a3501"
      },
      "execution_count": null,
      "outputs": [
        {
          "output_type": "stream",
          "name": "stdout",
          "text": [
            "Digite un número: 30\n",
            "3 ,6 ,9 ,12 ,15 ,18 ,21 ,24 ,27 ,30 ,"
          ]
        }
      ]
    },
    {
      "cell_type": "code",
      "source": [
        "#Exercício 6\n",
        "#Nome: Rafael Henrique\n",
        "#Prof: Jose Fernando\n",
        "nume = 0\n",
        "tabu = 0\n",
        "nume = int(input(\"Digite um número para mostrar sua tabuada: \"))\n",
        "while tabu<=10:\n",
        "  print(nume,\"X\",tabu,\"=\",nume*tabu)\n",
        "  tabu = tabu + 1"
      ],
      "metadata": {
        "colab": {
          "base_uri": "https://localhost:8080/"
        },
        "id": "apDtoK6CGnhr",
        "outputId": "afc7d4de-82fb-43a2-e329-dc99bd3fb641"
      },
      "execution_count": null,
      "outputs": [
        {
          "output_type": "stream",
          "name": "stdout",
          "text": [
            "Digite um número para mostrar sua tabuada: 6\n",
            "6 X 0 = 0\n",
            "6 X 1 = 6\n",
            "6 X 2 = 12\n",
            "6 X 3 = 18\n",
            "6 X 4 = 24\n",
            "6 X 5 = 30\n",
            "6 X 6 = 36\n",
            "6 X 7 = 42\n",
            "6 X 8 = 48\n",
            "6 X 9 = 54\n",
            "6 X 10 = 60\n"
          ]
        }
      ]
    },
    {
      "cell_type": "code",
      "source": [
        "#Exercício 7\n",
        "#Nome: Rafael Henrique\n",
        "#Prof: Jose Fernando\n",
        "nume = 0\n",
        "tabumin = 0\n",
        "tabumax = 0\n",
        "nume = int(input(\"Digite um número para mostrar sua tabuada: \"))\n",
        "tabumin = int(input(\"Digite o começo da tabuada desejada: \"))\n",
        "tabumax = int(input(\"Digite o fim da tabuada desejada: \"))\n",
        "while tabumin <= tabumax:\n",
        "  print(nume,\"X\",tabumin,\"=\",nume*tabumin)\n",
        "  tabumin = tabumin + 1"
      ],
      "metadata": {
        "colab": {
          "base_uri": "https://localhost:8080/"
        },
        "id": "XDvgzqusIVUk",
        "outputId": "9382f25c-e6ee-4261-ba69-aea4a4bf5589"
      },
      "execution_count": null,
      "outputs": [
        {
          "output_type": "stream",
          "name": "stdout",
          "text": [
            "Digite um número para mostrar sua tabuada: 6\n",
            "Digite o começo da tabuada desejada: 10\n",
            "Digite o fim da tabuada desejada: 20\n",
            "6 X 10 = 60\n",
            "6 X 11 = 66\n",
            "6 X 12 = 72\n",
            "6 X 13 = 78\n",
            "6 X 14 = 84\n",
            "6 X 15 = 90\n",
            "6 X 16 = 96\n",
            "6 X 17 = 102\n",
            "6 X 18 = 108\n",
            "6 X 19 = 114\n",
            "6 X 20 = 120\n"
          ]
        }
      ]
    },
    {
      "cell_type": "code",
      "source": [
        "#Exercício 8\n",
        "#Nome: Rafael Henrique\n",
        "#Prof: Jose Fernando\n",
        "nume1 = 0\n",
        "nume2 = 0\n",
        "cont = 1\n",
        "resul = 0\n",
        "nume1 = int(input(\"Digite o primeiro número: \"))\n",
        "nume2 = int(input(\"Digite o segundo número: \"))\n",
        "while cont <= nume2:\n",
        "  resul = resul + nume1\n",
        "  cont = cont + 1\n",
        "print(\"Multiplicando os dois números fica:\",resul)"
      ],
      "metadata": {
        "colab": {
          "base_uri": "https://localhost:8080/"
        },
        "id": "vw4xVe8rI5HL",
        "outputId": "18dd886d-ab0f-42df-d7ec-57176ee9d810"
      },
      "execution_count": null,
      "outputs": [
        {
          "output_type": "stream",
          "name": "stdout",
          "text": [
            "Digite o primeiro número: 6\n",
            "Digite o segundo número: 4\n",
            "Multiplicando os dois números fica:  24\n"
          ]
        }
      ]
    },
    {
      "cell_type": "code",
      "source": [
        "#Exercício 9\n",
        "#Nome: Rafael Henrique\n",
        "#Prof: Jose Fernando\n",
        "nume1 = 0\n",
        "nume2 = 0\n",
        "resul = 0\n",
        "nume1 = int(input(\"Digite o primeiro número: \"))\n",
        "nume2 = int(input(\"Digite o segundo número: \"))\n",
        "while nume1 >= nume2:\n",
        "  nume1 = nume1 - nume2\n",
        "  resul = resul + 1\n",
        "print(\"O resultado da divisão do primeiro pelo segundo é de\",resul)\n",
        "if nume1 > 0:\n",
        "  print(\"E sobra\", nume1)"
      ],
      "metadata": {
        "colab": {
          "base_uri": "https://localhost:8080/"
        },
        "id": "GPuS2GpLKGbs",
        "outputId": "c5aa912a-4ec0-4093-f58d-9e64ea975367"
      },
      "execution_count": null,
      "outputs": [
        {
          "output_type": "stream",
          "name": "stdout",
          "text": [
            "Digite o primeiro número: 11\n",
            "Digite o segundo número: 5\n",
            "O resultado da divisão do primeiro pelo segundo é de 2\n",
            "E sobra 1\n"
          ]
        }
      ]
    },
    {
      "cell_type": "code",
      "source": [
        "#Exercício 10\n",
        "#Nome: Rafael Henrique\n",
        "#Prof: Jose Fernando\n",
        "resp = \"\"\n",
        "resul = 0\n",
        "resp = str(input(\"Digite a alternativa da primeira questão: \"))\n",
        "if resp == \"b\" or resp == \"B\":\n",
        "  resul = resul + 1\n",
        "resp = str(input(\"Digite a alternativa da segunda questão: \"))\n",
        "if resp == \"a\" or resp == \"A\":\n",
        "  resul = resul + 1\n",
        "resp = str(input(\"Digite a alternativa da terceira questão: \"))\n",
        "if resp == \"d\" or resp == \"D\":\n",
        "  resul = resul + 1\n",
        "print(\"Total de acertos:\",resul)"
      ],
      "metadata": {
        "colab": {
          "base_uri": "https://localhost:8080/"
        },
        "id": "wFZlRwmwLX-L",
        "outputId": "5e65047a-4a03-442a-c861-82e4163b1fd6"
      },
      "execution_count": null,
      "outputs": [
        {
          "output_type": "stream",
          "name": "stdout",
          "text": [
            "Digite a alternativa da primeira questão: c\n",
            "Digite a alternativa da segunda questão: A\n",
            "Digite a alternativa da terceira questão: d\n",
            "Total de acertos: 2\n"
          ]
        }
      ]
    },
    {
      "cell_type": "code",
      "source": [
        "#Exercício 11\n",
        "#Nome: Rafael Henrique\n",
        "#Prof: Jose Fernando\n",
        "depo = 0\n",
        "taxa = 0.00\n",
        "lucro = 0.00\n",
        "mes = 1\n",
        "depo = int(input(\"Digite o valor do deposito inicial: \"))\n",
        "taxa = float(input(\"Digite a taxa de juros em decimal(0.1 para 10% de juros): \"))\n",
        "taxa = taxa + 1\n",
        "lucro = depo\n",
        "while mes <= 24:\n",
        "  lucro = lucro * taxa\n",
        "  print(\"mes:\",mes,\"; saldo:\",round(lucro,2))\n",
        "  mes = mes + 1\n",
        "print(\"Total ganho com juros:\",round(lucro - depo,2))"
      ],
      "metadata": {
        "colab": {
          "base_uri": "https://localhost:8080/"
        },
        "id": "gxE4zWLyMyQs",
        "outputId": "f64fd7c7-a6e8-402a-888e-fc374b465811"
      },
      "execution_count": null,
      "outputs": [
        {
          "output_type": "stream",
          "name": "stdout",
          "text": [
            "Digite o valor do deposito inicial: 1000\n",
            "Digite a taxa de juros em decimal(0.1 para 10% de juros): 0.1\n",
            "mes: 1 ; saldo: 1100.0\n",
            "mes: 2 ; saldo: 1210.0\n",
            "mes: 3 ; saldo: 1331.0\n",
            "mes: 4 ; saldo: 1464.1\n",
            "mes: 5 ; saldo: 1610.51\n",
            "mes: 6 ; saldo: 1771.56\n",
            "mes: 7 ; saldo: 1948.72\n",
            "mes: 8 ; saldo: 2143.59\n",
            "mes: 9 ; saldo: 2357.95\n",
            "mes: 10 ; saldo: 2593.74\n",
            "mes: 11 ; saldo: 2853.12\n",
            "mes: 12 ; saldo: 3138.43\n",
            "mes: 13 ; saldo: 3452.27\n",
            "mes: 14 ; saldo: 3797.5\n",
            "mes: 15 ; saldo: 4177.25\n",
            "mes: 16 ; saldo: 4594.97\n",
            "mes: 17 ; saldo: 5054.47\n",
            "mes: 18 ; saldo: 5559.92\n",
            "mes: 19 ; saldo: 6115.91\n",
            "mes: 20 ; saldo: 6727.5\n",
            "mes: 21 ; saldo: 7400.25\n",
            "mes: 22 ; saldo: 8140.27\n",
            "mes: 23 ; saldo: 8954.3\n",
            "mes: 24 ; saldo: 9849.73\n",
            "Total ganho com juros: 8849.73\n"
          ]
        }
      ]
    },
    {
      "cell_type": "code",
      "source": [
        "#Exercício 12\n",
        "#Nome: Rafael Henrique\n",
        "#Prof: Jose Fernando\n",
        "depo = 0\n",
        "taxa = 0.00\n",
        "lucro = 0.00\n",
        "mes = 1\n",
        "acre = 0\n",
        "depo = int(input(\"Digite o valor do deposito inicial: \"))\n",
        "taxa = float(input(\"Digite a taxa de juros em decimal(0.1 para 10% de juros): \"))\n",
        "taxa = taxa + 1\n",
        "lucro = depo\n",
        "while mes <= 24:\n",
        "  acre = int(input(\"Digite o valor depositado esse mês: \"))\n",
        "  lucro = lucro + acre\n",
        "  depo = depo + acre\n",
        "  lucro = lucro * taxa\n",
        "  print(\"mes:\",mes,\"; saldo:\",round(lucro,2))\n",
        "  mes = mes + 1\n",
        "print(\"Total ganho com juros:\",round(lucro - depo,2))"
      ],
      "metadata": {
        "colab": {
          "base_uri": "https://localhost:8080/"
        },
        "id": "YYwjdKAjPddz",
        "outputId": "a81839ac-0d83-4772-944b-b511b1b48926"
      },
      "execution_count": null,
      "outputs": [
        {
          "output_type": "stream",
          "name": "stdout",
          "text": [
            "Digite o valor do deposito inicial: 1000\n",
            "Digite a taxa de juros em decimal(0.1 para 10% de juros): 0.1\n",
            "Digite o valor depositado esse mês: 0\n",
            "mes: 1 ; saldo: 1100.0\n",
            "Digite o valor depositado esse mês: 100\n",
            "mes: 2 ; saldo: 1320.0\n",
            "Digite o valor depositado esse mês: 0\n",
            "mes: 3 ; saldo: 1452.0\n",
            "Digite o valor depositado esse mês: 1000\n",
            "mes: 4 ; saldo: 2697.2\n",
            "Digite o valor depositado esse mês: 0\n",
            "mes: 5 ; saldo: 2966.92\n",
            "Digite o valor depositado esse mês: 0\n",
            "mes: 6 ; saldo: 3263.61\n",
            "Digite o valor depositado esse mês: 250\n",
            "mes: 7 ; saldo: 3864.97\n",
            "Digite o valor depositado esse mês: 0\n",
            "mes: 8 ; saldo: 4251.47\n",
            "Digite o valor depositado esse mês: 750\n",
            "mes: 9 ; saldo: 5501.62\n",
            "Digite o valor depositado esse mês: 0\n",
            "mes: 10 ; saldo: 6051.78\n",
            "Digite o valor depositado esse mês: 110\n",
            "mes: 11 ; saldo: 6777.96\n",
            "Digite o valor depositado esse mês: 0\n",
            "mes: 12 ; saldo: 7455.75\n",
            "Digite o valor depositado esse mês: 0\n",
            "mes: 13 ; saldo: 8201.33\n",
            "Digite o valor depositado esse mês: 0\n",
            "mes: 14 ; saldo: 9021.46\n",
            "Digite o valor depositado esse mês: 1200\n",
            "mes: 15 ; saldo: 11243.61\n",
            "Digite o valor depositado esse mês: 0\n",
            "mes: 16 ; saldo: 12367.97\n",
            "Digite o valor depositado esse mês: 0\n",
            "mes: 17 ; saldo: 13604.76\n",
            "Digite o valor depositado esse mês: 300\n",
            "mes: 18 ; saldo: 15295.24\n",
            "Digite o valor depositado esse mês: 0\n",
            "mes: 19 ; saldo: 16824.77\n",
            "Digite o valor depositado esse mês: 250\n",
            "mes: 20 ; saldo: 18782.24\n",
            "Digite o valor depositado esse mês: 300\n",
            "mes: 21 ; saldo: 20990.47\n",
            "Digite o valor depositado esse mês: 0\n",
            "mes: 22 ; saldo: 23089.51\n",
            "Digite o valor depositado esse mês: 100\n",
            "mes: 23 ; saldo: 25508.46\n",
            "Digite o valor depositado esse mês: 0\n",
            "mes: 24 ; saldo: 28059.31\n",
            "Total ganho com juros: 22699.31\n"
          ]
        }
      ]
    },
    {
      "cell_type": "code",
      "source": [
        "#Exercício 13 falta terminar\n",
        "#Nome: Rafael Henrique\n",
        "#Prof: Jose Fernando\n",
        "divi = 0\n",
        "juros = 0.0\n",
        "pmes = 0\n",
        "perda = 0.0\n",
        "mes = 0\n",
        "comju = 0.0\n",
        "divi = int(input(\"Digite o valor inicial da divida: \"))\n",
        "juros = float(input(\"Digite o juros em decimal(0.1 para 10% de juros): \"))\n",
        "pmes = int(input(\"Digite o valor pago por mês: \"))\n",
        "juros = juros + 1\n",
        "perda = divi\n",
        "while divi >= pmes:\n",
        "  divi = (divi * juros) - pmes\n",
        "  mes = mes + 1\n",
        "  comju = divi + (pmes * mes)\n",
        "if divi > 0:\n",
        "  mes = mes + 1\n",
        "comju = comju - perda\n",
        "print(mes,\"meses para pagar a divida com\",comju,\"reais a mais de juros\")"
      ],
      "metadata": {
        "id": "7SjCnw5OSEGL",
        "colab": {
          "base_uri": "https://localhost:8080/"
        },
        "outputId": "2339c33d-467d-4d84-e6e4-e22eb96e6bd3"
      },
      "execution_count": null,
      "outputs": [
        {
          "output_type": "stream",
          "name": "stdout",
          "text": [
            "Digite o valor inicial da divida: 1000\n",
            "Digite o juros em decimal(0.1 para 10% de juros): 0.1\n",
            "Digite o valor pago por mês: 500\n",
            "3 meses para pagar a divida com 160.0 reais a mais de juros\n"
          ]
        }
      ]
    },
    {
      "cell_type": "code",
      "source": [
        "#Exercício 14\n",
        "#Nome: Rafael Henrique\n",
        "#Prof: Jose Fernando\n",
        "nume = 1\n",
        "qnt = 0\n",
        "total = 0\n",
        "media = 0\n",
        "while nume != 0:\n",
        "  nume = int(input(\"Digite um número ou digite 0 para finalizar: \"))\n",
        "  if nume == 0:\n",
        "    break\n",
        "  qnt = qnt + 1\n",
        "  total = total + nume\n",
        "media = total / qnt\n",
        "print(qnt,\"números digitados;\")\n",
        "print(total,\"total da soma deles;\")\n",
        "print(media,\"media dos numeros\")"
      ],
      "metadata": {
        "colab": {
          "base_uri": "https://localhost:8080/"
        },
        "id": "WRBsaABrUkka",
        "outputId": "c7aeee51-0f33-432a-c1c9-fa6abcf640b2"
      },
      "execution_count": null,
      "outputs": [
        {
          "output_type": "stream",
          "name": "stdout",
          "text": [
            "Digite um número ou digite 0 para finalizar: 1\n",
            "Digite um número ou digite 0 para finalizar: 2\n",
            "Digite um número ou digite 0 para finalizar: 3\n",
            "Digite um número ou digite 0 para finalizar: 4\n",
            "Digite um número ou digite 0 para finalizar: 5\n",
            "Digite um número ou digite 0 para finalizar: 0\n",
            "5 números digitados;\n",
            "15 total da soma deles;\n",
            "3.0 media dos numeros\n"
          ]
        }
      ]
    },
    {
      "cell_type": "code",
      "source": [
        "#Exercício 15\n",
        "#Nome: Rafael Henrique\n",
        "#Prof: Jose Fernando\n",
        "code = 1\n",
        "qnt = 0\n",
        "total = 0.0\n",
        "while code != 0:\n",
        "  code = int(input(\"Digite o codigo do produto: \"))\n",
        "  if code == 0:\n",
        "    print(\"Total a pagar: R$\",total)\n",
        "    break\n",
        "  qnt = int(input(\"Digite a quantidade desse produto: \"))\n",
        "  if code == 1:\n",
        "    total = total + (qnt*0.5)\n",
        "  elif code == 2:\n",
        "    total = total + (qnt*1)\n",
        "  elif code == 4:\n",
        "    total = total + (qnt*4)\n",
        "  elif code == 5:\n",
        "    total = total + (qnt*7)\n",
        "  elif code == 9:\n",
        "    total = total + (qnt*8)\n",
        "  else:\n",
        "    print(\"Codigo Invalido\")"
      ],
      "metadata": {
        "colab": {
          "base_uri": "https://localhost:8080/"
        },
        "id": "NgljIL4TV3RA",
        "outputId": "ddb60db4-74ee-4f5b-97d1-f891a8baefb7"
      },
      "execution_count": null,
      "outputs": [
        {
          "output_type": "stream",
          "name": "stdout",
          "text": [
            "Digite o codigo do produto: 1\n",
            "Digite a quantidade desse produto: 2\n",
            "Digite o codigo do produto: 2\n",
            "Digite a quantidade desse produto: 4\n",
            "Digite o codigo do produto: 4\n",
            "Digite a quantidade desse produto: 2\n",
            "Digite o codigo do produto: 5\n",
            "Digite a quantidade desse produto: 1\n",
            "Digite o codigo do produto: 6\n",
            "Digite a quantidade desse produto: 0\n",
            "Codigo Invalido\n",
            "Digite o codigo do produto: 9\n",
            "Digite a quantidade desse produto: 1\n",
            "Digite o codigo do produto: 0\n",
            "Total a pagar: R$ 28.0\n"
          ]
        }
      ]
    },
    {
      "cell_type": "code",
      "source": [
        "#Exercício 16\n",
        "#Nome: Rafael Henrique\n",
        "#Prof: Jose Fernando\n",
        "dinhe = 0\n",
        "nota50 = 0\n",
        "nota20 = 0\n",
        "nota10 = 0\n",
        "nota5 = 0\n",
        "nota1 = 0\n",
        "dinhe = int(input(\"Digite um número inteiro: \"))\n",
        "while dinhe >= 50:\n",
        "  dinhe = dinhe - 50\n",
        "  nota50 = nota50 + 1\n",
        "print(nota50,\"notas de 50 reais\")\n",
        "while dinhe >= 20:\n",
        "  dinhe = dinhe - 20\n",
        "  nota20 = nota20 + 1\n",
        "print(nota20,\"notas de 20 reais\")\n",
        "while dinhe >= 10:\n",
        "  dinhe = dinhe - 10\n",
        "  nota10 = nota10 + 1\n",
        "print(nota10,\"notas de 10 reais\")\n",
        "while dinhe >= 5:\n",
        "  dinhe = dinhe - 5\n",
        "  nota5 = nota5 + 1\n",
        "print(nota5,\"notas de 5 reais\")\n",
        "while dinhe >= 1:\n",
        "  dinhe = dinhe - 1\n",
        "  nota1 = nota1 + 1\n",
        "print(nota1,\"notas de 1 reais, para chegar no valor digitado\")"
      ],
      "metadata": {
        "colab": {
          "base_uri": "https://localhost:8080/"
        },
        "id": "GI-gAwnldGb1",
        "outputId": "2d9d4bb5-c819-4338-9cce-1b5f30b9341b"
      },
      "execution_count": null,
      "outputs": [
        {
          "output_type": "stream",
          "name": "stdout",
          "text": [
            "Digite um número inteiro: 0\n",
            "0 notas de 50 reais\n",
            "0 notas de 20 reais\n",
            "0 notas de 10 reais\n",
            "0 notas de 5 reais\n",
            "0 notas de 1 reais, para chegar no valor digitado\n"
          ]
        }
      ]
    },
    {
      "cell_type": "code",
      "source": [
        "#Exercício 18\n",
        "#Nome: Rafael Henrique\n",
        "#Prof: Jose Fernando\n",
        "dinhe = 0\n",
        "nota100 = 0\n",
        "nota50 = 0\n",
        "nota20 = 0\n",
        "nota10 = 0\n",
        "nota5 = 0\n",
        "nota1 = 0\n",
        "dinhe = int(input(\"Digite um número inteiro: \"))\n",
        "while dinhe >= 100:\n",
        "  dinhe = dinhe - 100\n",
        "  nota100 = nota100 + 1\n",
        "print(nota100,\"notas de 100 reais\")\n",
        "while dinhe >= 50:\n",
        "  dinhe = dinhe - 50\n",
        "  nota50 = nota50 + 1\n",
        "print(nota50,\"notas de 50 reais\")\n",
        "while dinhe >= 20:\n",
        "  dinhe = dinhe - 20\n",
        "  nota20 = nota20 + 1\n",
        "print(nota20,\"notas de 20 reais\")\n",
        "while dinhe >= 10:\n",
        "  dinhe = dinhe - 10\n",
        "  nota10 = nota10 + 1\n",
        "print(nota10,\"notas de 10 reais\")\n",
        "while dinhe >= 5:\n",
        "  dinhe = dinhe - 5\n",
        "  nota5 = nota5 + 1\n",
        "print(nota5,\"notas de 5 reais\")\n",
        "while dinhe >= 1:\n",
        "  dinhe = dinhe - 1\n",
        "  nota1 = nota1 + 1\n",
        "print(nota1,\"notas de 1 reais, para chegar no valor digitado\")"
      ],
      "metadata": {
        "colab": {
          "base_uri": "https://localhost:8080/"
        },
        "id": "S_N1O_6fgZ6F",
        "outputId": "c9a2da32-7451-41d0-b5b0-89c65037507e"
      },
      "execution_count": null,
      "outputs": [
        {
          "output_type": "stream",
          "name": "stdout",
          "text": [
            "Digite um número inteiro: 289\n",
            "2 notas de 100 reais\n",
            "1 notas de 50 reais\n",
            "1 notas de 20 reais\n",
            "1 notas de 10 reais\n",
            "1 notas de 5 reais\n",
            "4 notas de 1 reais, para chegar no valor digitado\n"
          ]
        }
      ]
    },
    {
      "cell_type": "code",
      "source": [
        "#Exercício 19\n",
        "#Nome: Rafael Henrique\n",
        "#Prof: Jose Fernando\n",
        "dinhe = 0.0\n",
        "nota100 = 0\n",
        "nota50 = 0\n",
        "nota20 = 0\n",
        "nota10 = 0\n",
        "nota5 = 0\n",
        "nota1 = 0\n",
        "moeda50 = 0\n",
        "moeda10 = 0\n",
        "moeda5 = 0\n",
        "moeda2 = 0\n",
        "moeda1 = 0\n",
        "dinhe = float(input(\"Digite um número inteiro: \"))\n",
        "while dinhe >= 100:\n",
        "  dinhe = dinhe - 100\n",
        "  nota100 = nota100 + 1\n",
        "print(nota100,\"notas de 100 reais\")\n",
        "while dinhe >= 50:\n",
        "  dinhe = dinhe - 50\n",
        "  nota50 = nota50 + 1\n",
        "print(nota50,\"notas de 50 reais\")\n",
        "while dinhe >= 20:\n",
        "  dinhe = dinhe - 20\n",
        "  nota20 = nota20 + 1\n",
        "print(nota20,\"notas de 20 reais\")\n",
        "while dinhe >= 10:\n",
        "  dinhe = dinhe - 10\n",
        "  nota10 = nota10 + 1\n",
        "print(nota10,\"notas de 10 reais\")\n",
        "while dinhe >= 5:\n",
        "  dinhe = dinhe - 5\n",
        "  nota5 = nota5 + 1\n",
        "print(nota5,\"notas de 5 reais\")\n",
        "while dinhe >= 1:\n",
        "  dinhe = dinhe - 1\n",
        "  nota1 = nota1 + 1\n",
        "print(nota1,\"notas de 1 real\")\n",
        "while dinhe >=0.5:\n",
        "  dinhe = dinhe - 0.5\n",
        "  moeda50 = moeda50 + 1\n",
        "print(moeda50,\"moedas de 50 centavos\")\n",
        "while dinhe >=0.1:\n",
        "  dinhe = dinhe - 0.1\n",
        "  moeda10 = moeda10 + 1\n",
        "print(moeda10,\"moedas de 10 centavos\")\n",
        "while dinhe >=0.5:\n",
        "  dinhe = dinhe - 0.5\n",
        "  moeda50 = moeda50 + 1\n",
        "print(moeda50,\"moedas de 5 centavos\")\n",
        "while dinhe >=0.02:\n",
        "  dinhe = dinhe - 0.02\n",
        "  moeda2 = moeda2 + 1\n",
        "print(moeda50,\"moedas de 2 centavos\")\n",
        "while dinhe >=0.01:\n",
        "  dinhe = dinhe - 0.01\n",
        "  moeda1 = moeda1 + 1\n",
        "print(moeda1,\"moedas de 1 centavo, para chegar ao valor\")"
      ],
      "metadata": {
        "colab": {
          "base_uri": "https://localhost:8080/"
        },
        "id": "5gFJmi1Ag76N",
        "outputId": "0438f6c4-ed47-44a7-8183-77465509111f"
      },
      "execution_count": null,
      "outputs": [
        {
          "output_type": "stream",
          "name": "stdout",
          "text": [
            "Digite um número inteiro: 0.001\n",
            "0 notas de 100 reais\n",
            "0 notas de 50 reais\n",
            "0 notas de 20 reais\n",
            "0 notas de 10 reais\n",
            "0 notas de 5 reais\n",
            "0 notas de 1 real\n",
            "0 moedas de 50 centavos\n",
            "0 moedas de 10 centavos\n",
            "0 moedas de 5 centavos\n",
            "0 moedas de 2 centavos\n",
            "0 moedas de 1 centavo, para chegar ao valor\n"
          ]
        }
      ]
    },
    {
      "cell_type": "code",
      "source": [
        "#Exercício 21\n",
        "#Nome: Rafael Henrique\n",
        "#Prof: Jose Fernando\n",
        "dinhe = 1\n",
        "nota100 = 0\n",
        "nota50 = 0\n",
        "nota20 = 0\n",
        "nota10 = 0\n",
        "nota5 = 0\n",
        "nota1 = 0\n",
        "moeda50 = 0\n",
        "moeda10 = 0\n",
        "moeda5 = 0\n",
        "moeda2 = 0\n",
        "moeda1 = 0\n",
        "while dinhe != 0:\n",
        " dinhe = int(input(\"Digite um número nteiro: \"))\n",
        " if dinhe == 0:\n",
        "   break\n",
        " while dinhe >= 50:\n",
        "   dinhe = dinhe - 50\n",
        "   nota50 = nota50 + 1\n",
        " print(nota50,\"notas de 50 reais\")\n",
        " while dinhe >= 20:\n",
        "   dinhe = dinhe - 20\n",
        "   nota20 = nota20 + 1\n",
        " print(nota20,\"notas de 20 reais\")\n",
        " while dinhe >= 10:\n",
        "   dinhe = dinhe - 10\n",
        "   nota10 = nota10 + 1\n",
        " print(nota10,\"notas de 10 reais\")\n",
        " while dinhe >= 5:\n",
        "   dinhe = dinhe - 5\n",
        "   nota5 = nota5 + 1\n",
        " print(nota5,\"notas de 5 reais\")\n",
        " while dinhe >= 1:\n",
        "   dinhe = dinhe - 1\n",
        "   nota1 = nota1 + 1\n",
        " print(nota1,\"notas de 1 real\")\n",
        " dinhe = 1"
      ],
      "metadata": {
        "colab": {
          "base_uri": "https://localhost:8080/"
        },
        "id": "AyTkZ2IgjWCy",
        "outputId": "86023f95-3601-4d5a-c72d-13f80f62a609"
      },
      "execution_count": null,
      "outputs": [
        {
          "name": "stdout",
          "output_type": "stream",
          "text": [
            "Digite um número nteiro: 100\n",
            "2 notas de 50 reais\n",
            "0 notas de 20 reais\n",
            "0 notas de 10 reais\n",
            "0 notas de 5 reais\n",
            "0 notas de 1 real\n",
            "Digite um número nteiro: 159\n",
            "5 notas de 50 reais\n",
            "0 notas de 20 reais\n",
            "0 notas de 10 reais\n",
            "1 notas de 5 reais\n",
            "4 notas de 1 real\n",
            "Digite um número nteiro: 2\n",
            "5 notas de 50 reais\n",
            "0 notas de 20 reais\n",
            "0 notas de 10 reais\n",
            "1 notas de 5 reais\n",
            "6 notas de 1 real\n",
            "Digite um número nteiro: 0\n"
          ]
        }
      ]
    },
    {
      "cell_type": "code",
      "source": [
        "#Exercício 22\n",
        "#Nome: Rafael Henrique\n",
        "#Prof: Jose Fernando\n",
        "nume = 0\n",
        "escolha = 0\n",
        "aux = 0\n",
        "while escolha != 5:\n",
        "  nume = int(input(\"Digite um número: \"))\n",
        "  print(\"Escolha o tipo de tabuada para esse número:\")\n",
        "  print(\"[1]Adição        [2]Subtração\")\n",
        "  print(\"[3]Multiplicação [4]Divisão\")\n",
        "  escolha = int(input(\"[5]Encerrar programa   Escolha: \"))\n",
        "  if escolha == 1:\n",
        "    for aux in range(10):\n",
        "      print(nume,\"+\",aux+1,\"=\",(nume+aux+1))\n",
        "  elif escolha == 2:\n",
        "    for aux in range(10):\n",
        "      print(nume,\"-\",aux+1,\"=\",(nume-aux+1))\n",
        "  elif escolha == 3:\n",
        "    for aux in range(10):\n",
        "      print(nume,\"*\",aux+1,\"=\",nume*(aux+1))\n",
        "  elif escolha == 4:\n",
        "    for aux in range(10):\n",
        "      print(nume,\"/\",aux+1,\"=\",nume/(aux+1))\n",
        "  elif escolha == 5:\n",
        "    print(\"Programa encerrado.\")\n",
        "  else:\n",
        "    print(\"Escolha invalida.\")"
      ],
      "metadata": {
        "colab": {
          "base_uri": "https://localhost:8080/"
        },
        "id": "2yOtu74OkrM9",
        "outputId": "3bc40b12-2c69-48ef-ebb3-bf53fb94bd34"
      },
      "execution_count": null,
      "outputs": [
        {
          "output_type": "stream",
          "name": "stdout",
          "text": [
            "Digite um número: 2\n",
            "Escolha o tipo de tabuada para esse número:\n",
            "[1]Adição        [2]Subtração\n",
            "[3]Multiplicação [4]Divisão\n",
            "[5]Encerrar programa   Escolha: 1\n",
            "2 + 1 = 3\n",
            "2 + 2 = 4\n",
            "2 + 3 = 5\n",
            "2 + 4 = 6\n",
            "2 + 5 = 7\n",
            "2 + 6 = 8\n",
            "2 + 7 = 9\n",
            "2 + 8 = 10\n",
            "2 + 9 = 11\n",
            "2 + 10 = 12\n",
            "Digite um número: 5\n",
            "Escolha o tipo de tabuada para esse número:\n",
            "[1]Adição        [2]Subtração\n",
            "[3]Multiplicação [4]Divisão\n",
            "[5]Encerrar programa   Escolha: 2\n",
            "5 - 1 = 6\n",
            "5 - 2 = 5\n",
            "5 - 3 = 4\n",
            "5 - 4 = 3\n",
            "5 - 5 = 2\n",
            "5 - 6 = 1\n",
            "5 - 7 = 0\n",
            "5 - 8 = -1\n",
            "5 - 9 = -2\n",
            "5 - 10 = -3\n",
            "Digite um número: 2\n",
            "Escolha o tipo de tabuada para esse número:\n",
            "[1]Adição        [2]Subtração\n",
            "[3]Multiplicação [4]Divisão\n",
            "[5]Encerrar programa   Escolha: 3\n",
            "2 * 1 = 2\n",
            "2 * 2 = 4\n",
            "2 * 3 = 6\n",
            "2 * 4 = 8\n",
            "2 * 5 = 10\n",
            "2 * 6 = 12\n",
            "2 * 7 = 14\n",
            "2 * 8 = 16\n",
            "2 * 9 = 18\n",
            "2 * 10 = 20\n",
            "Digite um número: 2\n",
            "Escolha o tipo de tabuada para esse número:\n",
            "[1]Adição        [2]Subtração\n",
            "[3]Multiplicação [4]Divisão\n",
            "[5]Encerrar programa   Escolha: 4\n",
            "2 / 1 = 2.0\n",
            "2 / 2 = 1.0\n",
            "2 / 3 = 0.6666666666666666\n",
            "2 / 4 = 0.5\n",
            "2 / 5 = 0.4\n",
            "2 / 6 = 0.3333333333333333\n",
            "2 / 7 = 0.2857142857142857\n",
            "2 / 8 = 0.25\n",
            "2 / 9 = 0.2222222222222222\n",
            "2 / 10 = 0.2\n",
            "Digite um número: 1\n",
            "Escolha o tipo de tabuada para esse número:\n",
            "[1]Adição        [2]Subtração\n",
            "[3]Multiplicação [4]Divisão\n",
            "[5]Encerrar programa   Escolha: 5\n",
            "Programa encerrado.\n"
          ]
        }
      ]
    },
    {
      "cell_type": "code",
      "source": [
        "#Exercicio 23\n",
        "#Nome: Rafael Henrique\n",
        "#Prof: Jose Fernando\n",
        "nume = 0\n",
        "primo = 0\n",
        "divi = 0\n",
        "veri = 0\n",
        "nume = int(input(\"Digite um numero para verificar se ele é primo: \"))\n",
        "divi = nume\n",
        "while divi>2:\n",
        " divi = divi - 1\n",
        " veri = nume % divi\n",
        " if veri==0:\n",
        "  primo = 1\n",
        "  divi = 1\n",
        "if primo == 0:\n",
        "  print(\"Esse numero é primo.\")\n",
        "elif primo == 1:\n",
        "  print(\"Esse numero não é primo.\")"
      ],
      "metadata": {
        "colab": {
          "base_uri": "https://localhost:8080/"
        },
        "id": "R0Bogs3ypgbp",
        "outputId": "e4e31a30-c964-4aad-a92f-a8e921150333"
      },
      "execution_count": null,
      "outputs": [
        {
          "output_type": "stream",
          "name": "stdout",
          "text": [
            "Digite um numero para verificar se ele é primo: 53\n",
            "Esse numero é primo.\n"
          ]
        }
      ]
    },
    {
      "cell_type": "code",
      "source": [
        "#Exercicio 24\n",
        "#Nome: Rafael Henrique\n",
        "#Prof: Jose Fernando\n",
        "nume = 2\n",
        "primo = 0\n",
        "divi = 0\n",
        "veri = 0\n",
        "total = 0\n",
        "qnts = 0\n",
        "qnts = int(input(\"Quantos números primos deseja saber em ordem crescente: \"))\n",
        "while qnts > total:\n",
        "  primo = 0\n",
        "  divi = nume\n",
        "  while divi>2:\n",
        "   divi = divi - 1\n",
        "   veri = nume % divi\n",
        "   if veri==0:\n",
        "    primo = 1\n",
        "    divi = 1\n",
        "  if primo == 0:\n",
        "    print(nume, \"é primo.\")\n",
        "    total = total + 1\n",
        "  nume = nume + 1"
      ],
      "metadata": {
        "colab": {
          "base_uri": "https://localhost:8080/"
        },
        "id": "nllWCfqTqqqZ",
        "outputId": "7605cdf3-a0e6-4ae2-f90b-b28300e60d79"
      },
      "execution_count": null,
      "outputs": [
        {
          "output_type": "stream",
          "name": "stdout",
          "text": [
            "Quantos números primos deseja saber em ordem crescente: 10\n",
            "2 é primo.\n",
            "3 é primo.\n",
            "5 é primo.\n",
            "7 é primo.\n",
            "11 é primo.\n",
            "13 é primo.\n",
            "17 é primo.\n",
            "19 é primo.\n",
            "23 é primo.\n",
            "29 é primo.\n"
          ]
        }
      ]
    },
    {
      "cell_type": "code",
      "source": [
        "#Exercício 25\n",
        "#Nome: Rafael Henrique\n",
        "#Prof: Jose Fernando\n",
        "nume = 0\n",
        "nume = int(input(\"Digite um número para calcular sua raiz quadrada: \"))\n",
        "print(nume**0.5)"
      ],
      "metadata": {
        "colab": {
          "base_uri": "https://localhost:8080/"
        },
        "id": "MJGuUwXlsN2B",
        "outputId": "22293b5d-90e3-4e06-e11f-543f9924e62b"
      },
      "execution_count": null,
      "outputs": [
        {
          "output_type": "stream",
          "name": "stdout",
          "text": [
            "Digite um número para calcular sua raiz quadrada: 9\n",
            "3.0\n"
          ]
        }
      ]
    },
    {
      "cell_type": "code",
      "source": [
        "#Exercício 26\n",
        "#Nome: Rafael Henrique\n",
        "#Prof: Jose Fernando\n",
        "nume1 = 0\n",
        "nume2 = 0\n",
        "nume1 = int(input(\"Digite o primeiro número da divisão: \"))\n",
        "nume2 = int(input(\"Digite o segundo número da divisão: \"))\n",
        "while nume1 >= nume2:\n",
        "  nume1 = nume1 - nume2\n",
        "print(nume1,\"é o resto dessa divisão.\")"
      ],
      "metadata": {
        "colab": {
          "base_uri": "https://localhost:8080/"
        },
        "id": "U41qsqe5s54w",
        "outputId": "b26cd36c-d8dd-4365-a516-9f7c33ec28b5"
      },
      "execution_count": null,
      "outputs": [
        {
          "output_type": "stream",
          "name": "stdout",
          "text": [
            "Digite o primeiro número da divisão: 15\n",
            "Digite o segundo número da divisão: 6\n",
            "3 é o resto dessa divisão.\n"
          ]
        }
      ]
    },
    {
      "cell_type": "code",
      "source": [
        "#Exercício 27\n",
        "#Nome: Rafael Henrique\n",
        "#Prof: Jose Fernando\n",
        "nume = \"\"\n",
        "inver = \"\"\n",
        "nume = str(input(\"Digite um número: \"))\n",
        "for x in nume:\n",
        "  inver = x + inver\n",
        "if nume == inver:\n",
        "  print(\"Esse número é um palíndromo.\")\n",
        "else:\n",
        "  print(\"Esse número não é um palíndromo.\")"
      ],
      "metadata": {
        "id": "kUvwzOJ_tw_5"
      },
      "execution_count": null,
      "outputs": []
    }
  ]
}